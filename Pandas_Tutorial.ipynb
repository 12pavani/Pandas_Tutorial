{
 "cells": [
  {
   "cell_type": "markdown",
   "id": "8a3eeed8-27f5-4702-86ee-ac66c4db93c5",
   "metadata": {},
   "source": [
    "# Welcome to Pandas World"
   ]
  },
  {
   "cell_type": "code",
   "execution_count": 2,
   "id": "0fd57fca-926a-40e3-9e4c-ee4160a96400",
   "metadata": {},
   "outputs": [],
   "source": [
    "import numpy as np\n",
    "import pandas as pd"
   ]
  },
  {
   "cell_type": "code",
   "execution_count": 3,
   "id": "a22590c2-c136-4483-8d15-40086bbf7048",
   "metadata": {},
   "outputs": [],
   "source": [
    "dict1 = {\n",
    "    \"name\": ['ramesh', 'laxmi', 'bhuvan', 'shubh'],\n",
    "    \"marks\": [92, 98, 98, 96],\n",
    "    \"city\": ['Hyderabad', 'Mumbai', 'Rajesthan', 'Assam']\n",
    "}"
   ]
  },
  {
   "cell_type": "code",
   "execution_count": 4,
   "id": "20bbc6aa-8bcb-4bc9-a7fb-63ee0cdace15",
   "metadata": {},
   "outputs": [],
   "source": [
    "df = pd.DataFrame(dict1)"
   ]
  },
  {
   "cell_type": "code",
   "execution_count": 5,
   "id": "fd58f851-1239-41d5-a3e7-48dd4ecd5bab",
   "metadata": {},
   "outputs": [
    {
     "data": {
      "text/html": [
       "<div>\n",
       "<style scoped>\n",
       "    .dataframe tbody tr th:only-of-type {\n",
       "        vertical-align: middle;\n",
       "    }\n",
       "\n",
       "    .dataframe tbody tr th {\n",
       "        vertical-align: top;\n",
       "    }\n",
       "\n",
       "    .dataframe thead th {\n",
       "        text-align: right;\n",
       "    }\n",
       "</style>\n",
       "<table border=\"1\" class=\"dataframe\">\n",
       "  <thead>\n",
       "    <tr style=\"text-align: right;\">\n",
       "      <th></th>\n",
       "      <th>name</th>\n",
       "      <th>marks</th>\n",
       "      <th>city</th>\n",
       "    </tr>\n",
       "  </thead>\n",
       "  <tbody>\n",
       "    <tr>\n",
       "      <th>0</th>\n",
       "      <td>ramesh</td>\n",
       "      <td>92</td>\n",
       "      <td>Hyderabad</td>\n",
       "    </tr>\n",
       "    <tr>\n",
       "      <th>1</th>\n",
       "      <td>laxmi</td>\n",
       "      <td>98</td>\n",
       "      <td>Mumbai</td>\n",
       "    </tr>\n",
       "    <tr>\n",
       "      <th>2</th>\n",
       "      <td>bhuvan</td>\n",
       "      <td>98</td>\n",
       "      <td>Rajesthan</td>\n",
       "    </tr>\n",
       "    <tr>\n",
       "      <th>3</th>\n",
       "      <td>shubh</td>\n",
       "      <td>96</td>\n",
       "      <td>Assam</td>\n",
       "    </tr>\n",
       "  </tbody>\n",
       "</table>\n",
       "</div>"
      ],
      "text/plain": [
       "     name  marks       city\n",
       "0  ramesh     92  Hyderabad\n",
       "1   laxmi     98     Mumbai\n",
       "2  bhuvan     98  Rajesthan\n",
       "3   shubh     96      Assam"
      ]
     },
     "execution_count": 5,
     "metadata": {},
     "output_type": "execute_result"
    }
   ],
   "source": [
    "df"
   ]
  },
  {
   "cell_type": "code",
   "execution_count": 6,
   "id": "7410380a-4424-483b-a19c-f243ad4e5316",
   "metadata": {},
   "outputs": [],
   "source": [
    "# want to export this data in csv file"
   ]
  },
  {
   "cell_type": "code",
   "execution_count": 7,
   "id": "9bc82b5f-a583-488c-917b-0260b913ff73",
   "metadata": {},
   "outputs": [],
   "source": [
    "df.to_csv('family.csv')"
   ]
  },
  {
   "cell_type": "code",
   "execution_count": 8,
   "id": "3be3c31b-efef-4e0b-a8bc-42b8ab23fdb1",
   "metadata": {},
   "outputs": [],
   "source": [
    "# don't want keys i.e., 0, 1, 2, ..."
   ]
  },
  {
   "cell_type": "code",
   "execution_count": 9,
   "id": "615c47ea-4684-4308-8453-5cc1ec34ec86",
   "metadata": {},
   "outputs": [],
   "source": [
    "df.to_csv('family_index.csv', index=False)"
   ]
  },
  {
   "cell_type": "code",
   "execution_count": 10,
   "id": "3b3b8da9-ee16-4388-94bc-b4dfb7b29623",
   "metadata": {},
   "outputs": [],
   "source": [
    "# index means row here"
   ]
  },
  {
   "cell_type": "code",
   "execution_count": 11,
   "id": "7c59e7a0-fb84-418a-9c8f-e9efb44f7e85",
   "metadata": {},
   "outputs": [],
   "source": [
    "# want specific no. of rows"
   ]
  },
  {
   "cell_type": "code",
   "execution_count": 12,
   "id": "ed984097-eff7-43cf-90a7-155785326335",
   "metadata": {},
   "outputs": [
    {
     "data": {
      "text/html": [
       "<div>\n",
       "<style scoped>\n",
       "    .dataframe tbody tr th:only-of-type {\n",
       "        vertical-align: middle;\n",
       "    }\n",
       "\n",
       "    .dataframe tbody tr th {\n",
       "        vertical-align: top;\n",
       "    }\n",
       "\n",
       "    .dataframe thead th {\n",
       "        text-align: right;\n",
       "    }\n",
       "</style>\n",
       "<table border=\"1\" class=\"dataframe\">\n",
       "  <thead>\n",
       "    <tr style=\"text-align: right;\">\n",
       "      <th></th>\n",
       "      <th>name</th>\n",
       "      <th>marks</th>\n",
       "      <th>city</th>\n",
       "    </tr>\n",
       "  </thead>\n",
       "  <tbody>\n",
       "    <tr>\n",
       "      <th>0</th>\n",
       "      <td>ramesh</td>\n",
       "      <td>92</td>\n",
       "      <td>Hyderabad</td>\n",
       "    </tr>\n",
       "    <tr>\n",
       "      <th>1</th>\n",
       "      <td>laxmi</td>\n",
       "      <td>98</td>\n",
       "      <td>Mumbai</td>\n",
       "    </tr>\n",
       "  </tbody>\n",
       "</table>\n",
       "</div>"
      ],
      "text/plain": [
       "     name  marks       city\n",
       "0  ramesh     92  Hyderabad\n",
       "1   laxmi     98     Mumbai"
      ]
     },
     "execution_count": 12,
     "metadata": {},
     "output_type": "execute_result"
    }
   ],
   "source": [
    "df.head(2)"
   ]
  },
  {
   "cell_type": "code",
   "execution_count": 13,
   "id": "66b5d6da-8f9b-40f3-8152-20d0e05d0c7d",
   "metadata": {},
   "outputs": [
    {
     "data": {
      "text/html": [
       "<div>\n",
       "<style scoped>\n",
       "    .dataframe tbody tr th:only-of-type {\n",
       "        vertical-align: middle;\n",
       "    }\n",
       "\n",
       "    .dataframe tbody tr th {\n",
       "        vertical-align: top;\n",
       "    }\n",
       "\n",
       "    .dataframe thead th {\n",
       "        text-align: right;\n",
       "    }\n",
       "</style>\n",
       "<table border=\"1\" class=\"dataframe\">\n",
       "  <thead>\n",
       "    <tr style=\"text-align: right;\">\n",
       "      <th></th>\n",
       "      <th>name</th>\n",
       "      <th>marks</th>\n",
       "      <th>city</th>\n",
       "    </tr>\n",
       "  </thead>\n",
       "  <tbody>\n",
       "    <tr>\n",
       "      <th>2</th>\n",
       "      <td>bhuvan</td>\n",
       "      <td>98</td>\n",
       "      <td>Rajesthan</td>\n",
       "    </tr>\n",
       "    <tr>\n",
       "      <th>3</th>\n",
       "      <td>shubh</td>\n",
       "      <td>96</td>\n",
       "      <td>Assam</td>\n",
       "    </tr>\n",
       "  </tbody>\n",
       "</table>\n",
       "</div>"
      ],
      "text/plain": [
       "     name  marks       city\n",
       "2  bhuvan     98  Rajesthan\n",
       "3   shubh     96      Assam"
      ]
     },
     "execution_count": 13,
     "metadata": {},
     "output_type": "execute_result"
    }
   ],
   "source": [
    "df.tail(2)"
   ]
  },
  {
   "cell_type": "code",
   "execution_count": 14,
   "id": "5269da7f-468c-4be8-a66f-499d761e7761",
   "metadata": {},
   "outputs": [],
   "source": [
    "# describe the numerical column (statistical analysis)"
   ]
  },
  {
   "cell_type": "code",
   "execution_count": 15,
   "id": "ff0e63f4-1468-4b8b-9d90-794642cfd3cc",
   "metadata": {},
   "outputs": [
    {
     "data": {
      "text/html": [
       "<div>\n",
       "<style scoped>\n",
       "    .dataframe tbody tr th:only-of-type {\n",
       "        vertical-align: middle;\n",
       "    }\n",
       "\n",
       "    .dataframe tbody tr th {\n",
       "        vertical-align: top;\n",
       "    }\n",
       "\n",
       "    .dataframe thead th {\n",
       "        text-align: right;\n",
       "    }\n",
       "</style>\n",
       "<table border=\"1\" class=\"dataframe\">\n",
       "  <thead>\n",
       "    <tr style=\"text-align: right;\">\n",
       "      <th></th>\n",
       "      <th>marks</th>\n",
       "    </tr>\n",
       "  </thead>\n",
       "  <tbody>\n",
       "    <tr>\n",
       "      <th>count</th>\n",
       "      <td>4.000000</td>\n",
       "    </tr>\n",
       "    <tr>\n",
       "      <th>mean</th>\n",
       "      <td>96.000000</td>\n",
       "    </tr>\n",
       "    <tr>\n",
       "      <th>std</th>\n",
       "      <td>2.828427</td>\n",
       "    </tr>\n",
       "    <tr>\n",
       "      <th>min</th>\n",
       "      <td>92.000000</td>\n",
       "    </tr>\n",
       "    <tr>\n",
       "      <th>25%</th>\n",
       "      <td>95.000000</td>\n",
       "    </tr>\n",
       "    <tr>\n",
       "      <th>50%</th>\n",
       "      <td>97.000000</td>\n",
       "    </tr>\n",
       "    <tr>\n",
       "      <th>75%</th>\n",
       "      <td>98.000000</td>\n",
       "    </tr>\n",
       "    <tr>\n",
       "      <th>max</th>\n",
       "      <td>98.000000</td>\n",
       "    </tr>\n",
       "  </tbody>\n",
       "</table>\n",
       "</div>"
      ],
      "text/plain": [
       "           marks\n",
       "count   4.000000\n",
       "mean   96.000000\n",
       "std     2.828427\n",
       "min    92.000000\n",
       "25%    95.000000\n",
       "50%    97.000000\n",
       "75%    98.000000\n",
       "max    98.000000"
      ]
     },
     "execution_count": 15,
     "metadata": {},
     "output_type": "execute_result"
    }
   ],
   "source": [
    "df.describe()"
   ]
  },
  {
   "cell_type": "code",
   "execution_count": 16,
   "id": "c14211c4-f9ba-46a2-9eed-bc06f2dd3911",
   "metadata": {},
   "outputs": [],
   "source": [
    "dict2 = {\n",
    "    \"Train No.\": ['1233', '1456', '7812', '9034'],\n",
    "    \"Speed\": [123, 345, 567, 789],\n",
    "    \"City\": ['Jaipur', 'Raipur', 'Hyderabad', 'Nizamabad']\n",
    "}"
   ]
  },
  {
   "cell_type": "code",
   "execution_count": 17,
   "id": "6e132988-2da2-4e21-bf10-68f52480670b",
   "metadata": {},
   "outputs": [],
   "source": [
    "df2 = pd.DataFrame(dict2)"
   ]
  },
  {
   "cell_type": "code",
   "execution_count": 18,
   "id": "22543cfc-c7a6-463f-a490-c76c70bf8e48",
   "metadata": {},
   "outputs": [
    {
     "data": {
      "text/html": [
       "<div>\n",
       "<style scoped>\n",
       "    .dataframe tbody tr th:only-of-type {\n",
       "        vertical-align: middle;\n",
       "    }\n",
       "\n",
       "    .dataframe tbody tr th {\n",
       "        vertical-align: top;\n",
       "    }\n",
       "\n",
       "    .dataframe thead th {\n",
       "        text-align: right;\n",
       "    }\n",
       "</style>\n",
       "<table border=\"1\" class=\"dataframe\">\n",
       "  <thead>\n",
       "    <tr style=\"text-align: right;\">\n",
       "      <th></th>\n",
       "      <th>Train No.</th>\n",
       "      <th>Speed</th>\n",
       "      <th>City</th>\n",
       "    </tr>\n",
       "  </thead>\n",
       "  <tbody>\n",
       "    <tr>\n",
       "      <th>0</th>\n",
       "      <td>1233</td>\n",
       "      <td>123</td>\n",
       "      <td>Jaipur</td>\n",
       "    </tr>\n",
       "    <tr>\n",
       "      <th>1</th>\n",
       "      <td>1456</td>\n",
       "      <td>345</td>\n",
       "      <td>Raipur</td>\n",
       "    </tr>\n",
       "    <tr>\n",
       "      <th>2</th>\n",
       "      <td>7812</td>\n",
       "      <td>567</td>\n",
       "      <td>Hyderabad</td>\n",
       "    </tr>\n",
       "    <tr>\n",
       "      <th>3</th>\n",
       "      <td>9034</td>\n",
       "      <td>789</td>\n",
       "      <td>Nizamabad</td>\n",
       "    </tr>\n",
       "  </tbody>\n",
       "</table>\n",
       "</div>"
      ],
      "text/plain": [
       "  Train No.  Speed       City\n",
       "0      1233    123     Jaipur\n",
       "1      1456    345     Raipur\n",
       "2      7812    567  Hyderabad\n",
       "3      9034    789  Nizamabad"
      ]
     },
     "execution_count": 18,
     "metadata": {},
     "output_type": "execute_result"
    }
   ],
   "source": [
    "df2"
   ]
  },
  {
   "cell_type": "code",
   "execution_count": 19,
   "id": "601cc386-6f72-40cf-a332-0aa384873c48",
   "metadata": {},
   "outputs": [],
   "source": [
    "df2.to_csv('train_detail.csv', index=False)"
   ]
  },
  {
   "cell_type": "code",
   "execution_count": 20,
   "id": "fc5bf057-4c0d-4b4d-a575-08dec0d84bff",
   "metadata": {},
   "outputs": [],
   "source": [
    "df2 = pd.read_csv('train_detail.csv')"
   ]
  },
  {
   "cell_type": "code",
   "execution_count": 21,
   "id": "b7097e77-3792-47e9-90b5-4aa59cf2a22e",
   "metadata": {},
   "outputs": [
    {
     "data": {
      "text/html": [
       "<div>\n",
       "<style scoped>\n",
       "    .dataframe tbody tr th:only-of-type {\n",
       "        vertical-align: middle;\n",
       "    }\n",
       "\n",
       "    .dataframe tbody tr th {\n",
       "        vertical-align: top;\n",
       "    }\n",
       "\n",
       "    .dataframe thead th {\n",
       "        text-align: right;\n",
       "    }\n",
       "</style>\n",
       "<table border=\"1\" class=\"dataframe\">\n",
       "  <thead>\n",
       "    <tr style=\"text-align: right;\">\n",
       "      <th></th>\n",
       "      <th>Train No.</th>\n",
       "      <th>Speed</th>\n",
       "      <th>City</th>\n",
       "    </tr>\n",
       "  </thead>\n",
       "  <tbody>\n",
       "    <tr>\n",
       "      <th>0</th>\n",
       "      <td>1233</td>\n",
       "      <td>123</td>\n",
       "      <td>Jaipur</td>\n",
       "    </tr>\n",
       "    <tr>\n",
       "      <th>1</th>\n",
       "      <td>1456</td>\n",
       "      <td>345</td>\n",
       "      <td>Raipur</td>\n",
       "    </tr>\n",
       "    <tr>\n",
       "      <th>2</th>\n",
       "      <td>7812</td>\n",
       "      <td>567</td>\n",
       "      <td>Hyderabad</td>\n",
       "    </tr>\n",
       "    <tr>\n",
       "      <th>3</th>\n",
       "      <td>9034</td>\n",
       "      <td>789</td>\n",
       "      <td>Nizamabad</td>\n",
       "    </tr>\n",
       "  </tbody>\n",
       "</table>\n",
       "</div>"
      ],
      "text/plain": [
       "   Train No.  Speed       City\n",
       "0       1233    123     Jaipur\n",
       "1       1456    345     Raipur\n",
       "2       7812    567  Hyderabad\n",
       "3       9034    789  Nizamabad"
      ]
     },
     "execution_count": 21,
     "metadata": {},
     "output_type": "execute_result"
    }
   ],
   "source": [
    "df2"
   ]
  },
  {
   "cell_type": "code",
   "execution_count": 22,
   "id": "db48858b-70f7-4d8c-aed3-e5e92384b0a8",
   "metadata": {},
   "outputs": [
    {
     "data": {
      "text/plain": [
       "0    123\n",
       "1    345\n",
       "2    567\n",
       "3    789\n",
       "Name: Speed, dtype: int64"
      ]
     },
     "execution_count": 22,
     "metadata": {},
     "output_type": "execute_result"
    }
   ],
   "source": [
    "df2['Speed']"
   ]
  },
  {
   "cell_type": "code",
   "execution_count": 23,
   "id": "649cd80b-e4ba-4abb-ae40-2ffe364832ce",
   "metadata": {},
   "outputs": [
    {
     "data": {
      "text/plain": [
       "567"
      ]
     },
     "execution_count": 23,
     "metadata": {},
     "output_type": "execute_result"
    }
   ],
   "source": [
    "df2['Speed'][2]"
   ]
  },
  {
   "cell_type": "code",
   "execution_count": 24,
   "id": "74371cc5-303e-456c-87c2-0ada99bd82d1",
   "metadata": {},
   "outputs": [
    {
     "name": "stderr",
     "output_type": "stream",
     "text": [
      "/var/folders/cx/6fm42bl13kxc0txpzrxqkp0m0000gn/T/ipykernel_9283/878134673.py:1: SettingWithCopyWarning: \n",
      "A value is trying to be set on a copy of a slice from a DataFrame\n",
      "\n",
      "See the caveats in the documentation: https://pandas.pydata.org/pandas-docs/stable/user_guide/indexing.html#returning-a-view-versus-a-copy\n",
      "  df2['Speed'][2] = 50\n"
     ]
    }
   ],
   "source": [
    "df2['Speed'][2] = 50"
   ]
  },
  {
   "cell_type": "code",
   "execution_count": 25,
   "id": "0a8139c9-d642-4d2f-81db-d6eefdebf34f",
   "metadata": {},
   "outputs": [
    {
     "data": {
      "text/html": [
       "<div>\n",
       "<style scoped>\n",
       "    .dataframe tbody tr th:only-of-type {\n",
       "        vertical-align: middle;\n",
       "    }\n",
       "\n",
       "    .dataframe tbody tr th {\n",
       "        vertical-align: top;\n",
       "    }\n",
       "\n",
       "    .dataframe thead th {\n",
       "        text-align: right;\n",
       "    }\n",
       "</style>\n",
       "<table border=\"1\" class=\"dataframe\">\n",
       "  <thead>\n",
       "    <tr style=\"text-align: right;\">\n",
       "      <th></th>\n",
       "      <th>Train No.</th>\n",
       "      <th>Speed</th>\n",
       "      <th>City</th>\n",
       "    </tr>\n",
       "  </thead>\n",
       "  <tbody>\n",
       "    <tr>\n",
       "      <th>0</th>\n",
       "      <td>1233</td>\n",
       "      <td>123</td>\n",
       "      <td>Jaipur</td>\n",
       "    </tr>\n",
       "    <tr>\n",
       "      <th>1</th>\n",
       "      <td>1456</td>\n",
       "      <td>345</td>\n",
       "      <td>Raipur</td>\n",
       "    </tr>\n",
       "    <tr>\n",
       "      <th>2</th>\n",
       "      <td>7812</td>\n",
       "      <td>50</td>\n",
       "      <td>Hyderabad</td>\n",
       "    </tr>\n",
       "    <tr>\n",
       "      <th>3</th>\n",
       "      <td>9034</td>\n",
       "      <td>789</td>\n",
       "      <td>Nizamabad</td>\n",
       "    </tr>\n",
       "  </tbody>\n",
       "</table>\n",
       "</div>"
      ],
      "text/plain": [
       "   Train No.  Speed       City\n",
       "0       1233    123     Jaipur\n",
       "1       1456    345     Raipur\n",
       "2       7812     50  Hyderabad\n",
       "3       9034    789  Nizamabad"
      ]
     },
     "execution_count": 25,
     "metadata": {},
     "output_type": "execute_result"
    }
   ],
   "source": [
    "df2"
   ]
  },
  {
   "cell_type": "code",
   "execution_count": 26,
   "id": "988f27e1-b351-4862-9134-2dabc34f53fc",
   "metadata": {},
   "outputs": [],
   "source": [
    "df2.to_csv('train_detail.csv', index = False)"
   ]
  },
  {
   "cell_type": "code",
   "execution_count": 27,
   "id": "4f15fd39-8663-453c-af13-bdf68006bd4b",
   "metadata": {},
   "outputs": [],
   "source": [
    "# want to change the index "
   ]
  },
  {
   "cell_type": "code",
   "execution_count": 28,
   "id": "bac20a66-634c-4177-a977-8c93fcc9460f",
   "metadata": {},
   "outputs": [],
   "source": [
    "df2.index = ['I', 'II', 'III', 'IV']"
   ]
  },
  {
   "cell_type": "code",
   "execution_count": 29,
   "id": "fec50ca6-02d4-4cc8-b6c8-51a9b1e8b677",
   "metadata": {},
   "outputs": [
    {
     "data": {
      "text/html": [
       "<div>\n",
       "<style scoped>\n",
       "    .dataframe tbody tr th:only-of-type {\n",
       "        vertical-align: middle;\n",
       "    }\n",
       "\n",
       "    .dataframe tbody tr th {\n",
       "        vertical-align: top;\n",
       "    }\n",
       "\n",
       "    .dataframe thead th {\n",
       "        text-align: right;\n",
       "    }\n",
       "</style>\n",
       "<table border=\"1\" class=\"dataframe\">\n",
       "  <thead>\n",
       "    <tr style=\"text-align: right;\">\n",
       "      <th></th>\n",
       "      <th>Train No.</th>\n",
       "      <th>Speed</th>\n",
       "      <th>City</th>\n",
       "    </tr>\n",
       "  </thead>\n",
       "  <tbody>\n",
       "    <tr>\n",
       "      <th>I</th>\n",
       "      <td>1233</td>\n",
       "      <td>123</td>\n",
       "      <td>Jaipur</td>\n",
       "    </tr>\n",
       "    <tr>\n",
       "      <th>II</th>\n",
       "      <td>1456</td>\n",
       "      <td>345</td>\n",
       "      <td>Raipur</td>\n",
       "    </tr>\n",
       "    <tr>\n",
       "      <th>III</th>\n",
       "      <td>7812</td>\n",
       "      <td>50</td>\n",
       "      <td>Hyderabad</td>\n",
       "    </tr>\n",
       "    <tr>\n",
       "      <th>IV</th>\n",
       "      <td>9034</td>\n",
       "      <td>789</td>\n",
       "      <td>Nizamabad</td>\n",
       "    </tr>\n",
       "  </tbody>\n",
       "</table>\n",
       "</div>"
      ],
      "text/plain": [
       "     Train No.  Speed       City\n",
       "I         1233    123     Jaipur\n",
       "II        1456    345     Raipur\n",
       "III       7812     50  Hyderabad\n",
       "IV        9034    789  Nizamabad"
      ]
     },
     "execution_count": 29,
     "metadata": {},
     "output_type": "execute_result"
    }
   ],
   "source": [
    "df2"
   ]
  },
  {
   "cell_type": "code",
   "execution_count": 30,
   "id": "8dd54b14-0984-4125-bff9-933fdfbaa559",
   "metadata": {},
   "outputs": [],
   "source": [
    "# to access row we have index, and to access column we have column name"
   ]
  },
  {
   "cell_type": "markdown",
   "id": "51f0e235-641c-4278-8f50-b68943de6e56",
   "metadata": {},
   "source": [
    "# Series and DataFrame"
   ]
  },
  {
   "cell_type": "code",
   "execution_count": 32,
   "id": "d38c0b76-7ff2-4a96-857b-0d4a98a9d771",
   "metadata": {},
   "outputs": [],
   "source": [
    "ser = pd.Series(np.random.rand(34))"
   ]
  },
  {
   "cell_type": "code",
   "execution_count": 33,
   "id": "a033d2b6-98e8-4de7-99ea-5a56bc00eff7",
   "metadata": {},
   "outputs": [
    {
     "data": {
      "text/plain": [
       "0     0.029415\n",
       "1     0.445294\n",
       "2     0.347228\n",
       "3     0.826911\n",
       "4     0.294198\n",
       "5     0.815837\n",
       "6     0.219142\n",
       "7     0.579826\n",
       "8     0.896769\n",
       "9     0.610227\n",
       "10    0.921470\n",
       "11    0.558511\n",
       "12    0.225117\n",
       "13    0.730199\n",
       "14    0.310100\n",
       "15    0.568742\n",
       "16    0.916981\n",
       "17    0.486462\n",
       "18    0.035897\n",
       "19    0.341398\n",
       "20    0.756359\n",
       "21    0.466747\n",
       "22    0.731639\n",
       "23    0.813131\n",
       "24    0.090347\n",
       "25    0.512317\n",
       "26    0.366532\n",
       "27    0.450983\n",
       "28    0.758811\n",
       "29    0.245689\n",
       "30    0.955271\n",
       "31    0.738798\n",
       "32    0.034359\n",
       "33    0.737561\n",
       "dtype: float64"
      ]
     },
     "execution_count": 33,
     "metadata": {},
     "output_type": "execute_result"
    }
   ],
   "source": [
    "ser"
   ]
  },
  {
   "cell_type": "code",
   "execution_count": 34,
   "id": "7f4f8ee7-50f3-4660-ba53-21228af0840c",
   "metadata": {},
   "outputs": [
    {
     "data": {
      "text/plain": [
       "pandas.core.series.Series"
      ]
     },
     "execution_count": 34,
     "metadata": {},
     "output_type": "execute_result"
    }
   ],
   "source": [
    "type(ser)"
   ]
  },
  {
   "cell_type": "code",
   "execution_count": 35,
   "id": "e3b3de4b-38a8-4fa9-873d-133e8ee75dff",
   "metadata": {},
   "outputs": [],
   "source": [
    "newdf = pd.DataFrame(np.random.rand(334, 5), index=np.arange(334))"
   ]
  },
  {
   "cell_type": "code",
   "execution_count": 36,
   "id": "b9fc0d6d-1872-42fd-9783-eefbf85ca5a5",
   "metadata": {},
   "outputs": [
    {
     "data": {
      "text/html": [
       "<div>\n",
       "<style scoped>\n",
       "    .dataframe tbody tr th:only-of-type {\n",
       "        vertical-align: middle;\n",
       "    }\n",
       "\n",
       "    .dataframe tbody tr th {\n",
       "        vertical-align: top;\n",
       "    }\n",
       "\n",
       "    .dataframe thead th {\n",
       "        text-align: right;\n",
       "    }\n",
       "</style>\n",
       "<table border=\"1\" class=\"dataframe\">\n",
       "  <thead>\n",
       "    <tr style=\"text-align: right;\">\n",
       "      <th></th>\n",
       "      <th>0</th>\n",
       "      <th>1</th>\n",
       "      <th>2</th>\n",
       "      <th>3</th>\n",
       "      <th>4</th>\n",
       "    </tr>\n",
       "  </thead>\n",
       "  <tbody>\n",
       "    <tr>\n",
       "      <th>0</th>\n",
       "      <td>0.882146</td>\n",
       "      <td>0.685744</td>\n",
       "      <td>0.718646</td>\n",
       "      <td>0.472823</td>\n",
       "      <td>0.056659</td>\n",
       "    </tr>\n",
       "    <tr>\n",
       "      <th>1</th>\n",
       "      <td>0.445046</td>\n",
       "      <td>0.473095</td>\n",
       "      <td>0.529301</td>\n",
       "      <td>0.998817</td>\n",
       "      <td>0.539899</td>\n",
       "    </tr>\n",
       "    <tr>\n",
       "      <th>2</th>\n",
       "      <td>0.289870</td>\n",
       "      <td>0.358754</td>\n",
       "      <td>0.642537</td>\n",
       "      <td>0.584303</td>\n",
       "      <td>0.658858</td>\n",
       "    </tr>\n",
       "    <tr>\n",
       "      <th>3</th>\n",
       "      <td>0.449842</td>\n",
       "      <td>0.902752</td>\n",
       "      <td>0.900132</td>\n",
       "      <td>0.587367</td>\n",
       "      <td>0.786077</td>\n",
       "    </tr>\n",
       "    <tr>\n",
       "      <th>4</th>\n",
       "      <td>0.095519</td>\n",
       "      <td>0.695115</td>\n",
       "      <td>0.181204</td>\n",
       "      <td>0.182598</td>\n",
       "      <td>0.599283</td>\n",
       "    </tr>\n",
       "    <tr>\n",
       "      <th>...</th>\n",
       "      <td>...</td>\n",
       "      <td>...</td>\n",
       "      <td>...</td>\n",
       "      <td>...</td>\n",
       "      <td>...</td>\n",
       "    </tr>\n",
       "    <tr>\n",
       "      <th>329</th>\n",
       "      <td>0.939899</td>\n",
       "      <td>0.459315</td>\n",
       "      <td>0.987056</td>\n",
       "      <td>0.266177</td>\n",
       "      <td>0.590471</td>\n",
       "    </tr>\n",
       "    <tr>\n",
       "      <th>330</th>\n",
       "      <td>0.102026</td>\n",
       "      <td>0.907161</td>\n",
       "      <td>0.646198</td>\n",
       "      <td>0.360035</td>\n",
       "      <td>0.487142</td>\n",
       "    </tr>\n",
       "    <tr>\n",
       "      <th>331</th>\n",
       "      <td>0.292785</td>\n",
       "      <td>0.612258</td>\n",
       "      <td>0.918227</td>\n",
       "      <td>0.428272</td>\n",
       "      <td>0.807383</td>\n",
       "    </tr>\n",
       "    <tr>\n",
       "      <th>332</th>\n",
       "      <td>0.736915</td>\n",
       "      <td>0.524694</td>\n",
       "      <td>0.741653</td>\n",
       "      <td>0.073751</td>\n",
       "      <td>0.985091</td>\n",
       "    </tr>\n",
       "    <tr>\n",
       "      <th>333</th>\n",
       "      <td>0.913930</td>\n",
       "      <td>0.117891</td>\n",
       "      <td>0.766152</td>\n",
       "      <td>0.123394</td>\n",
       "      <td>0.264716</td>\n",
       "    </tr>\n",
       "  </tbody>\n",
       "</table>\n",
       "<p>334 rows × 5 columns</p>\n",
       "</div>"
      ],
      "text/plain": [
       "            0         1         2         3         4\n",
       "0    0.882146  0.685744  0.718646  0.472823  0.056659\n",
       "1    0.445046  0.473095  0.529301  0.998817  0.539899\n",
       "2    0.289870  0.358754  0.642537  0.584303  0.658858\n",
       "3    0.449842  0.902752  0.900132  0.587367  0.786077\n",
       "4    0.095519  0.695115  0.181204  0.182598  0.599283\n",
       "..        ...       ...       ...       ...       ...\n",
       "329  0.939899  0.459315  0.987056  0.266177  0.590471\n",
       "330  0.102026  0.907161  0.646198  0.360035  0.487142\n",
       "331  0.292785  0.612258  0.918227  0.428272  0.807383\n",
       "332  0.736915  0.524694  0.741653  0.073751  0.985091\n",
       "333  0.913930  0.117891  0.766152  0.123394  0.264716\n",
       "\n",
       "[334 rows x 5 columns]"
      ]
     },
     "execution_count": 36,
     "metadata": {},
     "output_type": "execute_result"
    }
   ],
   "source": [
    "newdf"
   ]
  },
  {
   "cell_type": "code",
   "execution_count": 37,
   "id": "649ac2c7-e98b-4d8a-b64a-8265c05b9d99",
   "metadata": {},
   "outputs": [
    {
     "data": {
      "text/html": [
       "<div>\n",
       "<style scoped>\n",
       "    .dataframe tbody tr th:only-of-type {\n",
       "        vertical-align: middle;\n",
       "    }\n",
       "\n",
       "    .dataframe tbody tr th {\n",
       "        vertical-align: top;\n",
       "    }\n",
       "\n",
       "    .dataframe thead th {\n",
       "        text-align: right;\n",
       "    }\n",
       "</style>\n",
       "<table border=\"1\" class=\"dataframe\">\n",
       "  <thead>\n",
       "    <tr style=\"text-align: right;\">\n",
       "      <th></th>\n",
       "      <th>0</th>\n",
       "      <th>1</th>\n",
       "      <th>2</th>\n",
       "      <th>3</th>\n",
       "      <th>4</th>\n",
       "    </tr>\n",
       "  </thead>\n",
       "  <tbody>\n",
       "    <tr>\n",
       "      <th>0</th>\n",
       "      <td>0.882146</td>\n",
       "      <td>0.685744</td>\n",
       "      <td>0.718646</td>\n",
       "      <td>0.472823</td>\n",
       "      <td>0.056659</td>\n",
       "    </tr>\n",
       "    <tr>\n",
       "      <th>1</th>\n",
       "      <td>0.445046</td>\n",
       "      <td>0.473095</td>\n",
       "      <td>0.529301</td>\n",
       "      <td>0.998817</td>\n",
       "      <td>0.539899</td>\n",
       "    </tr>\n",
       "    <tr>\n",
       "      <th>2</th>\n",
       "      <td>0.289870</td>\n",
       "      <td>0.358754</td>\n",
       "      <td>0.642537</td>\n",
       "      <td>0.584303</td>\n",
       "      <td>0.658858</td>\n",
       "    </tr>\n",
       "    <tr>\n",
       "      <th>3</th>\n",
       "      <td>0.449842</td>\n",
       "      <td>0.902752</td>\n",
       "      <td>0.900132</td>\n",
       "      <td>0.587367</td>\n",
       "      <td>0.786077</td>\n",
       "    </tr>\n",
       "    <tr>\n",
       "      <th>4</th>\n",
       "      <td>0.095519</td>\n",
       "      <td>0.695115</td>\n",
       "      <td>0.181204</td>\n",
       "      <td>0.182598</td>\n",
       "      <td>0.599283</td>\n",
       "    </tr>\n",
       "  </tbody>\n",
       "</table>\n",
       "</div>"
      ],
      "text/plain": [
       "          0         1         2         3         4\n",
       "0  0.882146  0.685744  0.718646  0.472823  0.056659\n",
       "1  0.445046  0.473095  0.529301  0.998817  0.539899\n",
       "2  0.289870  0.358754  0.642537  0.584303  0.658858\n",
       "3  0.449842  0.902752  0.900132  0.587367  0.786077\n",
       "4  0.095519  0.695115  0.181204  0.182598  0.599283"
      ]
     },
     "execution_count": 37,
     "metadata": {},
     "output_type": "execute_result"
    }
   ],
   "source": [
    "newdf.head()"
   ]
  },
  {
   "cell_type": "code",
   "execution_count": 38,
   "id": "616eb149-0743-4b4b-904e-32aba68512e7",
   "metadata": {},
   "outputs": [
    {
     "data": {
      "text/plain": [
       "pandas.core.frame.DataFrame"
      ]
     },
     "execution_count": 38,
     "metadata": {},
     "output_type": "execute_result"
    }
   ],
   "source": [
    "type(newdf)"
   ]
  },
  {
   "cell_type": "code",
   "execution_count": 39,
   "id": "55317231-dc9a-482b-a40e-b208a9a9e4a5",
   "metadata": {},
   "outputs": [
    {
     "data": {
      "text/html": [
       "<div>\n",
       "<style scoped>\n",
       "    .dataframe tbody tr th:only-of-type {\n",
       "        vertical-align: middle;\n",
       "    }\n",
       "\n",
       "    .dataframe tbody tr th {\n",
       "        vertical-align: top;\n",
       "    }\n",
       "\n",
       "    .dataframe thead th {\n",
       "        text-align: right;\n",
       "    }\n",
       "</style>\n",
       "<table border=\"1\" class=\"dataframe\">\n",
       "  <thead>\n",
       "    <tr style=\"text-align: right;\">\n",
       "      <th></th>\n",
       "      <th>0</th>\n",
       "      <th>1</th>\n",
       "      <th>2</th>\n",
       "      <th>3</th>\n",
       "      <th>4</th>\n",
       "    </tr>\n",
       "  </thead>\n",
       "  <tbody>\n",
       "    <tr>\n",
       "      <th>count</th>\n",
       "      <td>334.000000</td>\n",
       "      <td>334.000000</td>\n",
       "      <td>334.000000</td>\n",
       "      <td>334.000000</td>\n",
       "      <td>334.000000</td>\n",
       "    </tr>\n",
       "    <tr>\n",
       "      <th>mean</th>\n",
       "      <td>0.526862</td>\n",
       "      <td>0.529738</td>\n",
       "      <td>0.517622</td>\n",
       "      <td>0.495216</td>\n",
       "      <td>0.510486</td>\n",
       "    </tr>\n",
       "    <tr>\n",
       "      <th>std</th>\n",
       "      <td>0.285558</td>\n",
       "      <td>0.292298</td>\n",
       "      <td>0.295582</td>\n",
       "      <td>0.280379</td>\n",
       "      <td>0.293920</td>\n",
       "    </tr>\n",
       "    <tr>\n",
       "      <th>min</th>\n",
       "      <td>0.003621</td>\n",
       "      <td>0.007134</td>\n",
       "      <td>0.001816</td>\n",
       "      <td>0.004198</td>\n",
       "      <td>0.000113</td>\n",
       "    </tr>\n",
       "    <tr>\n",
       "      <th>25%</th>\n",
       "      <td>0.289959</td>\n",
       "      <td>0.285087</td>\n",
       "      <td>0.257824</td>\n",
       "      <td>0.245748</td>\n",
       "      <td>0.259965</td>\n",
       "    </tr>\n",
       "    <tr>\n",
       "      <th>50%</th>\n",
       "      <td>0.545329</td>\n",
       "      <td>0.522588</td>\n",
       "      <td>0.523408</td>\n",
       "      <td>0.506907</td>\n",
       "      <td>0.519629</td>\n",
       "    </tr>\n",
       "    <tr>\n",
       "      <th>75%</th>\n",
       "      <td>0.770485</td>\n",
       "      <td>0.809212</td>\n",
       "      <td>0.769350</td>\n",
       "      <td>0.708046</td>\n",
       "      <td>0.779698</td>\n",
       "    </tr>\n",
       "    <tr>\n",
       "      <th>max</th>\n",
       "      <td>0.998633</td>\n",
       "      <td>0.998908</td>\n",
       "      <td>0.999861</td>\n",
       "      <td>0.998817</td>\n",
       "      <td>0.985091</td>\n",
       "    </tr>\n",
       "  </tbody>\n",
       "</table>\n",
       "</div>"
      ],
      "text/plain": [
       "                0           1           2           3           4\n",
       "count  334.000000  334.000000  334.000000  334.000000  334.000000\n",
       "mean     0.526862    0.529738    0.517622    0.495216    0.510486\n",
       "std      0.285558    0.292298    0.295582    0.280379    0.293920\n",
       "min      0.003621    0.007134    0.001816    0.004198    0.000113\n",
       "25%      0.289959    0.285087    0.257824    0.245748    0.259965\n",
       "50%      0.545329    0.522588    0.523408    0.506907    0.519629\n",
       "75%      0.770485    0.809212    0.769350    0.708046    0.779698\n",
       "max      0.998633    0.998908    0.999861    0.998817    0.985091"
      ]
     },
     "execution_count": 39,
     "metadata": {},
     "output_type": "execute_result"
    }
   ],
   "source": [
    "newdf.describe()"
   ]
  },
  {
   "cell_type": "code",
   "execution_count": 40,
   "id": "7bd1f7c4-6678-4fbf-957b-c9f4316ba9df",
   "metadata": {},
   "outputs": [
    {
     "data": {
      "text/plain": [
       "0    float64\n",
       "1    float64\n",
       "2    float64\n",
       "3    float64\n",
       "4    float64\n",
       "dtype: object"
      ]
     },
     "execution_count": 40,
     "metadata": {},
     "output_type": "execute_result"
    }
   ],
   "source": [
    "newdf.dtypes"
   ]
  },
  {
   "cell_type": "code",
   "execution_count": 41,
   "id": "82ab013f-1350-46df-8c8f-fce4b45f9f70",
   "metadata": {},
   "outputs": [
    {
     "name": "stderr",
     "output_type": "stream",
     "text": [
      "/var/folders/cx/6fm42bl13kxc0txpzrxqkp0m0000gn/T/ipykernel_9283/1299616179.py:1: FutureWarning: ChainedAssignmentError: behaviour will change in pandas 3.0!\n",
      "You are setting values through chained assignment. Currently this works in certain cases, but when using Copy-on-Write (which will become the default behaviour in pandas 3.0) this will never work to update the original DataFrame or Series, because the intermediate object on which we are setting values will behave as a copy.\n",
      "A typical example is when you are setting values in a column of a DataFrame, like:\n",
      "\n",
      "df[\"col\"][row_indexer] = value\n",
      "\n",
      "Use `df.loc[row_indexer, \"col\"] = values` instead, to perform the assignment in a single step and ensure this keeps updating the original `df`.\n",
      "\n",
      "See the caveats in the documentation: https://pandas.pydata.org/pandas-docs/stable/user_guide/indexing.html#returning-a-view-versus-a-copy\n",
      "\n",
      "  newdf[0][0] = \"Pavani\"\n",
      "/var/folders/cx/6fm42bl13kxc0txpzrxqkp0m0000gn/T/ipykernel_9283/1299616179.py:1: FutureWarning: Setting an item of incompatible dtype is deprecated and will raise an error in a future version of pandas. Value 'Pavani' has dtype incompatible with float64, please explicitly cast to a compatible dtype first.\n",
      "  newdf[0][0] = \"Pavani\"\n"
     ]
    }
   ],
   "source": [
    "newdf[0][0] = \"Pavani\""
   ]
  },
  {
   "cell_type": "code",
   "execution_count": 42,
   "id": "181e88fc-ddcd-4bee-9898-f67dcc347fe6",
   "metadata": {},
   "outputs": [
    {
     "data": {
      "text/html": [
       "<div>\n",
       "<style scoped>\n",
       "    .dataframe tbody tr th:only-of-type {\n",
       "        vertical-align: middle;\n",
       "    }\n",
       "\n",
       "    .dataframe tbody tr th {\n",
       "        vertical-align: top;\n",
       "    }\n",
       "\n",
       "    .dataframe thead th {\n",
       "        text-align: right;\n",
       "    }\n",
       "</style>\n",
       "<table border=\"1\" class=\"dataframe\">\n",
       "  <thead>\n",
       "    <tr style=\"text-align: right;\">\n",
       "      <th></th>\n",
       "      <th>0</th>\n",
       "      <th>1</th>\n",
       "      <th>2</th>\n",
       "      <th>3</th>\n",
       "      <th>4</th>\n",
       "    </tr>\n",
       "  </thead>\n",
       "  <tbody>\n",
       "    <tr>\n",
       "      <th>0</th>\n",
       "      <td>Pavani</td>\n",
       "      <td>0.685744</td>\n",
       "      <td>0.718646</td>\n",
       "      <td>0.472823</td>\n",
       "      <td>0.056659</td>\n",
       "    </tr>\n",
       "    <tr>\n",
       "      <th>1</th>\n",
       "      <td>0.445046</td>\n",
       "      <td>0.473095</td>\n",
       "      <td>0.529301</td>\n",
       "      <td>0.998817</td>\n",
       "      <td>0.539899</td>\n",
       "    </tr>\n",
       "    <tr>\n",
       "      <th>2</th>\n",
       "      <td>0.28987</td>\n",
       "      <td>0.358754</td>\n",
       "      <td>0.642537</td>\n",
       "      <td>0.584303</td>\n",
       "      <td>0.658858</td>\n",
       "    </tr>\n",
       "    <tr>\n",
       "      <th>3</th>\n",
       "      <td>0.449842</td>\n",
       "      <td>0.902752</td>\n",
       "      <td>0.900132</td>\n",
       "      <td>0.587367</td>\n",
       "      <td>0.786077</td>\n",
       "    </tr>\n",
       "    <tr>\n",
       "      <th>4</th>\n",
       "      <td>0.095519</td>\n",
       "      <td>0.695115</td>\n",
       "      <td>0.181204</td>\n",
       "      <td>0.182598</td>\n",
       "      <td>0.599283</td>\n",
       "    </tr>\n",
       "    <tr>\n",
       "      <th>...</th>\n",
       "      <td>...</td>\n",
       "      <td>...</td>\n",
       "      <td>...</td>\n",
       "      <td>...</td>\n",
       "      <td>...</td>\n",
       "    </tr>\n",
       "    <tr>\n",
       "      <th>329</th>\n",
       "      <td>0.939899</td>\n",
       "      <td>0.459315</td>\n",
       "      <td>0.987056</td>\n",
       "      <td>0.266177</td>\n",
       "      <td>0.590471</td>\n",
       "    </tr>\n",
       "    <tr>\n",
       "      <th>330</th>\n",
       "      <td>0.102026</td>\n",
       "      <td>0.907161</td>\n",
       "      <td>0.646198</td>\n",
       "      <td>0.360035</td>\n",
       "      <td>0.487142</td>\n",
       "    </tr>\n",
       "    <tr>\n",
       "      <th>331</th>\n",
       "      <td>0.292785</td>\n",
       "      <td>0.612258</td>\n",
       "      <td>0.918227</td>\n",
       "      <td>0.428272</td>\n",
       "      <td>0.807383</td>\n",
       "    </tr>\n",
       "    <tr>\n",
       "      <th>332</th>\n",
       "      <td>0.736915</td>\n",
       "      <td>0.524694</td>\n",
       "      <td>0.741653</td>\n",
       "      <td>0.073751</td>\n",
       "      <td>0.985091</td>\n",
       "    </tr>\n",
       "    <tr>\n",
       "      <th>333</th>\n",
       "      <td>0.91393</td>\n",
       "      <td>0.117891</td>\n",
       "      <td>0.766152</td>\n",
       "      <td>0.123394</td>\n",
       "      <td>0.264716</td>\n",
       "    </tr>\n",
       "  </tbody>\n",
       "</table>\n",
       "<p>334 rows × 5 columns</p>\n",
       "</div>"
      ],
      "text/plain": [
       "            0         1         2         3         4\n",
       "0      Pavani  0.685744  0.718646  0.472823  0.056659\n",
       "1    0.445046  0.473095  0.529301  0.998817  0.539899\n",
       "2     0.28987  0.358754  0.642537  0.584303  0.658858\n",
       "3    0.449842  0.902752  0.900132  0.587367  0.786077\n",
       "4    0.095519  0.695115  0.181204  0.182598  0.599283\n",
       "..        ...       ...       ...       ...       ...\n",
       "329  0.939899  0.459315  0.987056  0.266177  0.590471\n",
       "330  0.102026  0.907161  0.646198  0.360035  0.487142\n",
       "331  0.292785  0.612258  0.918227  0.428272  0.807383\n",
       "332  0.736915  0.524694  0.741653  0.073751  0.985091\n",
       "333   0.91393  0.117891  0.766152  0.123394  0.264716\n",
       "\n",
       "[334 rows x 5 columns]"
      ]
     },
     "execution_count": 42,
     "metadata": {},
     "output_type": "execute_result"
    }
   ],
   "source": [
    "newdf"
   ]
  },
  {
   "cell_type": "code",
   "execution_count": 43,
   "id": "5d15b913-1630-40a8-b5be-350a3e890870",
   "metadata": {},
   "outputs": [
    {
     "data": {
      "text/plain": [
       "0     object\n",
       "1    float64\n",
       "2    float64\n",
       "3    float64\n",
       "4    float64\n",
       "dtype: object"
      ]
     },
     "execution_count": 43,
     "metadata": {},
     "output_type": "execute_result"
    }
   ],
   "source": [
    "newdf.dtypes"
   ]
  },
  {
   "cell_type": "code",
   "execution_count": 44,
   "id": "b6920c69-9170-4e6a-be49-1c254d5c5a97",
   "metadata": {},
   "outputs": [
    {
     "data": {
      "text/html": [
       "<div>\n",
       "<style scoped>\n",
       "    .dataframe tbody tr th:only-of-type {\n",
       "        vertical-align: middle;\n",
       "    }\n",
       "\n",
       "    .dataframe tbody tr th {\n",
       "        vertical-align: top;\n",
       "    }\n",
       "\n",
       "    .dataframe thead th {\n",
       "        text-align: right;\n",
       "    }\n",
       "</style>\n",
       "<table border=\"1\" class=\"dataframe\">\n",
       "  <thead>\n",
       "    <tr style=\"text-align: right;\">\n",
       "      <th></th>\n",
       "      <th>0</th>\n",
       "      <th>1</th>\n",
       "      <th>2</th>\n",
       "      <th>3</th>\n",
       "      <th>4</th>\n",
       "    </tr>\n",
       "  </thead>\n",
       "  <tbody>\n",
       "    <tr>\n",
       "      <th>0</th>\n",
       "      <td>Pavani</td>\n",
       "      <td>0.685744</td>\n",
       "      <td>0.718646</td>\n",
       "      <td>0.472823</td>\n",
       "      <td>0.056659</td>\n",
       "    </tr>\n",
       "    <tr>\n",
       "      <th>1</th>\n",
       "      <td>0.445046</td>\n",
       "      <td>0.473095</td>\n",
       "      <td>0.529301</td>\n",
       "      <td>0.998817</td>\n",
       "      <td>0.539899</td>\n",
       "    </tr>\n",
       "    <tr>\n",
       "      <th>2</th>\n",
       "      <td>0.28987</td>\n",
       "      <td>0.358754</td>\n",
       "      <td>0.642537</td>\n",
       "      <td>0.584303</td>\n",
       "      <td>0.658858</td>\n",
       "    </tr>\n",
       "    <tr>\n",
       "      <th>3</th>\n",
       "      <td>0.449842</td>\n",
       "      <td>0.902752</td>\n",
       "      <td>0.900132</td>\n",
       "      <td>0.587367</td>\n",
       "      <td>0.786077</td>\n",
       "    </tr>\n",
       "    <tr>\n",
       "      <th>4</th>\n",
       "      <td>0.095519</td>\n",
       "      <td>0.695115</td>\n",
       "      <td>0.181204</td>\n",
       "      <td>0.182598</td>\n",
       "      <td>0.599283</td>\n",
       "    </tr>\n",
       "  </tbody>\n",
       "</table>\n",
       "</div>"
      ],
      "text/plain": [
       "          0         1         2         3         4\n",
       "0    Pavani  0.685744  0.718646  0.472823  0.056659\n",
       "1  0.445046  0.473095  0.529301  0.998817  0.539899\n",
       "2   0.28987  0.358754  0.642537  0.584303  0.658858\n",
       "3  0.449842  0.902752  0.900132  0.587367  0.786077\n",
       "4  0.095519  0.695115  0.181204  0.182598  0.599283"
      ]
     },
     "execution_count": 44,
     "metadata": {},
     "output_type": "execute_result"
    }
   ],
   "source": [
    "newdf.head()"
   ]
  },
  {
   "cell_type": "code",
   "execution_count": 45,
   "id": "bbd714b6-966b-4c33-bd36-2b39c2a7f568",
   "metadata": {},
   "outputs": [
    {
     "data": {
      "text/plain": [
       "Index([  0,   1,   2,   3,   4,   5,   6,   7,   8,   9,\n",
       "       ...\n",
       "       324, 325, 326, 327, 328, 329, 330, 331, 332, 333],\n",
       "      dtype='int64', length=334)"
      ]
     },
     "execution_count": 45,
     "metadata": {},
     "output_type": "execute_result"
    }
   ],
   "source": [
    "newdf.index"
   ]
  },
  {
   "cell_type": "code",
   "execution_count": 46,
   "id": "dfde6b51-92a3-435a-966c-9dd3b6706243",
   "metadata": {},
   "outputs": [
    {
     "data": {
      "text/plain": [
       "RangeIndex(start=0, stop=5, step=1)"
      ]
     },
     "execution_count": 46,
     "metadata": {},
     "output_type": "execute_result"
    }
   ],
   "source": [
    "newdf.columns"
   ]
  },
  {
   "cell_type": "code",
   "execution_count": 47,
   "id": "eda8ef2a-c6c5-4259-8bd1-67ab19ef0a09",
   "metadata": {},
   "outputs": [
    {
     "data": {
      "text/plain": [
       "array([['Pavani', 0.6857442325887444, 0.7186459742968249,\n",
       "        0.4728233748296552, 0.05665888057629154],\n",
       "       [0.4450459428256721, 0.47309500482010713, 0.5293011736116858,\n",
       "        0.9988170875838244, 0.5398993764086153],\n",
       "       [0.2898704809781546, 0.3587544096711722, 0.6425366866091671,\n",
       "        0.5843030388850587, 0.6588581270914616],\n",
       "       ...,\n",
       "       [0.29278543990679773, 0.6122577035235544, 0.918226992647508,\n",
       "        0.42827178687382617, 0.807383339896478],\n",
       "       [0.7369148334744283, 0.5246937566072296, 0.7416528830088183,\n",
       "        0.07375110913307514, 0.9850905374949608],\n",
       "       [0.9139296894490935, 0.117891103614151, 0.7661523537561061,\n",
       "        0.12339373442723822, 0.26471645419281764]], dtype=object)"
      ]
     },
     "execution_count": 47,
     "metadata": {},
     "output_type": "execute_result"
    }
   ],
   "source": [
    "newdf.to_numpy()"
   ]
  },
  {
   "cell_type": "code",
   "execution_count": 48,
   "id": "d00471bb-31fc-4e59-9926-ee9bf75fff9c",
   "metadata": {},
   "outputs": [],
   "source": [
    "newdf[0][0] = 334.000000"
   ]
  },
  {
   "cell_type": "code",
   "execution_count": 49,
   "id": "a19c0db2-c9b7-4ab1-a2e6-7fff5748bae6",
   "metadata": {},
   "outputs": [
    {
     "data": {
      "text/html": [
       "<div>\n",
       "<style scoped>\n",
       "    .dataframe tbody tr th:only-of-type {\n",
       "        vertical-align: middle;\n",
       "    }\n",
       "\n",
       "    .dataframe tbody tr th {\n",
       "        vertical-align: top;\n",
       "    }\n",
       "\n",
       "    .dataframe thead th {\n",
       "        text-align: right;\n",
       "    }\n",
       "</style>\n",
       "<table border=\"1\" class=\"dataframe\">\n",
       "  <thead>\n",
       "    <tr style=\"text-align: right;\">\n",
       "      <th></th>\n",
       "      <th>0</th>\n",
       "      <th>1</th>\n",
       "      <th>2</th>\n",
       "      <th>3</th>\n",
       "      <th>4</th>\n",
       "    </tr>\n",
       "  </thead>\n",
       "  <tbody>\n",
       "    <tr>\n",
       "      <th>0</th>\n",
       "      <td>334.0</td>\n",
       "      <td>0.685744</td>\n",
       "      <td>0.718646</td>\n",
       "      <td>0.472823</td>\n",
       "      <td>0.056659</td>\n",
       "    </tr>\n",
       "    <tr>\n",
       "      <th>1</th>\n",
       "      <td>0.445046</td>\n",
       "      <td>0.473095</td>\n",
       "      <td>0.529301</td>\n",
       "      <td>0.998817</td>\n",
       "      <td>0.539899</td>\n",
       "    </tr>\n",
       "    <tr>\n",
       "      <th>2</th>\n",
       "      <td>0.28987</td>\n",
       "      <td>0.358754</td>\n",
       "      <td>0.642537</td>\n",
       "      <td>0.584303</td>\n",
       "      <td>0.658858</td>\n",
       "    </tr>\n",
       "    <tr>\n",
       "      <th>3</th>\n",
       "      <td>0.449842</td>\n",
       "      <td>0.902752</td>\n",
       "      <td>0.900132</td>\n",
       "      <td>0.587367</td>\n",
       "      <td>0.786077</td>\n",
       "    </tr>\n",
       "    <tr>\n",
       "      <th>4</th>\n",
       "      <td>0.095519</td>\n",
       "      <td>0.695115</td>\n",
       "      <td>0.181204</td>\n",
       "      <td>0.182598</td>\n",
       "      <td>0.599283</td>\n",
       "    </tr>\n",
       "  </tbody>\n",
       "</table>\n",
       "</div>"
      ],
      "text/plain": [
       "          0         1         2         3         4\n",
       "0     334.0  0.685744  0.718646  0.472823  0.056659\n",
       "1  0.445046  0.473095  0.529301  0.998817  0.539899\n",
       "2   0.28987  0.358754  0.642537  0.584303  0.658858\n",
       "3  0.449842  0.902752  0.900132  0.587367  0.786077\n",
       "4  0.095519  0.695115  0.181204  0.182598  0.599283"
      ]
     },
     "execution_count": 49,
     "metadata": {},
     "output_type": "execute_result"
    }
   ],
   "source": [
    "newdf.head()"
   ]
  },
  {
   "cell_type": "code",
   "execution_count": 50,
   "id": "30f05673-4c80-4f83-afca-f43314717850",
   "metadata": {},
   "outputs": [
    {
     "data": {
      "text/plain": [
       "array([[334.0, 0.6857442325887444, 0.7186459742968249,\n",
       "        0.4728233748296552, 0.05665888057629154],\n",
       "       [0.4450459428256721, 0.47309500482010713, 0.5293011736116858,\n",
       "        0.9988170875838244, 0.5398993764086153],\n",
       "       [0.2898704809781546, 0.3587544096711722, 0.6425366866091671,\n",
       "        0.5843030388850587, 0.6588581270914616],\n",
       "       ...,\n",
       "       [0.29278543990679773, 0.6122577035235544, 0.918226992647508,\n",
       "        0.42827178687382617, 0.807383339896478],\n",
       "       [0.7369148334744283, 0.5246937566072296, 0.7416528830088183,\n",
       "        0.07375110913307514, 0.9850905374949608],\n",
       "       [0.9139296894490935, 0.117891103614151, 0.7661523537561061,\n",
       "        0.12339373442723822, 0.26471645419281764]], dtype=object)"
      ]
     },
     "execution_count": 50,
     "metadata": {},
     "output_type": "execute_result"
    }
   ],
   "source": [
    "newdf.to_numpy()"
   ]
  },
  {
   "cell_type": "code",
   "execution_count": 51,
   "id": "9d72869d-d0c6-43fe-a93b-0924d5910557",
   "metadata": {},
   "outputs": [
    {
     "data": {
      "text/html": [
       "<div>\n",
       "<style scoped>\n",
       "    .dataframe tbody tr th:only-of-type {\n",
       "        vertical-align: middle;\n",
       "    }\n",
       "\n",
       "    .dataframe tbody tr th {\n",
       "        vertical-align: top;\n",
       "    }\n",
       "\n",
       "    .dataframe thead th {\n",
       "        text-align: right;\n",
       "    }\n",
       "</style>\n",
       "<table border=\"1\" class=\"dataframe\">\n",
       "  <thead>\n",
       "    <tr style=\"text-align: right;\">\n",
       "      <th></th>\n",
       "      <th>0</th>\n",
       "      <th>1</th>\n",
       "      <th>2</th>\n",
       "      <th>3</th>\n",
       "      <th>4</th>\n",
       "      <th>5</th>\n",
       "      <th>6</th>\n",
       "      <th>7</th>\n",
       "      <th>8</th>\n",
       "      <th>9</th>\n",
       "      <th>...</th>\n",
       "      <th>324</th>\n",
       "      <th>325</th>\n",
       "      <th>326</th>\n",
       "      <th>327</th>\n",
       "      <th>328</th>\n",
       "      <th>329</th>\n",
       "      <th>330</th>\n",
       "      <th>331</th>\n",
       "      <th>332</th>\n",
       "      <th>333</th>\n",
       "    </tr>\n",
       "  </thead>\n",
       "  <tbody>\n",
       "    <tr>\n",
       "      <th>0</th>\n",
       "      <td>334.0</td>\n",
       "      <td>0.445046</td>\n",
       "      <td>0.28987</td>\n",
       "      <td>0.449842</td>\n",
       "      <td>0.095519</td>\n",
       "      <td>0.540634</td>\n",
       "      <td>0.677856</td>\n",
       "      <td>0.216881</td>\n",
       "      <td>0.039725</td>\n",
       "      <td>0.49758</td>\n",
       "      <td>...</td>\n",
       "      <td>0.546548</td>\n",
       "      <td>0.086713</td>\n",
       "      <td>0.620645</td>\n",
       "      <td>0.168633</td>\n",
       "      <td>0.244902</td>\n",
       "      <td>0.939899</td>\n",
       "      <td>0.102026</td>\n",
       "      <td>0.292785</td>\n",
       "      <td>0.736915</td>\n",
       "      <td>0.91393</td>\n",
       "    </tr>\n",
       "    <tr>\n",
       "      <th>1</th>\n",
       "      <td>0.685744</td>\n",
       "      <td>0.473095</td>\n",
       "      <td>0.358754</td>\n",
       "      <td>0.902752</td>\n",
       "      <td>0.695115</td>\n",
       "      <td>0.316161</td>\n",
       "      <td>0.875272</td>\n",
       "      <td>0.701791</td>\n",
       "      <td>0.217903</td>\n",
       "      <td>0.314492</td>\n",
       "      <td>...</td>\n",
       "      <td>0.696502</td>\n",
       "      <td>0.438454</td>\n",
       "      <td>0.64482</td>\n",
       "      <td>0.133286</td>\n",
       "      <td>0.797067</td>\n",
       "      <td>0.459315</td>\n",
       "      <td>0.907161</td>\n",
       "      <td>0.612258</td>\n",
       "      <td>0.524694</td>\n",
       "      <td>0.117891</td>\n",
       "    </tr>\n",
       "    <tr>\n",
       "      <th>2</th>\n",
       "      <td>0.718646</td>\n",
       "      <td>0.529301</td>\n",
       "      <td>0.642537</td>\n",
       "      <td>0.900132</td>\n",
       "      <td>0.181204</td>\n",
       "      <td>0.389936</td>\n",
       "      <td>0.244058</td>\n",
       "      <td>0.053425</td>\n",
       "      <td>0.136274</td>\n",
       "      <td>0.987587</td>\n",
       "      <td>...</td>\n",
       "      <td>0.368546</td>\n",
       "      <td>0.167581</td>\n",
       "      <td>0.026368</td>\n",
       "      <td>0.245767</td>\n",
       "      <td>0.329925</td>\n",
       "      <td>0.987056</td>\n",
       "      <td>0.646198</td>\n",
       "      <td>0.918227</td>\n",
       "      <td>0.741653</td>\n",
       "      <td>0.766152</td>\n",
       "    </tr>\n",
       "    <tr>\n",
       "      <th>3</th>\n",
       "      <td>0.472823</td>\n",
       "      <td>0.998817</td>\n",
       "      <td>0.584303</td>\n",
       "      <td>0.587367</td>\n",
       "      <td>0.182598</td>\n",
       "      <td>0.937718</td>\n",
       "      <td>0.389337</td>\n",
       "      <td>0.259723</td>\n",
       "      <td>0.784907</td>\n",
       "      <td>0.462664</td>\n",
       "      <td>...</td>\n",
       "      <td>0.075416</td>\n",
       "      <td>0.400445</td>\n",
       "      <td>0.020721</td>\n",
       "      <td>0.819282</td>\n",
       "      <td>0.988924</td>\n",
       "      <td>0.266177</td>\n",
       "      <td>0.360035</td>\n",
       "      <td>0.428272</td>\n",
       "      <td>0.073751</td>\n",
       "      <td>0.123394</td>\n",
       "    </tr>\n",
       "    <tr>\n",
       "      <th>4</th>\n",
       "      <td>0.056659</td>\n",
       "      <td>0.539899</td>\n",
       "      <td>0.658858</td>\n",
       "      <td>0.786077</td>\n",
       "      <td>0.599283</td>\n",
       "      <td>0.416935</td>\n",
       "      <td>0.652336</td>\n",
       "      <td>0.347473</td>\n",
       "      <td>0.799664</td>\n",
       "      <td>0.79548</td>\n",
       "      <td>...</td>\n",
       "      <td>0.952355</td>\n",
       "      <td>0.926271</td>\n",
       "      <td>0.280823</td>\n",
       "      <td>0.197934</td>\n",
       "      <td>0.865122</td>\n",
       "      <td>0.590471</td>\n",
       "      <td>0.487142</td>\n",
       "      <td>0.807383</td>\n",
       "      <td>0.985091</td>\n",
       "      <td>0.264716</td>\n",
       "    </tr>\n",
       "  </tbody>\n",
       "</table>\n",
       "<p>5 rows × 334 columns</p>\n",
       "</div>"
      ],
      "text/plain": [
       "        0         1         2         3         4         5         6    \\\n",
       "0     334.0  0.445046   0.28987  0.449842  0.095519  0.540634  0.677856   \n",
       "1  0.685744  0.473095  0.358754  0.902752  0.695115  0.316161  0.875272   \n",
       "2  0.718646  0.529301  0.642537  0.900132  0.181204  0.389936  0.244058   \n",
       "3  0.472823  0.998817  0.584303  0.587367  0.182598  0.937718  0.389337   \n",
       "4  0.056659  0.539899  0.658858  0.786077  0.599283  0.416935  0.652336   \n",
       "\n",
       "        7         8         9    ...       324       325       326       327  \\\n",
       "0  0.216881  0.039725   0.49758  ...  0.546548  0.086713  0.620645  0.168633   \n",
       "1  0.701791  0.217903  0.314492  ...  0.696502  0.438454   0.64482  0.133286   \n",
       "2  0.053425  0.136274  0.987587  ...  0.368546  0.167581  0.026368  0.245767   \n",
       "3  0.259723  0.784907  0.462664  ...  0.075416  0.400445  0.020721  0.819282   \n",
       "4  0.347473  0.799664   0.79548  ...  0.952355  0.926271  0.280823  0.197934   \n",
       "\n",
       "        328       329       330       331       332       333  \n",
       "0  0.244902  0.939899  0.102026  0.292785  0.736915   0.91393  \n",
       "1  0.797067  0.459315  0.907161  0.612258  0.524694  0.117891  \n",
       "2  0.329925  0.987056  0.646198  0.918227  0.741653  0.766152  \n",
       "3  0.988924  0.266177  0.360035  0.428272  0.073751  0.123394  \n",
       "4  0.865122  0.590471  0.487142  0.807383  0.985091  0.264716  \n",
       "\n",
       "[5 rows x 334 columns]"
      ]
     },
     "execution_count": 51,
     "metadata": {},
     "output_type": "execute_result"
    }
   ],
   "source": [
    "newdf.T"
   ]
  },
  {
   "cell_type": "code",
   "execution_count": 52,
   "id": "63016868-eb60-4069-a8cc-b4fc8fb41e8b",
   "metadata": {},
   "outputs": [
    {
     "data": {
      "text/html": [
       "<div>\n",
       "<style scoped>\n",
       "    .dataframe tbody tr th:only-of-type {\n",
       "        vertical-align: middle;\n",
       "    }\n",
       "\n",
       "    .dataframe tbody tr th {\n",
       "        vertical-align: top;\n",
       "    }\n",
       "\n",
       "    .dataframe thead th {\n",
       "        text-align: right;\n",
       "    }\n",
       "</style>\n",
       "<table border=\"1\" class=\"dataframe\">\n",
       "  <thead>\n",
       "    <tr style=\"text-align: right;\">\n",
       "      <th></th>\n",
       "      <th>0</th>\n",
       "      <th>1</th>\n",
       "      <th>2</th>\n",
       "      <th>3</th>\n",
       "      <th>4</th>\n",
       "    </tr>\n",
       "  </thead>\n",
       "  <tbody>\n",
       "    <tr>\n",
       "      <th>0</th>\n",
       "      <td>334.0</td>\n",
       "      <td>0.685744</td>\n",
       "      <td>0.718646</td>\n",
       "      <td>0.472823</td>\n",
       "      <td>0.056659</td>\n",
       "    </tr>\n",
       "    <tr>\n",
       "      <th>1</th>\n",
       "      <td>0.445046</td>\n",
       "      <td>0.473095</td>\n",
       "      <td>0.529301</td>\n",
       "      <td>0.998817</td>\n",
       "      <td>0.539899</td>\n",
       "    </tr>\n",
       "    <tr>\n",
       "      <th>2</th>\n",
       "      <td>0.28987</td>\n",
       "      <td>0.358754</td>\n",
       "      <td>0.642537</td>\n",
       "      <td>0.584303</td>\n",
       "      <td>0.658858</td>\n",
       "    </tr>\n",
       "    <tr>\n",
       "      <th>3</th>\n",
       "      <td>0.449842</td>\n",
       "      <td>0.902752</td>\n",
       "      <td>0.900132</td>\n",
       "      <td>0.587367</td>\n",
       "      <td>0.786077</td>\n",
       "    </tr>\n",
       "    <tr>\n",
       "      <th>4</th>\n",
       "      <td>0.095519</td>\n",
       "      <td>0.695115</td>\n",
       "      <td>0.181204</td>\n",
       "      <td>0.182598</td>\n",
       "      <td>0.599283</td>\n",
       "    </tr>\n",
       "  </tbody>\n",
       "</table>\n",
       "</div>"
      ],
      "text/plain": [
       "          0         1         2         3         4\n",
       "0     334.0  0.685744  0.718646  0.472823  0.056659\n",
       "1  0.445046  0.473095  0.529301  0.998817  0.539899\n",
       "2   0.28987  0.358754  0.642537  0.584303  0.658858\n",
       "3  0.449842  0.902752  0.900132  0.587367  0.786077\n",
       "4  0.095519  0.695115  0.181204  0.182598  0.599283"
      ]
     },
     "execution_count": 52,
     "metadata": {},
     "output_type": "execute_result"
    }
   ],
   "source": [
    "newdf.head()"
   ]
  },
  {
   "cell_type": "code",
   "execution_count": 53,
   "id": "16378e0b-5aa8-428c-aecc-9f2380e12c44",
   "metadata": {},
   "outputs": [
    {
     "data": {
      "text/html": [
       "<div>\n",
       "<style scoped>\n",
       "    .dataframe tbody tr th:only-of-type {\n",
       "        vertical-align: middle;\n",
       "    }\n",
       "\n",
       "    .dataframe tbody tr th {\n",
       "        vertical-align: top;\n",
       "    }\n",
       "\n",
       "    .dataframe thead th {\n",
       "        text-align: right;\n",
       "    }\n",
       "</style>\n",
       "<table border=\"1\" class=\"dataframe\">\n",
       "  <thead>\n",
       "    <tr style=\"text-align: right;\">\n",
       "      <th></th>\n",
       "      <th>0</th>\n",
       "      <th>1</th>\n",
       "      <th>2</th>\n",
       "      <th>3</th>\n",
       "      <th>4</th>\n",
       "    </tr>\n",
       "  </thead>\n",
       "  <tbody>\n",
       "    <tr>\n",
       "      <th>333</th>\n",
       "      <td>0.91393</td>\n",
       "      <td>0.117891</td>\n",
       "      <td>0.766152</td>\n",
       "      <td>0.123394</td>\n",
       "      <td>0.264716</td>\n",
       "    </tr>\n",
       "    <tr>\n",
       "      <th>332</th>\n",
       "      <td>0.736915</td>\n",
       "      <td>0.524694</td>\n",
       "      <td>0.741653</td>\n",
       "      <td>0.073751</td>\n",
       "      <td>0.985091</td>\n",
       "    </tr>\n",
       "    <tr>\n",
       "      <th>331</th>\n",
       "      <td>0.292785</td>\n",
       "      <td>0.612258</td>\n",
       "      <td>0.918227</td>\n",
       "      <td>0.428272</td>\n",
       "      <td>0.807383</td>\n",
       "    </tr>\n",
       "    <tr>\n",
       "      <th>330</th>\n",
       "      <td>0.102026</td>\n",
       "      <td>0.907161</td>\n",
       "      <td>0.646198</td>\n",
       "      <td>0.360035</td>\n",
       "      <td>0.487142</td>\n",
       "    </tr>\n",
       "    <tr>\n",
       "      <th>329</th>\n",
       "      <td>0.939899</td>\n",
       "      <td>0.459315</td>\n",
       "      <td>0.987056</td>\n",
       "      <td>0.266177</td>\n",
       "      <td>0.590471</td>\n",
       "    </tr>\n",
       "    <tr>\n",
       "      <th>...</th>\n",
       "      <td>...</td>\n",
       "      <td>...</td>\n",
       "      <td>...</td>\n",
       "      <td>...</td>\n",
       "      <td>...</td>\n",
       "    </tr>\n",
       "    <tr>\n",
       "      <th>4</th>\n",
       "      <td>0.095519</td>\n",
       "      <td>0.695115</td>\n",
       "      <td>0.181204</td>\n",
       "      <td>0.182598</td>\n",
       "      <td>0.599283</td>\n",
       "    </tr>\n",
       "    <tr>\n",
       "      <th>3</th>\n",
       "      <td>0.449842</td>\n",
       "      <td>0.902752</td>\n",
       "      <td>0.900132</td>\n",
       "      <td>0.587367</td>\n",
       "      <td>0.786077</td>\n",
       "    </tr>\n",
       "    <tr>\n",
       "      <th>2</th>\n",
       "      <td>0.28987</td>\n",
       "      <td>0.358754</td>\n",
       "      <td>0.642537</td>\n",
       "      <td>0.584303</td>\n",
       "      <td>0.658858</td>\n",
       "    </tr>\n",
       "    <tr>\n",
       "      <th>1</th>\n",
       "      <td>0.445046</td>\n",
       "      <td>0.473095</td>\n",
       "      <td>0.529301</td>\n",
       "      <td>0.998817</td>\n",
       "      <td>0.539899</td>\n",
       "    </tr>\n",
       "    <tr>\n",
       "      <th>0</th>\n",
       "      <td>334.0</td>\n",
       "      <td>0.685744</td>\n",
       "      <td>0.718646</td>\n",
       "      <td>0.472823</td>\n",
       "      <td>0.056659</td>\n",
       "    </tr>\n",
       "  </tbody>\n",
       "</table>\n",
       "<p>334 rows × 5 columns</p>\n",
       "</div>"
      ],
      "text/plain": [
       "            0         1         2         3         4\n",
       "333   0.91393  0.117891  0.766152  0.123394  0.264716\n",
       "332  0.736915  0.524694  0.741653  0.073751  0.985091\n",
       "331  0.292785  0.612258  0.918227  0.428272  0.807383\n",
       "330  0.102026  0.907161  0.646198  0.360035  0.487142\n",
       "329  0.939899  0.459315  0.987056  0.266177  0.590471\n",
       "..        ...       ...       ...       ...       ...\n",
       "4    0.095519  0.695115  0.181204  0.182598  0.599283\n",
       "3    0.449842  0.902752  0.900132  0.587367  0.786077\n",
       "2     0.28987  0.358754  0.642537  0.584303  0.658858\n",
       "1    0.445046  0.473095  0.529301  0.998817  0.539899\n",
       "0       334.0  0.685744  0.718646  0.472823  0.056659\n",
       "\n",
       "[334 rows x 5 columns]"
      ]
     },
     "execution_count": 53,
     "metadata": {},
     "output_type": "execute_result"
    }
   ],
   "source": [
    "newdf.sort_index(axis=0, ascending=False)"
   ]
  },
  {
   "cell_type": "code",
   "execution_count": 54,
   "id": "50d27a7c-da7c-4aa5-bdaf-e294a86f6fc5",
   "metadata": {},
   "outputs": [
    {
     "data": {
      "text/html": [
       "<div>\n",
       "<style scoped>\n",
       "    .dataframe tbody tr th:only-of-type {\n",
       "        vertical-align: middle;\n",
       "    }\n",
       "\n",
       "    .dataframe tbody tr th {\n",
       "        vertical-align: top;\n",
       "    }\n",
       "\n",
       "    .dataframe thead th {\n",
       "        text-align: right;\n",
       "    }\n",
       "</style>\n",
       "<table border=\"1\" class=\"dataframe\">\n",
       "  <thead>\n",
       "    <tr style=\"text-align: right;\">\n",
       "      <th></th>\n",
       "      <th>4</th>\n",
       "      <th>3</th>\n",
       "      <th>2</th>\n",
       "      <th>1</th>\n",
       "      <th>0</th>\n",
       "    </tr>\n",
       "  </thead>\n",
       "  <tbody>\n",
       "    <tr>\n",
       "      <th>0</th>\n",
       "      <td>0.056659</td>\n",
       "      <td>0.472823</td>\n",
       "      <td>0.718646</td>\n",
       "      <td>0.685744</td>\n",
       "      <td>334.0</td>\n",
       "    </tr>\n",
       "    <tr>\n",
       "      <th>1</th>\n",
       "      <td>0.539899</td>\n",
       "      <td>0.998817</td>\n",
       "      <td>0.529301</td>\n",
       "      <td>0.473095</td>\n",
       "      <td>0.445046</td>\n",
       "    </tr>\n",
       "    <tr>\n",
       "      <th>2</th>\n",
       "      <td>0.658858</td>\n",
       "      <td>0.584303</td>\n",
       "      <td>0.642537</td>\n",
       "      <td>0.358754</td>\n",
       "      <td>0.28987</td>\n",
       "    </tr>\n",
       "    <tr>\n",
       "      <th>3</th>\n",
       "      <td>0.786077</td>\n",
       "      <td>0.587367</td>\n",
       "      <td>0.900132</td>\n",
       "      <td>0.902752</td>\n",
       "      <td>0.449842</td>\n",
       "    </tr>\n",
       "    <tr>\n",
       "      <th>4</th>\n",
       "      <td>0.599283</td>\n",
       "      <td>0.182598</td>\n",
       "      <td>0.181204</td>\n",
       "      <td>0.695115</td>\n",
       "      <td>0.095519</td>\n",
       "    </tr>\n",
       "    <tr>\n",
       "      <th>...</th>\n",
       "      <td>...</td>\n",
       "      <td>...</td>\n",
       "      <td>...</td>\n",
       "      <td>...</td>\n",
       "      <td>...</td>\n",
       "    </tr>\n",
       "    <tr>\n",
       "      <th>329</th>\n",
       "      <td>0.590471</td>\n",
       "      <td>0.266177</td>\n",
       "      <td>0.987056</td>\n",
       "      <td>0.459315</td>\n",
       "      <td>0.939899</td>\n",
       "    </tr>\n",
       "    <tr>\n",
       "      <th>330</th>\n",
       "      <td>0.487142</td>\n",
       "      <td>0.360035</td>\n",
       "      <td>0.646198</td>\n",
       "      <td>0.907161</td>\n",
       "      <td>0.102026</td>\n",
       "    </tr>\n",
       "    <tr>\n",
       "      <th>331</th>\n",
       "      <td>0.807383</td>\n",
       "      <td>0.428272</td>\n",
       "      <td>0.918227</td>\n",
       "      <td>0.612258</td>\n",
       "      <td>0.292785</td>\n",
       "    </tr>\n",
       "    <tr>\n",
       "      <th>332</th>\n",
       "      <td>0.985091</td>\n",
       "      <td>0.073751</td>\n",
       "      <td>0.741653</td>\n",
       "      <td>0.524694</td>\n",
       "      <td>0.736915</td>\n",
       "    </tr>\n",
       "    <tr>\n",
       "      <th>333</th>\n",
       "      <td>0.264716</td>\n",
       "      <td>0.123394</td>\n",
       "      <td>0.766152</td>\n",
       "      <td>0.117891</td>\n",
       "      <td>0.91393</td>\n",
       "    </tr>\n",
       "  </tbody>\n",
       "</table>\n",
       "<p>334 rows × 5 columns</p>\n",
       "</div>"
      ],
      "text/plain": [
       "            4         3         2         1         0\n",
       "0    0.056659  0.472823  0.718646  0.685744     334.0\n",
       "1    0.539899  0.998817  0.529301  0.473095  0.445046\n",
       "2    0.658858  0.584303  0.642537  0.358754   0.28987\n",
       "3    0.786077  0.587367  0.900132  0.902752  0.449842\n",
       "4    0.599283  0.182598  0.181204  0.695115  0.095519\n",
       "..        ...       ...       ...       ...       ...\n",
       "329  0.590471  0.266177  0.987056  0.459315  0.939899\n",
       "330  0.487142  0.360035  0.646198  0.907161  0.102026\n",
       "331  0.807383  0.428272  0.918227  0.612258  0.292785\n",
       "332  0.985091  0.073751  0.741653  0.524694  0.736915\n",
       "333  0.264716  0.123394  0.766152  0.117891   0.91393\n",
       "\n",
       "[334 rows x 5 columns]"
      ]
     },
     "execution_count": 54,
     "metadata": {},
     "output_type": "execute_result"
    }
   ],
   "source": [
    "newdf.sort_index(axis=1, ascending=False)"
   ]
  },
  {
   "cell_type": "code",
   "execution_count": 55,
   "id": "f7c3f86a-ca3d-4bc5-9ae4-371a216db1b9",
   "metadata": {},
   "outputs": [
    {
     "data": {
      "text/html": [
       "<div>\n",
       "<style scoped>\n",
       "    .dataframe tbody tr th:only-of-type {\n",
       "        vertical-align: middle;\n",
       "    }\n",
       "\n",
       "    .dataframe tbody tr th {\n",
       "        vertical-align: top;\n",
       "    }\n",
       "\n",
       "    .dataframe thead th {\n",
       "        text-align: right;\n",
       "    }\n",
       "</style>\n",
       "<table border=\"1\" class=\"dataframe\">\n",
       "  <thead>\n",
       "    <tr style=\"text-align: right;\">\n",
       "      <th></th>\n",
       "      <th>0</th>\n",
       "      <th>1</th>\n",
       "      <th>2</th>\n",
       "      <th>3</th>\n",
       "      <th>4</th>\n",
       "    </tr>\n",
       "  </thead>\n",
       "  <tbody>\n",
       "    <tr>\n",
       "      <th>0</th>\n",
       "      <td>334.0</td>\n",
       "      <td>0.685744</td>\n",
       "      <td>0.718646</td>\n",
       "      <td>0.472823</td>\n",
       "      <td>0.056659</td>\n",
       "    </tr>\n",
       "    <tr>\n",
       "      <th>1</th>\n",
       "      <td>0.445046</td>\n",
       "      <td>0.473095</td>\n",
       "      <td>0.529301</td>\n",
       "      <td>0.998817</td>\n",
       "      <td>0.539899</td>\n",
       "    </tr>\n",
       "    <tr>\n",
       "      <th>2</th>\n",
       "      <td>0.28987</td>\n",
       "      <td>0.358754</td>\n",
       "      <td>0.642537</td>\n",
       "      <td>0.584303</td>\n",
       "      <td>0.658858</td>\n",
       "    </tr>\n",
       "    <tr>\n",
       "      <th>3</th>\n",
       "      <td>0.449842</td>\n",
       "      <td>0.902752</td>\n",
       "      <td>0.900132</td>\n",
       "      <td>0.587367</td>\n",
       "      <td>0.786077</td>\n",
       "    </tr>\n",
       "    <tr>\n",
       "      <th>4</th>\n",
       "      <td>0.095519</td>\n",
       "      <td>0.695115</td>\n",
       "      <td>0.181204</td>\n",
       "      <td>0.182598</td>\n",
       "      <td>0.599283</td>\n",
       "    </tr>\n",
       "  </tbody>\n",
       "</table>\n",
       "</div>"
      ],
      "text/plain": [
       "          0         1         2         3         4\n",
       "0     334.0  0.685744  0.718646  0.472823  0.056659\n",
       "1  0.445046  0.473095  0.529301  0.998817  0.539899\n",
       "2   0.28987  0.358754  0.642537  0.584303  0.658858\n",
       "3  0.449842  0.902752  0.900132  0.587367  0.786077\n",
       "4  0.095519  0.695115  0.181204  0.182598  0.599283"
      ]
     },
     "execution_count": 55,
     "metadata": {},
     "output_type": "execute_result"
    }
   ],
   "source": [
    "newdf.head()"
   ]
  },
  {
   "cell_type": "code",
   "execution_count": 56,
   "id": "176999a6-b55b-41c7-9388-a9f76259f409",
   "metadata": {},
   "outputs": [
    {
     "data": {
      "text/plain": [
       "0         334.0\n",
       "1      0.445046\n",
       "2       0.28987\n",
       "3      0.449842\n",
       "4      0.095519\n",
       "         ...   \n",
       "329    0.939899\n",
       "330    0.102026\n",
       "331    0.292785\n",
       "332    0.736915\n",
       "333     0.91393\n",
       "Name: 0, Length: 334, dtype: object"
      ]
     },
     "execution_count": 56,
     "metadata": {},
     "output_type": "execute_result"
    }
   ],
   "source": [
    "newdf[0]"
   ]
  },
  {
   "cell_type": "code",
   "execution_count": 57,
   "id": "213d31e1-57a3-4442-8613-3a9c18f66ad8",
   "metadata": {},
   "outputs": [
    {
     "data": {
      "text/plain": [
       "pandas.core.series.Series"
      ]
     },
     "execution_count": 57,
     "metadata": {},
     "output_type": "execute_result"
    }
   ],
   "source": [
    "type(newdf[0])"
   ]
  },
  {
   "cell_type": "markdown",
   "id": "83e19e52-4772-406e-9243-24c2ec0127ab",
   "metadata": {},
   "source": [
    "# Copy and View"
   ]
  },
  {
   "cell_type": "code",
   "execution_count": 59,
   "id": "1c0793f9-bd70-4625-a356-1c45122bfe44",
   "metadata": {},
   "outputs": [],
   "source": [
    "newdf2 = newdf"
   ]
  },
  {
   "cell_type": "code",
   "execution_count": 60,
   "id": "b3f3ed94-db7f-47ca-9805-5eb352d08a7e",
   "metadata": {},
   "outputs": [],
   "source": [
    "# newdf2 is a view"
   ]
  },
  {
   "cell_type": "code",
   "execution_count": 61,
   "id": "6700da37-7fec-4e2c-9ef5-7619b5ce9c97",
   "metadata": {},
   "outputs": [],
   "source": [
    "# newdf2 is pointing to newdf"
   ]
  },
  {
   "cell_type": "code",
   "execution_count": 62,
   "id": "7805401e-73de-4455-9134-a3285403181b",
   "metadata": {},
   "outputs": [],
   "source": [
    "newdf2[0][0] = 9.99"
   ]
  },
  {
   "cell_type": "code",
   "execution_count": 63,
   "id": "ba6d2c5c-c5a1-4cbb-be78-03c844b4105f",
   "metadata": {},
   "outputs": [
    {
     "data": {
      "text/html": [
       "<div>\n",
       "<style scoped>\n",
       "    .dataframe tbody tr th:only-of-type {\n",
       "        vertical-align: middle;\n",
       "    }\n",
       "\n",
       "    .dataframe tbody tr th {\n",
       "        vertical-align: top;\n",
       "    }\n",
       "\n",
       "    .dataframe thead th {\n",
       "        text-align: right;\n",
       "    }\n",
       "</style>\n",
       "<table border=\"1\" class=\"dataframe\">\n",
       "  <thead>\n",
       "    <tr style=\"text-align: right;\">\n",
       "      <th></th>\n",
       "      <th>0</th>\n",
       "      <th>1</th>\n",
       "      <th>2</th>\n",
       "      <th>3</th>\n",
       "      <th>4</th>\n",
       "    </tr>\n",
       "  </thead>\n",
       "  <tbody>\n",
       "    <tr>\n",
       "      <th>0</th>\n",
       "      <td>9.99</td>\n",
       "      <td>0.685744</td>\n",
       "      <td>0.718646</td>\n",
       "      <td>0.472823</td>\n",
       "      <td>0.056659</td>\n",
       "    </tr>\n",
       "    <tr>\n",
       "      <th>1</th>\n",
       "      <td>0.445046</td>\n",
       "      <td>0.473095</td>\n",
       "      <td>0.529301</td>\n",
       "      <td>0.998817</td>\n",
       "      <td>0.539899</td>\n",
       "    </tr>\n",
       "    <tr>\n",
       "      <th>2</th>\n",
       "      <td>0.28987</td>\n",
       "      <td>0.358754</td>\n",
       "      <td>0.642537</td>\n",
       "      <td>0.584303</td>\n",
       "      <td>0.658858</td>\n",
       "    </tr>\n",
       "    <tr>\n",
       "      <th>3</th>\n",
       "      <td>0.449842</td>\n",
       "      <td>0.902752</td>\n",
       "      <td>0.900132</td>\n",
       "      <td>0.587367</td>\n",
       "      <td>0.786077</td>\n",
       "    </tr>\n",
       "    <tr>\n",
       "      <th>4</th>\n",
       "      <td>0.095519</td>\n",
       "      <td>0.695115</td>\n",
       "      <td>0.181204</td>\n",
       "      <td>0.182598</td>\n",
       "      <td>0.599283</td>\n",
       "    </tr>\n",
       "  </tbody>\n",
       "</table>\n",
       "</div>"
      ],
      "text/plain": [
       "          0         1         2         3         4\n",
       "0      9.99  0.685744  0.718646  0.472823  0.056659\n",
       "1  0.445046  0.473095  0.529301  0.998817  0.539899\n",
       "2   0.28987  0.358754  0.642537  0.584303  0.658858\n",
       "3  0.449842  0.902752  0.900132  0.587367  0.786077\n",
       "4  0.095519  0.695115  0.181204  0.182598  0.599283"
      ]
     },
     "execution_count": 63,
     "metadata": {},
     "output_type": "execute_result"
    }
   ],
   "source": [
    "newdf.head()"
   ]
  },
  {
   "cell_type": "code",
   "execution_count": 64,
   "id": "b99f0924-65f8-438b-a38d-32c05aaaa520",
   "metadata": {},
   "outputs": [
    {
     "data": {
      "text/html": [
       "<div>\n",
       "<style scoped>\n",
       "    .dataframe tbody tr th:only-of-type {\n",
       "        vertical-align: middle;\n",
       "    }\n",
       "\n",
       "    .dataframe tbody tr th {\n",
       "        vertical-align: top;\n",
       "    }\n",
       "\n",
       "    .dataframe thead th {\n",
       "        text-align: right;\n",
       "    }\n",
       "</style>\n",
       "<table border=\"1\" class=\"dataframe\">\n",
       "  <thead>\n",
       "    <tr style=\"text-align: right;\">\n",
       "      <th></th>\n",
       "      <th>0</th>\n",
       "      <th>1</th>\n",
       "      <th>2</th>\n",
       "      <th>3</th>\n",
       "      <th>4</th>\n",
       "    </tr>\n",
       "  </thead>\n",
       "  <tbody>\n",
       "    <tr>\n",
       "      <th>0</th>\n",
       "      <td>9.99</td>\n",
       "      <td>0.685744</td>\n",
       "      <td>0.718646</td>\n",
       "      <td>0.472823</td>\n",
       "      <td>0.056659</td>\n",
       "    </tr>\n",
       "    <tr>\n",
       "      <th>1</th>\n",
       "      <td>0.445046</td>\n",
       "      <td>0.473095</td>\n",
       "      <td>0.529301</td>\n",
       "      <td>0.998817</td>\n",
       "      <td>0.539899</td>\n",
       "    </tr>\n",
       "    <tr>\n",
       "      <th>2</th>\n",
       "      <td>0.28987</td>\n",
       "      <td>0.358754</td>\n",
       "      <td>0.642537</td>\n",
       "      <td>0.584303</td>\n",
       "      <td>0.658858</td>\n",
       "    </tr>\n",
       "    <tr>\n",
       "      <th>3</th>\n",
       "      <td>0.449842</td>\n",
       "      <td>0.902752</td>\n",
       "      <td>0.900132</td>\n",
       "      <td>0.587367</td>\n",
       "      <td>0.786077</td>\n",
       "    </tr>\n",
       "    <tr>\n",
       "      <th>4</th>\n",
       "      <td>0.095519</td>\n",
       "      <td>0.695115</td>\n",
       "      <td>0.181204</td>\n",
       "      <td>0.182598</td>\n",
       "      <td>0.599283</td>\n",
       "    </tr>\n",
       "  </tbody>\n",
       "</table>\n",
       "</div>"
      ],
      "text/plain": [
       "          0         1         2         3         4\n",
       "0      9.99  0.685744  0.718646  0.472823  0.056659\n",
       "1  0.445046  0.473095  0.529301  0.998817  0.539899\n",
       "2   0.28987  0.358754  0.642537  0.584303  0.658858\n",
       "3  0.449842  0.902752  0.900132  0.587367  0.786077\n",
       "4  0.095519  0.695115  0.181204  0.182598  0.599283"
      ]
     },
     "execution_count": 64,
     "metadata": {},
     "output_type": "execute_result"
    }
   ],
   "source": [
    "newdf2.head()"
   ]
  },
  {
   "cell_type": "code",
   "execution_count": 65,
   "id": "2495e5be-f7df-49ad-aae8-87e85fef3134",
   "metadata": {},
   "outputs": [],
   "source": [
    "# copy"
   ]
  },
  {
   "cell_type": "code",
   "execution_count": 66,
   "id": "5f50c6fc-67b7-4b78-b1a1-99c6cbb44b4e",
   "metadata": {},
   "outputs": [],
   "source": [
    "newdf3 = newdf.copy()"
   ]
  },
  {
   "cell_type": "code",
   "execution_count": 67,
   "id": "dae08273-b08c-470e-b51b-04dcb621ee4b",
   "metadata": {},
   "outputs": [
    {
     "name": "stderr",
     "output_type": "stream",
     "text": [
      "/var/folders/cx/6fm42bl13kxc0txpzrxqkp0m0000gn/T/ipykernel_9283/3147364022.py:1: FutureWarning: ChainedAssignmentError: behaviour will change in pandas 3.0!\n",
      "You are setting values through chained assignment. Currently this works in certain cases, but when using Copy-on-Write (which will become the default behaviour in pandas 3.0) this will never work to update the original DataFrame or Series, because the intermediate object on which we are setting values will behave as a copy.\n",
      "A typical example is when you are setting values in a column of a DataFrame, like:\n",
      "\n",
      "df[\"col\"][row_indexer] = value\n",
      "\n",
      "Use `df.loc[row_indexer, \"col\"] = values` instead, to perform the assignment in a single step and ensure this keeps updating the original `df`.\n",
      "\n",
      "See the caveats in the documentation: https://pandas.pydata.org/pandas-docs/stable/user_guide/indexing.html#returning-a-view-versus-a-copy\n",
      "\n",
      "  newdf3[0][0] = 5678\n",
      "/var/folders/cx/6fm42bl13kxc0txpzrxqkp0m0000gn/T/ipykernel_9283/3147364022.py:1: SettingWithCopyWarning: \n",
      "A value is trying to be set on a copy of a slice from a DataFrame\n",
      "\n",
      "See the caveats in the documentation: https://pandas.pydata.org/pandas-docs/stable/user_guide/indexing.html#returning-a-view-versus-a-copy\n",
      "  newdf3[0][0] = 5678\n"
     ]
    }
   ],
   "source": [
    "newdf3[0][0] = 5678"
   ]
  },
  {
   "cell_type": "code",
   "execution_count": 68,
   "id": "2ec75f86-ec0b-427b-af33-26e33994d609",
   "metadata": {},
   "outputs": [
    {
     "data": {
      "text/html": [
       "<div>\n",
       "<style scoped>\n",
       "    .dataframe tbody tr th:only-of-type {\n",
       "        vertical-align: middle;\n",
       "    }\n",
       "\n",
       "    .dataframe tbody tr th {\n",
       "        vertical-align: top;\n",
       "    }\n",
       "\n",
       "    .dataframe thead th {\n",
       "        text-align: right;\n",
       "    }\n",
       "</style>\n",
       "<table border=\"1\" class=\"dataframe\">\n",
       "  <thead>\n",
       "    <tr style=\"text-align: right;\">\n",
       "      <th></th>\n",
       "      <th>0</th>\n",
       "      <th>1</th>\n",
       "      <th>2</th>\n",
       "      <th>3</th>\n",
       "      <th>4</th>\n",
       "    </tr>\n",
       "  </thead>\n",
       "  <tbody>\n",
       "    <tr>\n",
       "      <th>0</th>\n",
       "      <td>9.99</td>\n",
       "      <td>0.685744</td>\n",
       "      <td>0.718646</td>\n",
       "      <td>0.472823</td>\n",
       "      <td>0.056659</td>\n",
       "    </tr>\n",
       "    <tr>\n",
       "      <th>1</th>\n",
       "      <td>0.445046</td>\n",
       "      <td>0.473095</td>\n",
       "      <td>0.529301</td>\n",
       "      <td>0.998817</td>\n",
       "      <td>0.539899</td>\n",
       "    </tr>\n",
       "    <tr>\n",
       "      <th>2</th>\n",
       "      <td>0.28987</td>\n",
       "      <td>0.358754</td>\n",
       "      <td>0.642537</td>\n",
       "      <td>0.584303</td>\n",
       "      <td>0.658858</td>\n",
       "    </tr>\n",
       "    <tr>\n",
       "      <th>3</th>\n",
       "      <td>0.449842</td>\n",
       "      <td>0.902752</td>\n",
       "      <td>0.900132</td>\n",
       "      <td>0.587367</td>\n",
       "      <td>0.786077</td>\n",
       "    </tr>\n",
       "    <tr>\n",
       "      <th>4</th>\n",
       "      <td>0.095519</td>\n",
       "      <td>0.695115</td>\n",
       "      <td>0.181204</td>\n",
       "      <td>0.182598</td>\n",
       "      <td>0.599283</td>\n",
       "    </tr>\n",
       "  </tbody>\n",
       "</table>\n",
       "</div>"
      ],
      "text/plain": [
       "          0         1         2         3         4\n",
       "0      9.99  0.685744  0.718646  0.472823  0.056659\n",
       "1  0.445046  0.473095  0.529301  0.998817  0.539899\n",
       "2   0.28987  0.358754  0.642537  0.584303  0.658858\n",
       "3  0.449842  0.902752  0.900132  0.587367  0.786077\n",
       "4  0.095519  0.695115  0.181204  0.182598  0.599283"
      ]
     },
     "execution_count": 68,
     "metadata": {},
     "output_type": "execute_result"
    }
   ],
   "source": [
    "newdf.head()"
   ]
  },
  {
   "cell_type": "code",
   "execution_count": 69,
   "id": "9c9f2441-f99c-4908-b161-8265d056fa97",
   "metadata": {},
   "outputs": [
    {
     "data": {
      "text/html": [
       "<div>\n",
       "<style scoped>\n",
       "    .dataframe tbody tr th:only-of-type {\n",
       "        vertical-align: middle;\n",
       "    }\n",
       "\n",
       "    .dataframe tbody tr th {\n",
       "        vertical-align: top;\n",
       "    }\n",
       "\n",
       "    .dataframe thead th {\n",
       "        text-align: right;\n",
       "    }\n",
       "</style>\n",
       "<table border=\"1\" class=\"dataframe\">\n",
       "  <thead>\n",
       "    <tr style=\"text-align: right;\">\n",
       "      <th></th>\n",
       "      <th>0</th>\n",
       "      <th>1</th>\n",
       "      <th>2</th>\n",
       "      <th>3</th>\n",
       "      <th>4</th>\n",
       "    </tr>\n",
       "  </thead>\n",
       "  <tbody>\n",
       "    <tr>\n",
       "      <th>0</th>\n",
       "      <td>5678</td>\n",
       "      <td>0.685744</td>\n",
       "      <td>0.718646</td>\n",
       "      <td>0.472823</td>\n",
       "      <td>0.056659</td>\n",
       "    </tr>\n",
       "    <tr>\n",
       "      <th>1</th>\n",
       "      <td>0.445046</td>\n",
       "      <td>0.473095</td>\n",
       "      <td>0.529301</td>\n",
       "      <td>0.998817</td>\n",
       "      <td>0.539899</td>\n",
       "    </tr>\n",
       "    <tr>\n",
       "      <th>2</th>\n",
       "      <td>0.28987</td>\n",
       "      <td>0.358754</td>\n",
       "      <td>0.642537</td>\n",
       "      <td>0.584303</td>\n",
       "      <td>0.658858</td>\n",
       "    </tr>\n",
       "    <tr>\n",
       "      <th>3</th>\n",
       "      <td>0.449842</td>\n",
       "      <td>0.902752</td>\n",
       "      <td>0.900132</td>\n",
       "      <td>0.587367</td>\n",
       "      <td>0.786077</td>\n",
       "    </tr>\n",
       "    <tr>\n",
       "      <th>4</th>\n",
       "      <td>0.095519</td>\n",
       "      <td>0.695115</td>\n",
       "      <td>0.181204</td>\n",
       "      <td>0.182598</td>\n",
       "      <td>0.599283</td>\n",
       "    </tr>\n",
       "  </tbody>\n",
       "</table>\n",
       "</div>"
      ],
      "text/plain": [
       "          0         1         2         3         4\n",
       "0      5678  0.685744  0.718646  0.472823  0.056659\n",
       "1  0.445046  0.473095  0.529301  0.998817  0.539899\n",
       "2   0.28987  0.358754  0.642537  0.584303  0.658858\n",
       "3  0.449842  0.902752  0.900132  0.587367  0.786077\n",
       "4  0.095519  0.695115  0.181204  0.182598  0.599283"
      ]
     },
     "execution_count": 69,
     "metadata": {},
     "output_type": "execute_result"
    }
   ],
   "source": [
    "newdf3.head()"
   ]
  },
  {
   "cell_type": "markdown",
   "id": "8afc7bde-b4b8-4685-89e8-b3328c1133ec",
   "metadata": {},
   "source": [
    "# Lock (LOC)"
   ]
  },
  {
   "cell_type": "code",
   "execution_count": 71,
   "id": "9fbe9a3d-40ed-4fb8-bcc4-fafe9f4bc4c7",
   "metadata": {},
   "outputs": [],
   "source": [
    "newdf.loc[0, 0] = 12"
   ]
  },
  {
   "cell_type": "code",
   "execution_count": 72,
   "id": "e79b56aa-18a6-47ab-a11e-dbb54ff014a2",
   "metadata": {},
   "outputs": [
    {
     "data": {
      "text/html": [
       "<div>\n",
       "<style scoped>\n",
       "    .dataframe tbody tr th:only-of-type {\n",
       "        vertical-align: middle;\n",
       "    }\n",
       "\n",
       "    .dataframe tbody tr th {\n",
       "        vertical-align: top;\n",
       "    }\n",
       "\n",
       "    .dataframe thead th {\n",
       "        text-align: right;\n",
       "    }\n",
       "</style>\n",
       "<table border=\"1\" class=\"dataframe\">\n",
       "  <thead>\n",
       "    <tr style=\"text-align: right;\">\n",
       "      <th></th>\n",
       "      <th>0</th>\n",
       "      <th>1</th>\n",
       "      <th>2</th>\n",
       "      <th>3</th>\n",
       "      <th>4</th>\n",
       "    </tr>\n",
       "  </thead>\n",
       "  <tbody>\n",
       "    <tr>\n",
       "      <th>0</th>\n",
       "      <td>12</td>\n",
       "      <td>0.685744</td>\n",
       "      <td>0.718646</td>\n",
       "      <td>0.472823</td>\n",
       "      <td>0.056659</td>\n",
       "    </tr>\n",
       "    <tr>\n",
       "      <th>1</th>\n",
       "      <td>0.445046</td>\n",
       "      <td>0.473095</td>\n",
       "      <td>0.529301</td>\n",
       "      <td>0.998817</td>\n",
       "      <td>0.539899</td>\n",
       "    </tr>\n",
       "  </tbody>\n",
       "</table>\n",
       "</div>"
      ],
      "text/plain": [
       "          0         1         2         3         4\n",
       "0        12  0.685744  0.718646  0.472823  0.056659\n",
       "1  0.445046  0.473095  0.529301  0.998817  0.539899"
      ]
     },
     "execution_count": 72,
     "metadata": {},
     "output_type": "execute_result"
    }
   ],
   "source": [
    "newdf.head(2)"
   ]
  },
  {
   "cell_type": "code",
   "execution_count": 73,
   "id": "5ffccbbc-5f3b-4c24-8813-4a6700900fcb",
   "metadata": {},
   "outputs": [
    {
     "data": {
      "text/html": [
       "<div>\n",
       "<style scoped>\n",
       "    .dataframe tbody tr th:only-of-type {\n",
       "        vertical-align: middle;\n",
       "    }\n",
       "\n",
       "    .dataframe tbody tr th {\n",
       "        vertical-align: top;\n",
       "    }\n",
       "\n",
       "    .dataframe thead th {\n",
       "        text-align: right;\n",
       "    }\n",
       "</style>\n",
       "<table border=\"1\" class=\"dataframe\">\n",
       "  <thead>\n",
       "    <tr style=\"text-align: right;\">\n",
       "      <th></th>\n",
       "      <th>0</th>\n",
       "      <th>1</th>\n",
       "      <th>2</th>\n",
       "      <th>3</th>\n",
       "      <th>4</th>\n",
       "    </tr>\n",
       "  </thead>\n",
       "  <tbody>\n",
       "    <tr>\n",
       "      <th>0</th>\n",
       "      <td>12</td>\n",
       "      <td>0.685744</td>\n",
       "      <td>0.718646</td>\n",
       "      <td>0.472823</td>\n",
       "      <td>0.056659</td>\n",
       "    </tr>\n",
       "    <tr>\n",
       "      <th>1</th>\n",
       "      <td>0.445046</td>\n",
       "      <td>0.473095</td>\n",
       "      <td>0.529301</td>\n",
       "      <td>0.998817</td>\n",
       "      <td>0.539899</td>\n",
       "    </tr>\n",
       "  </tbody>\n",
       "</table>\n",
       "</div>"
      ],
      "text/plain": [
       "          0         1         2         3         4\n",
       "0        12  0.685744  0.718646  0.472823  0.056659\n",
       "1  0.445046  0.473095  0.529301  0.998817  0.539899"
      ]
     },
     "execution_count": 73,
     "metadata": {},
     "output_type": "execute_result"
    }
   ],
   "source": [
    "newdf2.head(2)"
   ]
  },
  {
   "cell_type": "code",
   "execution_count": 74,
   "id": "8656c506-cf88-4c7d-8eac-5d60fa1dd756",
   "metadata": {},
   "outputs": [
    {
     "data": {
      "text/html": [
       "<div>\n",
       "<style scoped>\n",
       "    .dataframe tbody tr th:only-of-type {\n",
       "        vertical-align: middle;\n",
       "    }\n",
       "\n",
       "    .dataframe tbody tr th {\n",
       "        vertical-align: top;\n",
       "    }\n",
       "\n",
       "    .dataframe thead th {\n",
       "        text-align: right;\n",
       "    }\n",
       "</style>\n",
       "<table border=\"1\" class=\"dataframe\">\n",
       "  <thead>\n",
       "    <tr style=\"text-align: right;\">\n",
       "      <th></th>\n",
       "      <th>0</th>\n",
       "      <th>1</th>\n",
       "      <th>2</th>\n",
       "      <th>3</th>\n",
       "      <th>4</th>\n",
       "    </tr>\n",
       "  </thead>\n",
       "  <tbody>\n",
       "    <tr>\n",
       "      <th>0</th>\n",
       "      <td>5678</td>\n",
       "      <td>0.685744</td>\n",
       "      <td>0.718646</td>\n",
       "      <td>0.472823</td>\n",
       "      <td>0.056659</td>\n",
       "    </tr>\n",
       "    <tr>\n",
       "      <th>1</th>\n",
       "      <td>0.445046</td>\n",
       "      <td>0.473095</td>\n",
       "      <td>0.529301</td>\n",
       "      <td>0.998817</td>\n",
       "      <td>0.539899</td>\n",
       "    </tr>\n",
       "  </tbody>\n",
       "</table>\n",
       "</div>"
      ],
      "text/plain": [
       "          0         1         2         3         4\n",
       "0      5678  0.685744  0.718646  0.472823  0.056659\n",
       "1  0.445046  0.473095  0.529301  0.998817  0.539899"
      ]
     },
     "execution_count": 74,
     "metadata": {},
     "output_type": "execute_result"
    }
   ],
   "source": [
    "newdf3.head(2)"
   ]
  },
  {
   "cell_type": "code",
   "execution_count": 75,
   "id": "02b16c37-2929-4164-84a2-2b130c99b5d1",
   "metadata": {},
   "outputs": [],
   "source": [
    "# if you want columns not in default(i.e., 0, 1, 2...)"
   ]
  },
  {
   "cell_type": "code",
   "execution_count": 76,
   "id": "6503a2d7-239b-44ad-a7ed-084085d14a4c",
   "metadata": {},
   "outputs": [],
   "source": [
    "newdf.columns = list(\"ABCDE\")"
   ]
  },
  {
   "cell_type": "code",
   "execution_count": 77,
   "id": "b26b022d-f9c3-426f-aaf9-22f208f0cb0b",
   "metadata": {},
   "outputs": [
    {
     "data": {
      "text/html": [
       "<div>\n",
       "<style scoped>\n",
       "    .dataframe tbody tr th:only-of-type {\n",
       "        vertical-align: middle;\n",
       "    }\n",
       "\n",
       "    .dataframe tbody tr th {\n",
       "        vertical-align: top;\n",
       "    }\n",
       "\n",
       "    .dataframe thead th {\n",
       "        text-align: right;\n",
       "    }\n",
       "</style>\n",
       "<table border=\"1\" class=\"dataframe\">\n",
       "  <thead>\n",
       "    <tr style=\"text-align: right;\">\n",
       "      <th></th>\n",
       "      <th>A</th>\n",
       "      <th>B</th>\n",
       "      <th>C</th>\n",
       "      <th>D</th>\n",
       "      <th>E</th>\n",
       "    </tr>\n",
       "  </thead>\n",
       "  <tbody>\n",
       "    <tr>\n",
       "      <th>0</th>\n",
       "      <td>12</td>\n",
       "      <td>0.685744</td>\n",
       "      <td>0.718646</td>\n",
       "      <td>0.472823</td>\n",
       "      <td>0.056659</td>\n",
       "    </tr>\n",
       "    <tr>\n",
       "      <th>1</th>\n",
       "      <td>0.445046</td>\n",
       "      <td>0.473095</td>\n",
       "      <td>0.529301</td>\n",
       "      <td>0.998817</td>\n",
       "      <td>0.539899</td>\n",
       "    </tr>\n",
       "    <tr>\n",
       "      <th>2</th>\n",
       "      <td>0.28987</td>\n",
       "      <td>0.358754</td>\n",
       "      <td>0.642537</td>\n",
       "      <td>0.584303</td>\n",
       "      <td>0.658858</td>\n",
       "    </tr>\n",
       "    <tr>\n",
       "      <th>3</th>\n",
       "      <td>0.449842</td>\n",
       "      <td>0.902752</td>\n",
       "      <td>0.900132</td>\n",
       "      <td>0.587367</td>\n",
       "      <td>0.786077</td>\n",
       "    </tr>\n",
       "    <tr>\n",
       "      <th>4</th>\n",
       "      <td>0.095519</td>\n",
       "      <td>0.695115</td>\n",
       "      <td>0.181204</td>\n",
       "      <td>0.182598</td>\n",
       "      <td>0.599283</td>\n",
       "    </tr>\n",
       "  </tbody>\n",
       "</table>\n",
       "</div>"
      ],
      "text/plain": [
       "          A         B         C         D         E\n",
       "0        12  0.685744  0.718646  0.472823  0.056659\n",
       "1  0.445046  0.473095  0.529301  0.998817  0.539899\n",
       "2   0.28987  0.358754  0.642537  0.584303  0.658858\n",
       "3  0.449842  0.902752  0.900132  0.587367  0.786077\n",
       "4  0.095519  0.695115  0.181204  0.182598  0.599283"
      ]
     },
     "execution_count": 77,
     "metadata": {},
     "output_type": "execute_result"
    }
   ],
   "source": [
    "newdf.head()"
   ]
  },
  {
   "cell_type": "code",
   "execution_count": 78,
   "id": "9f6c13f6-9fd8-43ef-a257-875647f2f351",
   "metadata": {},
   "outputs": [
    {
     "data": {
      "text/html": [
       "<div>\n",
       "<style scoped>\n",
       "    .dataframe tbody tr th:only-of-type {\n",
       "        vertical-align: middle;\n",
       "    }\n",
       "\n",
       "    .dataframe tbody tr th {\n",
       "        vertical-align: top;\n",
       "    }\n",
       "\n",
       "    .dataframe thead th {\n",
       "        text-align: right;\n",
       "    }\n",
       "</style>\n",
       "<table border=\"1\" class=\"dataframe\">\n",
       "  <thead>\n",
       "    <tr style=\"text-align: right;\">\n",
       "      <th></th>\n",
       "      <th>A</th>\n",
       "      <th>B</th>\n",
       "      <th>C</th>\n",
       "      <th>D</th>\n",
       "      <th>E</th>\n",
       "    </tr>\n",
       "  </thead>\n",
       "  <tbody>\n",
       "    <tr>\n",
       "      <th>0</th>\n",
       "      <td>12</td>\n",
       "      <td>0.685744</td>\n",
       "      <td>0.718646</td>\n",
       "      <td>0.472823</td>\n",
       "      <td>0.056659</td>\n",
       "    </tr>\n",
       "    <tr>\n",
       "      <th>1</th>\n",
       "      <td>0.445046</td>\n",
       "      <td>0.473095</td>\n",
       "      <td>0.529301</td>\n",
       "      <td>0.998817</td>\n",
       "      <td>0.539899</td>\n",
       "    </tr>\n",
       "    <tr>\n",
       "      <th>2</th>\n",
       "      <td>0.28987</td>\n",
       "      <td>0.358754</td>\n",
       "      <td>0.642537</td>\n",
       "      <td>0.584303</td>\n",
       "      <td>0.658858</td>\n",
       "    </tr>\n",
       "    <tr>\n",
       "      <th>3</th>\n",
       "      <td>0.449842</td>\n",
       "      <td>0.902752</td>\n",
       "      <td>0.900132</td>\n",
       "      <td>0.587367</td>\n",
       "      <td>0.786077</td>\n",
       "    </tr>\n",
       "    <tr>\n",
       "      <th>4</th>\n",
       "      <td>0.095519</td>\n",
       "      <td>0.695115</td>\n",
       "      <td>0.181204</td>\n",
       "      <td>0.182598</td>\n",
       "      <td>0.599283</td>\n",
       "    </tr>\n",
       "  </tbody>\n",
       "</table>\n",
       "</div>"
      ],
      "text/plain": [
       "          A         B         C         D         E\n",
       "0        12  0.685744  0.718646  0.472823  0.056659\n",
       "1  0.445046  0.473095  0.529301  0.998817  0.539899\n",
       "2   0.28987  0.358754  0.642537  0.584303  0.658858\n",
       "3  0.449842  0.902752  0.900132  0.587367  0.786077\n",
       "4  0.095519  0.695115  0.181204  0.182598  0.599283"
      ]
     },
     "execution_count": 78,
     "metadata": {},
     "output_type": "execute_result"
    }
   ],
   "source": [
    "newdf2.head()"
   ]
  },
  {
   "cell_type": "code",
   "execution_count": 79,
   "id": "fc714496-4c55-4f6d-9a8f-da59d2f67a61",
   "metadata": {},
   "outputs": [
    {
     "data": {
      "text/html": [
       "<div>\n",
       "<style scoped>\n",
       "    .dataframe tbody tr th:only-of-type {\n",
       "        vertical-align: middle;\n",
       "    }\n",
       "\n",
       "    .dataframe tbody tr th {\n",
       "        vertical-align: top;\n",
       "    }\n",
       "\n",
       "    .dataframe thead th {\n",
       "        text-align: right;\n",
       "    }\n",
       "</style>\n",
       "<table border=\"1\" class=\"dataframe\">\n",
       "  <thead>\n",
       "    <tr style=\"text-align: right;\">\n",
       "      <th></th>\n",
       "      <th>0</th>\n",
       "      <th>1</th>\n",
       "      <th>2</th>\n",
       "      <th>3</th>\n",
       "      <th>4</th>\n",
       "    </tr>\n",
       "  </thead>\n",
       "  <tbody>\n",
       "    <tr>\n",
       "      <th>0</th>\n",
       "      <td>5678</td>\n",
       "      <td>0.685744</td>\n",
       "      <td>0.718646</td>\n",
       "      <td>0.472823</td>\n",
       "      <td>0.056659</td>\n",
       "    </tr>\n",
       "    <tr>\n",
       "      <th>1</th>\n",
       "      <td>0.445046</td>\n",
       "      <td>0.473095</td>\n",
       "      <td>0.529301</td>\n",
       "      <td>0.998817</td>\n",
       "      <td>0.539899</td>\n",
       "    </tr>\n",
       "    <tr>\n",
       "      <th>2</th>\n",
       "      <td>0.28987</td>\n",
       "      <td>0.358754</td>\n",
       "      <td>0.642537</td>\n",
       "      <td>0.584303</td>\n",
       "      <td>0.658858</td>\n",
       "    </tr>\n",
       "    <tr>\n",
       "      <th>3</th>\n",
       "      <td>0.449842</td>\n",
       "      <td>0.902752</td>\n",
       "      <td>0.900132</td>\n",
       "      <td>0.587367</td>\n",
       "      <td>0.786077</td>\n",
       "    </tr>\n",
       "    <tr>\n",
       "      <th>4</th>\n",
       "      <td>0.095519</td>\n",
       "      <td>0.695115</td>\n",
       "      <td>0.181204</td>\n",
       "      <td>0.182598</td>\n",
       "      <td>0.599283</td>\n",
       "    </tr>\n",
       "  </tbody>\n",
       "</table>\n",
       "</div>"
      ],
      "text/plain": [
       "          0         1         2         3         4\n",
       "0      5678  0.685744  0.718646  0.472823  0.056659\n",
       "1  0.445046  0.473095  0.529301  0.998817  0.539899\n",
       "2   0.28987  0.358754  0.642537  0.584303  0.658858\n",
       "3  0.449842  0.902752  0.900132  0.587367  0.786077\n",
       "4  0.095519  0.695115  0.181204  0.182598  0.599283"
      ]
     },
     "execution_count": 79,
     "metadata": {},
     "output_type": "execute_result"
    }
   ],
   "source": [
    "newdf3.head()"
   ]
  },
  {
   "cell_type": "code",
   "execution_count": 80,
   "id": "909df17a-9d78-4fe2-913c-a3e4757386f1",
   "metadata": {},
   "outputs": [],
   "source": [
    "newdf.loc[0, 'A'] = 123"
   ]
  },
  {
   "cell_type": "code",
   "execution_count": 81,
   "id": "162e40e8-c042-4b99-884e-cc3f2b338725",
   "metadata": {},
   "outputs": [
    {
     "data": {
      "text/html": [
       "<div>\n",
       "<style scoped>\n",
       "    .dataframe tbody tr th:only-of-type {\n",
       "        vertical-align: middle;\n",
       "    }\n",
       "\n",
       "    .dataframe tbody tr th {\n",
       "        vertical-align: top;\n",
       "    }\n",
       "\n",
       "    .dataframe thead th {\n",
       "        text-align: right;\n",
       "    }\n",
       "</style>\n",
       "<table border=\"1\" class=\"dataframe\">\n",
       "  <thead>\n",
       "    <tr style=\"text-align: right;\">\n",
       "      <th></th>\n",
       "      <th>A</th>\n",
       "      <th>B</th>\n",
       "      <th>C</th>\n",
       "      <th>D</th>\n",
       "      <th>E</th>\n",
       "    </tr>\n",
       "  </thead>\n",
       "  <tbody>\n",
       "    <tr>\n",
       "      <th>0</th>\n",
       "      <td>123</td>\n",
       "      <td>0.685744</td>\n",
       "      <td>0.718646</td>\n",
       "      <td>0.472823</td>\n",
       "      <td>0.056659</td>\n",
       "    </tr>\n",
       "    <tr>\n",
       "      <th>1</th>\n",
       "      <td>0.445046</td>\n",
       "      <td>0.473095</td>\n",
       "      <td>0.529301</td>\n",
       "      <td>0.998817</td>\n",
       "      <td>0.539899</td>\n",
       "    </tr>\n",
       "    <tr>\n",
       "      <th>2</th>\n",
       "      <td>0.28987</td>\n",
       "      <td>0.358754</td>\n",
       "      <td>0.642537</td>\n",
       "      <td>0.584303</td>\n",
       "      <td>0.658858</td>\n",
       "    </tr>\n",
       "    <tr>\n",
       "      <th>3</th>\n",
       "      <td>0.449842</td>\n",
       "      <td>0.902752</td>\n",
       "      <td>0.900132</td>\n",
       "      <td>0.587367</td>\n",
       "      <td>0.786077</td>\n",
       "    </tr>\n",
       "    <tr>\n",
       "      <th>4</th>\n",
       "      <td>0.095519</td>\n",
       "      <td>0.695115</td>\n",
       "      <td>0.181204</td>\n",
       "      <td>0.182598</td>\n",
       "      <td>0.599283</td>\n",
       "    </tr>\n",
       "  </tbody>\n",
       "</table>\n",
       "</div>"
      ],
      "text/plain": [
       "          A         B         C         D         E\n",
       "0       123  0.685744  0.718646  0.472823  0.056659\n",
       "1  0.445046  0.473095  0.529301  0.998817  0.539899\n",
       "2   0.28987  0.358754  0.642537  0.584303  0.658858\n",
       "3  0.449842  0.902752  0.900132  0.587367  0.786077\n",
       "4  0.095519  0.695115  0.181204  0.182598  0.599283"
      ]
     },
     "execution_count": 81,
     "metadata": {},
     "output_type": "execute_result"
    }
   ],
   "source": [
    "newdf.head()"
   ]
  },
  {
   "cell_type": "markdown",
   "id": "1ab98a8b-92f5-4106-b9ea-f9b54707d8b7",
   "metadata": {},
   "source": [
    "# Drop"
   ]
  },
  {
   "cell_type": "code",
   "execution_count": 83,
   "id": "19d39bed-2df9-4c0f-8a25-44d2417a7e88",
   "metadata": {},
   "outputs": [],
   "source": [
    "newdf.loc[0, 0] = 10"
   ]
  },
  {
   "cell_type": "code",
   "execution_count": 84,
   "id": "9de47c28-521d-4431-98cf-8536251d9a40",
   "metadata": {},
   "outputs": [
    {
     "data": {
      "text/html": [
       "<div>\n",
       "<style scoped>\n",
       "    .dataframe tbody tr th:only-of-type {\n",
       "        vertical-align: middle;\n",
       "    }\n",
       "\n",
       "    .dataframe tbody tr th {\n",
       "        vertical-align: top;\n",
       "    }\n",
       "\n",
       "    .dataframe thead th {\n",
       "        text-align: right;\n",
       "    }\n",
       "</style>\n",
       "<table border=\"1\" class=\"dataframe\">\n",
       "  <thead>\n",
       "    <tr style=\"text-align: right;\">\n",
       "      <th></th>\n",
       "      <th>A</th>\n",
       "      <th>B</th>\n",
       "      <th>C</th>\n",
       "      <th>D</th>\n",
       "      <th>E</th>\n",
       "      <th>0</th>\n",
       "    </tr>\n",
       "  </thead>\n",
       "  <tbody>\n",
       "    <tr>\n",
       "      <th>0</th>\n",
       "      <td>123</td>\n",
       "      <td>0.685744</td>\n",
       "      <td>0.718646</td>\n",
       "      <td>0.472823</td>\n",
       "      <td>0.056659</td>\n",
       "      <td>10.0</td>\n",
       "    </tr>\n",
       "    <tr>\n",
       "      <th>1</th>\n",
       "      <td>0.445046</td>\n",
       "      <td>0.473095</td>\n",
       "      <td>0.529301</td>\n",
       "      <td>0.998817</td>\n",
       "      <td>0.539899</td>\n",
       "      <td>NaN</td>\n",
       "    </tr>\n",
       "    <tr>\n",
       "      <th>2</th>\n",
       "      <td>0.28987</td>\n",
       "      <td>0.358754</td>\n",
       "      <td>0.642537</td>\n",
       "      <td>0.584303</td>\n",
       "      <td>0.658858</td>\n",
       "      <td>NaN</td>\n",
       "    </tr>\n",
       "    <tr>\n",
       "      <th>3</th>\n",
       "      <td>0.449842</td>\n",
       "      <td>0.902752</td>\n",
       "      <td>0.900132</td>\n",
       "      <td>0.587367</td>\n",
       "      <td>0.786077</td>\n",
       "      <td>NaN</td>\n",
       "    </tr>\n",
       "    <tr>\n",
       "      <th>4</th>\n",
       "      <td>0.095519</td>\n",
       "      <td>0.695115</td>\n",
       "      <td>0.181204</td>\n",
       "      <td>0.182598</td>\n",
       "      <td>0.599283</td>\n",
       "      <td>NaN</td>\n",
       "    </tr>\n",
       "  </tbody>\n",
       "</table>\n",
       "</div>"
      ],
      "text/plain": [
       "          A         B         C         D         E     0\n",
       "0       123  0.685744  0.718646  0.472823  0.056659  10.0\n",
       "1  0.445046  0.473095  0.529301  0.998817  0.539899   NaN\n",
       "2   0.28987  0.358754  0.642537  0.584303  0.658858   NaN\n",
       "3  0.449842  0.902752  0.900132  0.587367  0.786077   NaN\n",
       "4  0.095519  0.695115  0.181204  0.182598  0.599283   NaN"
      ]
     },
     "execution_count": 84,
     "metadata": {},
     "output_type": "execute_result"
    }
   ],
   "source": [
    "newdf.head()"
   ]
  },
  {
   "cell_type": "code",
   "execution_count": 85,
   "id": "c96291df-8ca0-4a1d-b76f-c7572f9ae532",
   "metadata": {},
   "outputs": [],
   "source": [
    "newdf = newdf.drop(0, axis=1)"
   ]
  },
  {
   "cell_type": "code",
   "execution_count": 86,
   "id": "f2ed812a-b146-4fde-b9df-498b46747ee0",
   "metadata": {},
   "outputs": [
    {
     "data": {
      "text/html": [
       "<div>\n",
       "<style scoped>\n",
       "    .dataframe tbody tr th:only-of-type {\n",
       "        vertical-align: middle;\n",
       "    }\n",
       "\n",
       "    .dataframe tbody tr th {\n",
       "        vertical-align: top;\n",
       "    }\n",
       "\n",
       "    .dataframe thead th {\n",
       "        text-align: right;\n",
       "    }\n",
       "</style>\n",
       "<table border=\"1\" class=\"dataframe\">\n",
       "  <thead>\n",
       "    <tr style=\"text-align: right;\">\n",
       "      <th></th>\n",
       "      <th>A</th>\n",
       "      <th>B</th>\n",
       "      <th>C</th>\n",
       "      <th>D</th>\n",
       "      <th>E</th>\n",
       "    </tr>\n",
       "  </thead>\n",
       "  <tbody>\n",
       "    <tr>\n",
       "      <th>0</th>\n",
       "      <td>123</td>\n",
       "      <td>0.685744</td>\n",
       "      <td>0.718646</td>\n",
       "      <td>0.472823</td>\n",
       "      <td>0.056659</td>\n",
       "    </tr>\n",
       "    <tr>\n",
       "      <th>1</th>\n",
       "      <td>0.445046</td>\n",
       "      <td>0.473095</td>\n",
       "      <td>0.529301</td>\n",
       "      <td>0.998817</td>\n",
       "      <td>0.539899</td>\n",
       "    </tr>\n",
       "    <tr>\n",
       "      <th>2</th>\n",
       "      <td>0.28987</td>\n",
       "      <td>0.358754</td>\n",
       "      <td>0.642537</td>\n",
       "      <td>0.584303</td>\n",
       "      <td>0.658858</td>\n",
       "    </tr>\n",
       "    <tr>\n",
       "      <th>3</th>\n",
       "      <td>0.449842</td>\n",
       "      <td>0.902752</td>\n",
       "      <td>0.900132</td>\n",
       "      <td>0.587367</td>\n",
       "      <td>0.786077</td>\n",
       "    </tr>\n",
       "    <tr>\n",
       "      <th>4</th>\n",
       "      <td>0.095519</td>\n",
       "      <td>0.695115</td>\n",
       "      <td>0.181204</td>\n",
       "      <td>0.182598</td>\n",
       "      <td>0.599283</td>\n",
       "    </tr>\n",
       "  </tbody>\n",
       "</table>\n",
       "</div>"
      ],
      "text/plain": [
       "          A         B         C         D         E\n",
       "0       123  0.685744  0.718646  0.472823  0.056659\n",
       "1  0.445046  0.473095  0.529301  0.998817  0.539899\n",
       "2   0.28987  0.358754  0.642537  0.584303  0.658858\n",
       "3  0.449842  0.902752  0.900132  0.587367  0.786077\n",
       "4  0.095519  0.695115  0.181204  0.182598  0.599283"
      ]
     },
     "execution_count": 86,
     "metadata": {},
     "output_type": "execute_result"
    }
   ],
   "source": [
    "newdf.head()"
   ]
  },
  {
   "cell_type": "markdown",
   "id": "0158ccc5-0f75-43b9-b929-6cd950174d90",
   "metadata": {},
   "source": [
    "# Lock (LOC)"
   ]
  },
  {
   "cell_type": "code",
   "execution_count": 88,
   "id": "e3519148-a85c-45fc-b703-650ab872e53b",
   "metadata": {},
   "outputs": [],
   "source": [
    "# if you wish to have few specific columns and rows"
   ]
  },
  {
   "cell_type": "code",
   "execution_count": 89,
   "id": "941fe110-6a78-4bdd-8848-90287493dc12",
   "metadata": {},
   "outputs": [],
   "source": [
    "# it just returing a new DataFrame"
   ]
  },
  {
   "cell_type": "code",
   "execution_count": 90,
   "id": "80345170-5988-4487-a234-12b8ec7962fc",
   "metadata": {},
   "outputs": [
    {
     "data": {
      "text/html": [
       "<div>\n",
       "<style scoped>\n",
       "    .dataframe tbody tr th:only-of-type {\n",
       "        vertical-align: middle;\n",
       "    }\n",
       "\n",
       "    .dataframe tbody tr th {\n",
       "        vertical-align: top;\n",
       "    }\n",
       "\n",
       "    .dataframe thead th {\n",
       "        text-align: right;\n",
       "    }\n",
       "</style>\n",
       "<table border=\"1\" class=\"dataframe\">\n",
       "  <thead>\n",
       "    <tr style=\"text-align: right;\">\n",
       "      <th></th>\n",
       "      <th>C</th>\n",
       "      <th>D</th>\n",
       "    </tr>\n",
       "  </thead>\n",
       "  <tbody>\n",
       "    <tr>\n",
       "      <th>1</th>\n",
       "      <td>0.529301</td>\n",
       "      <td>0.998817</td>\n",
       "    </tr>\n",
       "    <tr>\n",
       "      <th>2</th>\n",
       "      <td>0.642537</td>\n",
       "      <td>0.584303</td>\n",
       "    </tr>\n",
       "  </tbody>\n",
       "</table>\n",
       "</div>"
      ],
      "text/plain": [
       "          C         D\n",
       "1  0.529301  0.998817\n",
       "2  0.642537  0.584303"
      ]
     },
     "execution_count": 90,
     "metadata": {},
     "output_type": "execute_result"
    }
   ],
   "source": [
    "newdf.loc[[1,2], ['C','D']]"
   ]
  },
  {
   "cell_type": "code",
   "execution_count": 91,
   "id": "a4eda7b0-694a-42e2-b383-0bacee8a3f7f",
   "metadata": {},
   "outputs": [],
   "source": [
    "# want all rows"
   ]
  },
  {
   "cell_type": "code",
   "execution_count": 92,
   "id": "2dee0646-5523-4083-aba7-cfe6d34c80a2",
   "metadata": {},
   "outputs": [
    {
     "data": {
      "text/html": [
       "<div>\n",
       "<style scoped>\n",
       "    .dataframe tbody tr th:only-of-type {\n",
       "        vertical-align: middle;\n",
       "    }\n",
       "\n",
       "    .dataframe tbody tr th {\n",
       "        vertical-align: top;\n",
       "    }\n",
       "\n",
       "    .dataframe thead th {\n",
       "        text-align: right;\n",
       "    }\n",
       "</style>\n",
       "<table border=\"1\" class=\"dataframe\">\n",
       "  <thead>\n",
       "    <tr style=\"text-align: right;\">\n",
       "      <th></th>\n",
       "      <th>C</th>\n",
       "      <th>D</th>\n",
       "    </tr>\n",
       "  </thead>\n",
       "  <tbody>\n",
       "    <tr>\n",
       "      <th>0</th>\n",
       "      <td>0.718646</td>\n",
       "      <td>0.472823</td>\n",
       "    </tr>\n",
       "    <tr>\n",
       "      <th>1</th>\n",
       "      <td>0.529301</td>\n",
       "      <td>0.998817</td>\n",
       "    </tr>\n",
       "    <tr>\n",
       "      <th>2</th>\n",
       "      <td>0.642537</td>\n",
       "      <td>0.584303</td>\n",
       "    </tr>\n",
       "    <tr>\n",
       "      <th>3</th>\n",
       "      <td>0.900132</td>\n",
       "      <td>0.587367</td>\n",
       "    </tr>\n",
       "    <tr>\n",
       "      <th>4</th>\n",
       "      <td>0.181204</td>\n",
       "      <td>0.182598</td>\n",
       "    </tr>\n",
       "    <tr>\n",
       "      <th>...</th>\n",
       "      <td>...</td>\n",
       "      <td>...</td>\n",
       "    </tr>\n",
       "    <tr>\n",
       "      <th>329</th>\n",
       "      <td>0.987056</td>\n",
       "      <td>0.266177</td>\n",
       "    </tr>\n",
       "    <tr>\n",
       "      <th>330</th>\n",
       "      <td>0.646198</td>\n",
       "      <td>0.360035</td>\n",
       "    </tr>\n",
       "    <tr>\n",
       "      <th>331</th>\n",
       "      <td>0.918227</td>\n",
       "      <td>0.428272</td>\n",
       "    </tr>\n",
       "    <tr>\n",
       "      <th>332</th>\n",
       "      <td>0.741653</td>\n",
       "      <td>0.073751</td>\n",
       "    </tr>\n",
       "    <tr>\n",
       "      <th>333</th>\n",
       "      <td>0.766152</td>\n",
       "      <td>0.123394</td>\n",
       "    </tr>\n",
       "  </tbody>\n",
       "</table>\n",
       "<p>334 rows × 2 columns</p>\n",
       "</div>"
      ],
      "text/plain": [
       "            C         D\n",
       "0    0.718646  0.472823\n",
       "1    0.529301  0.998817\n",
       "2    0.642537  0.584303\n",
       "3    0.900132  0.587367\n",
       "4    0.181204  0.182598\n",
       "..        ...       ...\n",
       "329  0.987056  0.266177\n",
       "330  0.646198  0.360035\n",
       "331  0.918227  0.428272\n",
       "332  0.741653  0.073751\n",
       "333  0.766152  0.123394\n",
       "\n",
       "[334 rows x 2 columns]"
      ]
     },
     "execution_count": 92,
     "metadata": {},
     "output_type": "execute_result"
    }
   ],
   "source": [
    "newdf.loc[:, ['C', 'D']]"
   ]
  },
  {
   "cell_type": "code",
   "execution_count": 93,
   "id": "fd1fdf72-1604-4ea3-93f8-7c562e4c3e56",
   "metadata": {},
   "outputs": [],
   "source": [
    "# want all columns"
   ]
  },
  {
   "cell_type": "code",
   "execution_count": 94,
   "id": "9ac12e9a-36eb-43e1-bc32-5bff109fe358",
   "metadata": {},
   "outputs": [
    {
     "data": {
      "text/html": [
       "<div>\n",
       "<style scoped>\n",
       "    .dataframe tbody tr th:only-of-type {\n",
       "        vertical-align: middle;\n",
       "    }\n",
       "\n",
       "    .dataframe tbody tr th {\n",
       "        vertical-align: top;\n",
       "    }\n",
       "\n",
       "    .dataframe thead th {\n",
       "        text-align: right;\n",
       "    }\n",
       "</style>\n",
       "<table border=\"1\" class=\"dataframe\">\n",
       "  <thead>\n",
       "    <tr style=\"text-align: right;\">\n",
       "      <th></th>\n",
       "      <th>A</th>\n",
       "      <th>B</th>\n",
       "      <th>C</th>\n",
       "      <th>D</th>\n",
       "      <th>E</th>\n",
       "    </tr>\n",
       "  </thead>\n",
       "  <tbody>\n",
       "    <tr>\n",
       "      <th>1</th>\n",
       "      <td>0.445046</td>\n",
       "      <td>0.473095</td>\n",
       "      <td>0.529301</td>\n",
       "      <td>0.998817</td>\n",
       "      <td>0.539899</td>\n",
       "    </tr>\n",
       "    <tr>\n",
       "      <th>2</th>\n",
       "      <td>0.28987</td>\n",
       "      <td>0.358754</td>\n",
       "      <td>0.642537</td>\n",
       "      <td>0.584303</td>\n",
       "      <td>0.658858</td>\n",
       "    </tr>\n",
       "  </tbody>\n",
       "</table>\n",
       "</div>"
      ],
      "text/plain": [
       "          A         B         C         D         E\n",
       "1  0.445046  0.473095  0.529301  0.998817  0.539899\n",
       "2   0.28987  0.358754  0.642537  0.584303  0.658858"
      ]
     },
     "execution_count": 94,
     "metadata": {},
     "output_type": "execute_result"
    }
   ],
   "source": [
    "newdf.loc[[1, 2], :]"
   ]
  },
  {
   "cell_type": "code",
   "execution_count": 95,
   "id": "37c8d246-6fbc-4311-877a-c4ca25fbb9dc",
   "metadata": {},
   "outputs": [],
   "source": [
    "# complex queries"
   ]
  },
  {
   "cell_type": "code",
   "execution_count": 96,
   "id": "0e5314d8-4016-4a2d-baf0-f464bdf8a108",
   "metadata": {},
   "outputs": [
    {
     "data": {
      "text/html": [
       "<div>\n",
       "<style scoped>\n",
       "    .dataframe tbody tr th:only-of-type {\n",
       "        vertical-align: middle;\n",
       "    }\n",
       "\n",
       "    .dataframe tbody tr th {\n",
       "        vertical-align: top;\n",
       "    }\n",
       "\n",
       "    .dataframe thead th {\n",
       "        text-align: right;\n",
       "    }\n",
       "</style>\n",
       "<table border=\"1\" class=\"dataframe\">\n",
       "  <thead>\n",
       "    <tr style=\"text-align: right;\">\n",
       "      <th></th>\n",
       "      <th>A</th>\n",
       "      <th>B</th>\n",
       "      <th>C</th>\n",
       "      <th>D</th>\n",
       "      <th>E</th>\n",
       "    </tr>\n",
       "  </thead>\n",
       "  <tbody>\n",
       "    <tr>\n",
       "      <th>2</th>\n",
       "      <td>0.28987</td>\n",
       "      <td>0.358754</td>\n",
       "      <td>0.642537</td>\n",
       "      <td>0.584303</td>\n",
       "      <td>0.658858</td>\n",
       "    </tr>\n",
       "    <tr>\n",
       "      <th>4</th>\n",
       "      <td>0.095519</td>\n",
       "      <td>0.695115</td>\n",
       "      <td>0.181204</td>\n",
       "      <td>0.182598</td>\n",
       "      <td>0.599283</td>\n",
       "    </tr>\n",
       "    <tr>\n",
       "      <th>7</th>\n",
       "      <td>0.216881</td>\n",
       "      <td>0.701791</td>\n",
       "      <td>0.053425</td>\n",
       "      <td>0.259723</td>\n",
       "      <td>0.347473</td>\n",
       "    </tr>\n",
       "    <tr>\n",
       "      <th>8</th>\n",
       "      <td>0.039725</td>\n",
       "      <td>0.217903</td>\n",
       "      <td>0.136274</td>\n",
       "      <td>0.784907</td>\n",
       "      <td>0.799664</td>\n",
       "    </tr>\n",
       "    <tr>\n",
       "      <th>15</th>\n",
       "      <td>0.022699</td>\n",
       "      <td>0.796924</td>\n",
       "      <td>0.108585</td>\n",
       "      <td>0.250526</td>\n",
       "      <td>0.075091</td>\n",
       "    </tr>\n",
       "    <tr>\n",
       "      <th>...</th>\n",
       "      <td>...</td>\n",
       "      <td>...</td>\n",
       "      <td>...</td>\n",
       "      <td>...</td>\n",
       "      <td>...</td>\n",
       "    </tr>\n",
       "    <tr>\n",
       "      <th>325</th>\n",
       "      <td>0.086713</td>\n",
       "      <td>0.438454</td>\n",
       "      <td>0.167581</td>\n",
       "      <td>0.400445</td>\n",
       "      <td>0.926271</td>\n",
       "    </tr>\n",
       "    <tr>\n",
       "      <th>327</th>\n",
       "      <td>0.168633</td>\n",
       "      <td>0.133286</td>\n",
       "      <td>0.245767</td>\n",
       "      <td>0.819282</td>\n",
       "      <td>0.197934</td>\n",
       "    </tr>\n",
       "    <tr>\n",
       "      <th>328</th>\n",
       "      <td>0.244902</td>\n",
       "      <td>0.797067</td>\n",
       "      <td>0.329925</td>\n",
       "      <td>0.988924</td>\n",
       "      <td>0.865122</td>\n",
       "    </tr>\n",
       "    <tr>\n",
       "      <th>330</th>\n",
       "      <td>0.102026</td>\n",
       "      <td>0.907161</td>\n",
       "      <td>0.646198</td>\n",
       "      <td>0.360035</td>\n",
       "      <td>0.487142</td>\n",
       "    </tr>\n",
       "    <tr>\n",
       "      <th>331</th>\n",
       "      <td>0.292785</td>\n",
       "      <td>0.612258</td>\n",
       "      <td>0.918227</td>\n",
       "      <td>0.428272</td>\n",
       "      <td>0.807383</td>\n",
       "    </tr>\n",
       "  </tbody>\n",
       "</table>\n",
       "<p>91 rows × 5 columns</p>\n",
       "</div>"
      ],
      "text/plain": [
       "            A         B         C         D         E\n",
       "2     0.28987  0.358754  0.642537  0.584303  0.658858\n",
       "4    0.095519  0.695115  0.181204  0.182598  0.599283\n",
       "7    0.216881  0.701791  0.053425  0.259723  0.347473\n",
       "8    0.039725  0.217903  0.136274  0.784907  0.799664\n",
       "15   0.022699  0.796924  0.108585  0.250526  0.075091\n",
       "..        ...       ...       ...       ...       ...\n",
       "325  0.086713  0.438454  0.167581  0.400445  0.926271\n",
       "327  0.168633  0.133286  0.245767  0.819282  0.197934\n",
       "328  0.244902  0.797067  0.329925  0.988924  0.865122\n",
       "330  0.102026  0.907161  0.646198  0.360035  0.487142\n",
       "331  0.292785  0.612258  0.918227  0.428272  0.807383\n",
       "\n",
       "[91 rows x 5 columns]"
      ]
     },
     "execution_count": 96,
     "metadata": {},
     "output_type": "execute_result"
    }
   ],
   "source": [
    "newdf.loc[(newdf['A']<0.3)]"
   ]
  },
  {
   "cell_type": "code",
   "execution_count": 97,
   "id": "5dfe8c61-29e0-46d3-a65d-d8e1f715a4de",
   "metadata": {},
   "outputs": [
    {
     "data": {
      "text/html": [
       "<div>\n",
       "<style scoped>\n",
       "    .dataframe tbody tr th:only-of-type {\n",
       "        vertical-align: middle;\n",
       "    }\n",
       "\n",
       "    .dataframe tbody tr th {\n",
       "        vertical-align: top;\n",
       "    }\n",
       "\n",
       "    .dataframe thead th {\n",
       "        text-align: right;\n",
       "    }\n",
       "</style>\n",
       "<table border=\"1\" class=\"dataframe\">\n",
       "  <thead>\n",
       "    <tr style=\"text-align: right;\">\n",
       "      <th></th>\n",
       "      <th>A</th>\n",
       "      <th>B</th>\n",
       "      <th>C</th>\n",
       "      <th>D</th>\n",
       "      <th>E</th>\n",
       "    </tr>\n",
       "  </thead>\n",
       "  <tbody>\n",
       "    <tr>\n",
       "      <th>2</th>\n",
       "      <td>0.28987</td>\n",
       "      <td>0.358754</td>\n",
       "      <td>0.642537</td>\n",
       "      <td>0.584303</td>\n",
       "      <td>0.658858</td>\n",
       "    </tr>\n",
       "    <tr>\n",
       "      <th>4</th>\n",
       "      <td>0.095519</td>\n",
       "      <td>0.695115</td>\n",
       "      <td>0.181204</td>\n",
       "      <td>0.182598</td>\n",
       "      <td>0.599283</td>\n",
       "    </tr>\n",
       "    <tr>\n",
       "      <th>8</th>\n",
       "      <td>0.039725</td>\n",
       "      <td>0.217903</td>\n",
       "      <td>0.136274</td>\n",
       "      <td>0.784907</td>\n",
       "      <td>0.799664</td>\n",
       "    </tr>\n",
       "    <tr>\n",
       "      <th>15</th>\n",
       "      <td>0.022699</td>\n",
       "      <td>0.796924</td>\n",
       "      <td>0.108585</td>\n",
       "      <td>0.250526</td>\n",
       "      <td>0.075091</td>\n",
       "    </tr>\n",
       "    <tr>\n",
       "      <th>20</th>\n",
       "      <td>0.091863</td>\n",
       "      <td>0.172400</td>\n",
       "      <td>0.181769</td>\n",
       "      <td>0.116651</td>\n",
       "      <td>0.119937</td>\n",
       "    </tr>\n",
       "    <tr>\n",
       "      <th>...</th>\n",
       "      <td>...</td>\n",
       "      <td>...</td>\n",
       "      <td>...</td>\n",
       "      <td>...</td>\n",
       "      <td>...</td>\n",
       "    </tr>\n",
       "    <tr>\n",
       "      <th>325</th>\n",
       "      <td>0.086713</td>\n",
       "      <td>0.438454</td>\n",
       "      <td>0.167581</td>\n",
       "      <td>0.400445</td>\n",
       "      <td>0.926271</td>\n",
       "    </tr>\n",
       "    <tr>\n",
       "      <th>327</th>\n",
       "      <td>0.168633</td>\n",
       "      <td>0.133286</td>\n",
       "      <td>0.245767</td>\n",
       "      <td>0.819282</td>\n",
       "      <td>0.197934</td>\n",
       "    </tr>\n",
       "    <tr>\n",
       "      <th>328</th>\n",
       "      <td>0.244902</td>\n",
       "      <td>0.797067</td>\n",
       "      <td>0.329925</td>\n",
       "      <td>0.988924</td>\n",
       "      <td>0.865122</td>\n",
       "    </tr>\n",
       "    <tr>\n",
       "      <th>330</th>\n",
       "      <td>0.102026</td>\n",
       "      <td>0.907161</td>\n",
       "      <td>0.646198</td>\n",
       "      <td>0.360035</td>\n",
       "      <td>0.487142</td>\n",
       "    </tr>\n",
       "    <tr>\n",
       "      <th>331</th>\n",
       "      <td>0.292785</td>\n",
       "      <td>0.612258</td>\n",
       "      <td>0.918227</td>\n",
       "      <td>0.428272</td>\n",
       "      <td>0.807383</td>\n",
       "    </tr>\n",
       "  </tbody>\n",
       "</table>\n",
       "<p>87 rows × 5 columns</p>\n",
       "</div>"
      ],
      "text/plain": [
       "            A         B         C         D         E\n",
       "2     0.28987  0.358754  0.642537  0.584303  0.658858\n",
       "4    0.095519  0.695115  0.181204  0.182598  0.599283\n",
       "8    0.039725  0.217903  0.136274  0.784907  0.799664\n",
       "15   0.022699  0.796924  0.108585  0.250526  0.075091\n",
       "20   0.091863  0.172400  0.181769  0.116651  0.119937\n",
       "..        ...       ...       ...       ...       ...\n",
       "325  0.086713  0.438454  0.167581  0.400445  0.926271\n",
       "327  0.168633  0.133286  0.245767  0.819282  0.197934\n",
       "328  0.244902  0.797067  0.329925  0.988924  0.865122\n",
       "330  0.102026  0.907161  0.646198  0.360035  0.487142\n",
       "331  0.292785  0.612258  0.918227  0.428272  0.807383\n",
       "\n",
       "[87 rows x 5 columns]"
      ]
     },
     "execution_count": 97,
     "metadata": {},
     "output_type": "execute_result"
    }
   ],
   "source": [
    "newdf.loc[(newdf['A']<0.3) & (newdf['C']>0.1)]"
   ]
  },
  {
   "cell_type": "markdown",
   "id": "eee9d54b-15e9-4beb-b4be-9fbb723d3f76",
   "metadata": {},
   "source": [
    "# ILOC"
   ]
  },
  {
   "cell_type": "code",
   "execution_count": 99,
   "id": "8fc69dc3-fb3b-4c7d-92fa-a9ba0d9a2d09",
   "metadata": {},
   "outputs": [
    {
     "data": {
      "text/html": [
       "<div>\n",
       "<style scoped>\n",
       "    .dataframe tbody tr th:only-of-type {\n",
       "        vertical-align: middle;\n",
       "    }\n",
       "\n",
       "    .dataframe tbody tr th {\n",
       "        vertical-align: top;\n",
       "    }\n",
       "\n",
       "    .dataframe thead th {\n",
       "        text-align: right;\n",
       "    }\n",
       "</style>\n",
       "<table border=\"1\" class=\"dataframe\">\n",
       "  <thead>\n",
       "    <tr style=\"text-align: right;\">\n",
       "      <th></th>\n",
       "      <th>A</th>\n",
       "      <th>B</th>\n",
       "      <th>C</th>\n",
       "      <th>D</th>\n",
       "      <th>E</th>\n",
       "    </tr>\n",
       "  </thead>\n",
       "  <tbody>\n",
       "    <tr>\n",
       "      <th>0</th>\n",
       "      <td>123</td>\n",
       "      <td>0.685744</td>\n",
       "      <td>0.718646</td>\n",
       "      <td>0.472823</td>\n",
       "      <td>0.056659</td>\n",
       "    </tr>\n",
       "    <tr>\n",
       "      <th>1</th>\n",
       "      <td>0.445046</td>\n",
       "      <td>0.473095</td>\n",
       "      <td>0.529301</td>\n",
       "      <td>0.998817</td>\n",
       "      <td>0.539899</td>\n",
       "    </tr>\n",
       "  </tbody>\n",
       "</table>\n",
       "</div>"
      ],
      "text/plain": [
       "          A         B         C         D         E\n",
       "0       123  0.685744  0.718646  0.472823  0.056659\n",
       "1  0.445046  0.473095  0.529301  0.998817  0.539899"
      ]
     },
     "execution_count": 99,
     "metadata": {},
     "output_type": "execute_result"
    }
   ],
   "source": [
    "newdf.head(2)"
   ]
  },
  {
   "cell_type": "code",
   "execution_count": 100,
   "id": "30cc3000-bfd5-4654-8f58-27c64dab98d9",
   "metadata": {},
   "outputs": [
    {
     "data": {
      "text/plain": [
       "0.7186459742968249"
      ]
     },
     "execution_count": 100,
     "metadata": {},
     "output_type": "execute_result"
    }
   ],
   "source": [
    "newdf.iloc[0,2]"
   ]
  },
  {
   "cell_type": "code",
   "execution_count": 101,
   "id": "8a7546c1-182c-41e5-8329-212cb1742ab3",
   "metadata": {},
   "outputs": [
    {
     "data": {
      "text/plain": [
       "0.05665888057629154"
      ]
     },
     "execution_count": 101,
     "metadata": {},
     "output_type": "execute_result"
    }
   ],
   "source": [
    "newdf.iloc[0,4]"
   ]
  },
  {
   "cell_type": "code",
   "execution_count": 102,
   "id": "59982085-1cfe-45e3-af3c-7f249a331bb4",
   "metadata": {},
   "outputs": [
    {
     "data": {
      "text/html": [
       "<div>\n",
       "<style scoped>\n",
       "    .dataframe tbody tr th:only-of-type {\n",
       "        vertical-align: middle;\n",
       "    }\n",
       "\n",
       "    .dataframe tbody tr th {\n",
       "        vertical-align: top;\n",
       "    }\n",
       "\n",
       "    .dataframe thead th {\n",
       "        text-align: right;\n",
       "    }\n",
       "</style>\n",
       "<table border=\"1\" class=\"dataframe\">\n",
       "  <thead>\n",
       "    <tr style=\"text-align: right;\">\n",
       "      <th></th>\n",
       "      <th>B</th>\n",
       "      <th>C</th>\n",
       "    </tr>\n",
       "  </thead>\n",
       "  <tbody>\n",
       "    <tr>\n",
       "      <th>0</th>\n",
       "      <td>0.685744</td>\n",
       "      <td>0.718646</td>\n",
       "    </tr>\n",
       "    <tr>\n",
       "      <th>5</th>\n",
       "      <td>0.316161</td>\n",
       "      <td>0.389936</td>\n",
       "    </tr>\n",
       "  </tbody>\n",
       "</table>\n",
       "</div>"
      ],
      "text/plain": [
       "          B         C\n",
       "0  0.685744  0.718646\n",
       "5  0.316161  0.389936"
      ]
     },
     "execution_count": 102,
     "metadata": {},
     "output_type": "execute_result"
    }
   ],
   "source": [
    "newdf.iloc[[0, 5],[1, 2]]"
   ]
  },
  {
   "cell_type": "code",
   "execution_count": 103,
   "id": "8c5a0a79-35c6-4882-9201-eda245e2d60d",
   "metadata": {},
   "outputs": [],
   "source": [
    "# wanna drop one row"
   ]
  },
  {
   "cell_type": "code",
   "execution_count": 104,
   "id": "64e7bda4-7d48-4ced-b736-017aa307579b",
   "metadata": {},
   "outputs": [
    {
     "data": {
      "text/html": [
       "<div>\n",
       "<style scoped>\n",
       "    .dataframe tbody tr th:only-of-type {\n",
       "        vertical-align: middle;\n",
       "    }\n",
       "\n",
       "    .dataframe tbody tr th {\n",
       "        vertical-align: top;\n",
       "    }\n",
       "\n",
       "    .dataframe thead th {\n",
       "        text-align: right;\n",
       "    }\n",
       "</style>\n",
       "<table border=\"1\" class=\"dataframe\">\n",
       "  <thead>\n",
       "    <tr style=\"text-align: right;\">\n",
       "      <th></th>\n",
       "      <th>A</th>\n",
       "      <th>B</th>\n",
       "      <th>C</th>\n",
       "      <th>D</th>\n",
       "      <th>E</th>\n",
       "    </tr>\n",
       "  </thead>\n",
       "  <tbody>\n",
       "    <tr>\n",
       "      <th>0</th>\n",
       "      <td>123</td>\n",
       "      <td>0.685744</td>\n",
       "      <td>0.718646</td>\n",
       "      <td>0.472823</td>\n",
       "      <td>0.056659</td>\n",
       "    </tr>\n",
       "    <tr>\n",
       "      <th>1</th>\n",
       "      <td>0.445046</td>\n",
       "      <td>0.473095</td>\n",
       "      <td>0.529301</td>\n",
       "      <td>0.998817</td>\n",
       "      <td>0.539899</td>\n",
       "    </tr>\n",
       "    <tr>\n",
       "      <th>2</th>\n",
       "      <td>0.28987</td>\n",
       "      <td>0.358754</td>\n",
       "      <td>0.642537</td>\n",
       "      <td>0.584303</td>\n",
       "      <td>0.658858</td>\n",
       "    </tr>\n",
       "  </tbody>\n",
       "</table>\n",
       "</div>"
      ],
      "text/plain": [
       "          A         B         C         D         E\n",
       "0       123  0.685744  0.718646  0.472823  0.056659\n",
       "1  0.445046  0.473095  0.529301  0.998817  0.539899\n",
       "2   0.28987  0.358754  0.642537  0.584303  0.658858"
      ]
     },
     "execution_count": 104,
     "metadata": {},
     "output_type": "execute_result"
    }
   ],
   "source": [
    "newdf.head(3)"
   ]
  },
  {
   "cell_type": "code",
   "execution_count": 105,
   "id": "88cd375d-05b0-4172-b4a8-c8636ac8d706",
   "metadata": {},
   "outputs": [
    {
     "data": {
      "text/html": [
       "<div>\n",
       "<style scoped>\n",
       "    .dataframe tbody tr th:only-of-type {\n",
       "        vertical-align: middle;\n",
       "    }\n",
       "\n",
       "    .dataframe tbody tr th {\n",
       "        vertical-align: top;\n",
       "    }\n",
       "\n",
       "    .dataframe thead th {\n",
       "        text-align: right;\n",
       "    }\n",
       "</style>\n",
       "<table border=\"1\" class=\"dataframe\">\n",
       "  <thead>\n",
       "    <tr style=\"text-align: right;\">\n",
       "      <th></th>\n",
       "      <th>A</th>\n",
       "      <th>B</th>\n",
       "      <th>C</th>\n",
       "      <th>D</th>\n",
       "      <th>E</th>\n",
       "    </tr>\n",
       "  </thead>\n",
       "  <tbody>\n",
       "    <tr>\n",
       "      <th>1</th>\n",
       "      <td>0.445046</td>\n",
       "      <td>0.473095</td>\n",
       "      <td>0.529301</td>\n",
       "      <td>0.998817</td>\n",
       "      <td>0.539899</td>\n",
       "    </tr>\n",
       "    <tr>\n",
       "      <th>2</th>\n",
       "      <td>0.28987</td>\n",
       "      <td>0.358754</td>\n",
       "      <td>0.642537</td>\n",
       "      <td>0.584303</td>\n",
       "      <td>0.658858</td>\n",
       "    </tr>\n",
       "    <tr>\n",
       "      <th>3</th>\n",
       "      <td>0.449842</td>\n",
       "      <td>0.902752</td>\n",
       "      <td>0.900132</td>\n",
       "      <td>0.587367</td>\n",
       "      <td>0.786077</td>\n",
       "    </tr>\n",
       "    <tr>\n",
       "      <th>4</th>\n",
       "      <td>0.095519</td>\n",
       "      <td>0.695115</td>\n",
       "      <td>0.181204</td>\n",
       "      <td>0.182598</td>\n",
       "      <td>0.599283</td>\n",
       "    </tr>\n",
       "    <tr>\n",
       "      <th>5</th>\n",
       "      <td>0.540634</td>\n",
       "      <td>0.316161</td>\n",
       "      <td>0.389936</td>\n",
       "      <td>0.937718</td>\n",
       "      <td>0.416935</td>\n",
       "    </tr>\n",
       "    <tr>\n",
       "      <th>...</th>\n",
       "      <td>...</td>\n",
       "      <td>...</td>\n",
       "      <td>...</td>\n",
       "      <td>...</td>\n",
       "      <td>...</td>\n",
       "    </tr>\n",
       "    <tr>\n",
       "      <th>329</th>\n",
       "      <td>0.939899</td>\n",
       "      <td>0.459315</td>\n",
       "      <td>0.987056</td>\n",
       "      <td>0.266177</td>\n",
       "      <td>0.590471</td>\n",
       "    </tr>\n",
       "    <tr>\n",
       "      <th>330</th>\n",
       "      <td>0.102026</td>\n",
       "      <td>0.907161</td>\n",
       "      <td>0.646198</td>\n",
       "      <td>0.360035</td>\n",
       "      <td>0.487142</td>\n",
       "    </tr>\n",
       "    <tr>\n",
       "      <th>331</th>\n",
       "      <td>0.292785</td>\n",
       "      <td>0.612258</td>\n",
       "      <td>0.918227</td>\n",
       "      <td>0.428272</td>\n",
       "      <td>0.807383</td>\n",
       "    </tr>\n",
       "    <tr>\n",
       "      <th>332</th>\n",
       "      <td>0.736915</td>\n",
       "      <td>0.524694</td>\n",
       "      <td>0.741653</td>\n",
       "      <td>0.073751</td>\n",
       "      <td>0.985091</td>\n",
       "    </tr>\n",
       "    <tr>\n",
       "      <th>333</th>\n",
       "      <td>0.91393</td>\n",
       "      <td>0.117891</td>\n",
       "      <td>0.766152</td>\n",
       "      <td>0.123394</td>\n",
       "      <td>0.264716</td>\n",
       "    </tr>\n",
       "  </tbody>\n",
       "</table>\n",
       "<p>333 rows × 5 columns</p>\n",
       "</div>"
      ],
      "text/plain": [
       "            A         B         C         D         E\n",
       "1    0.445046  0.473095  0.529301  0.998817  0.539899\n",
       "2     0.28987  0.358754  0.642537  0.584303  0.658858\n",
       "3    0.449842  0.902752  0.900132  0.587367  0.786077\n",
       "4    0.095519  0.695115  0.181204  0.182598  0.599283\n",
       "5    0.540634  0.316161  0.389936  0.937718  0.416935\n",
       "..        ...       ...       ...       ...       ...\n",
       "329  0.939899  0.459315  0.987056  0.266177  0.590471\n",
       "330  0.102026  0.907161  0.646198  0.360035  0.487142\n",
       "331  0.292785  0.612258  0.918227  0.428272  0.807383\n",
       "332  0.736915  0.524694  0.741653  0.073751  0.985091\n",
       "333   0.91393  0.117891  0.766152  0.123394  0.264716\n",
       "\n",
       "[333 rows x 5 columns]"
      ]
     },
     "execution_count": 105,
     "metadata": {},
     "output_type": "execute_result"
    }
   ],
   "source": [
    "newdf.drop([0])"
   ]
  },
  {
   "cell_type": "code",
   "execution_count": 106,
   "id": "61c990ad-b53d-4803-9268-f22de8b0ffdd",
   "metadata": {},
   "outputs": [
    {
     "data": {
      "text/html": [
       "<div>\n",
       "<style scoped>\n",
       "    .dataframe tbody tr th:only-of-type {\n",
       "        vertical-align: middle;\n",
       "    }\n",
       "\n",
       "    .dataframe tbody tr th {\n",
       "        vertical-align: top;\n",
       "    }\n",
       "\n",
       "    .dataframe thead th {\n",
       "        text-align: right;\n",
       "    }\n",
       "</style>\n",
       "<table border=\"1\" class=\"dataframe\">\n",
       "  <thead>\n",
       "    <tr style=\"text-align: right;\">\n",
       "      <th></th>\n",
       "      <th>B</th>\n",
       "      <th>D</th>\n",
       "      <th>E</th>\n",
       "    </tr>\n",
       "  </thead>\n",
       "  <tbody>\n",
       "    <tr>\n",
       "      <th>0</th>\n",
       "      <td>0.685744</td>\n",
       "      <td>0.472823</td>\n",
       "      <td>0.056659</td>\n",
       "    </tr>\n",
       "    <tr>\n",
       "      <th>1</th>\n",
       "      <td>0.473095</td>\n",
       "      <td>0.998817</td>\n",
       "      <td>0.539899</td>\n",
       "    </tr>\n",
       "    <tr>\n",
       "      <th>2</th>\n",
       "      <td>0.358754</td>\n",
       "      <td>0.584303</td>\n",
       "      <td>0.658858</td>\n",
       "    </tr>\n",
       "    <tr>\n",
       "      <th>3</th>\n",
       "      <td>0.902752</td>\n",
       "      <td>0.587367</td>\n",
       "      <td>0.786077</td>\n",
       "    </tr>\n",
       "    <tr>\n",
       "      <th>4</th>\n",
       "      <td>0.695115</td>\n",
       "      <td>0.182598</td>\n",
       "      <td>0.599283</td>\n",
       "    </tr>\n",
       "    <tr>\n",
       "      <th>...</th>\n",
       "      <td>...</td>\n",
       "      <td>...</td>\n",
       "      <td>...</td>\n",
       "    </tr>\n",
       "    <tr>\n",
       "      <th>329</th>\n",
       "      <td>0.459315</td>\n",
       "      <td>0.266177</td>\n",
       "      <td>0.590471</td>\n",
       "    </tr>\n",
       "    <tr>\n",
       "      <th>330</th>\n",
       "      <td>0.907161</td>\n",
       "      <td>0.360035</td>\n",
       "      <td>0.487142</td>\n",
       "    </tr>\n",
       "    <tr>\n",
       "      <th>331</th>\n",
       "      <td>0.612258</td>\n",
       "      <td>0.428272</td>\n",
       "      <td>0.807383</td>\n",
       "    </tr>\n",
       "    <tr>\n",
       "      <th>332</th>\n",
       "      <td>0.524694</td>\n",
       "      <td>0.073751</td>\n",
       "      <td>0.985091</td>\n",
       "    </tr>\n",
       "    <tr>\n",
       "      <th>333</th>\n",
       "      <td>0.117891</td>\n",
       "      <td>0.123394</td>\n",
       "      <td>0.264716</td>\n",
       "    </tr>\n",
       "  </tbody>\n",
       "</table>\n",
       "<p>334 rows × 3 columns</p>\n",
       "</div>"
      ],
      "text/plain": [
       "            B         D         E\n",
       "0    0.685744  0.472823  0.056659\n",
       "1    0.473095  0.998817  0.539899\n",
       "2    0.358754  0.584303  0.658858\n",
       "3    0.902752  0.587367  0.786077\n",
       "4    0.695115  0.182598  0.599283\n",
       "..        ...       ...       ...\n",
       "329  0.459315  0.266177  0.590471\n",
       "330  0.907161  0.360035  0.487142\n",
       "331  0.612258  0.428272  0.807383\n",
       "332  0.524694  0.073751  0.985091\n",
       "333  0.117891  0.123394  0.264716\n",
       "\n",
       "[334 rows x 3 columns]"
      ]
     },
     "execution_count": 106,
     "metadata": {},
     "output_type": "execute_result"
    }
   ],
   "source": [
    "newdf.drop(['A', 'C'], axis=1)"
   ]
  },
  {
   "cell_type": "code",
   "execution_count": 107,
   "id": "49d9cf62-db30-4a89-9a61-a1a46b55fb2b",
   "metadata": {},
   "outputs": [
    {
     "data": {
      "text/html": [
       "<div>\n",
       "<style scoped>\n",
       "    .dataframe tbody tr th:only-of-type {\n",
       "        vertical-align: middle;\n",
       "    }\n",
       "\n",
       "    .dataframe tbody tr th {\n",
       "        vertical-align: top;\n",
       "    }\n",
       "\n",
       "    .dataframe thead th {\n",
       "        text-align: right;\n",
       "    }\n",
       "</style>\n",
       "<table border=\"1\" class=\"dataframe\">\n",
       "  <thead>\n",
       "    <tr style=\"text-align: right;\">\n",
       "      <th></th>\n",
       "      <th>A</th>\n",
       "      <th>B</th>\n",
       "      <th>C</th>\n",
       "      <th>D</th>\n",
       "      <th>E</th>\n",
       "    </tr>\n",
       "  </thead>\n",
       "  <tbody>\n",
       "    <tr>\n",
       "      <th>0</th>\n",
       "      <td>123</td>\n",
       "      <td>0.685744</td>\n",
       "      <td>0.718646</td>\n",
       "      <td>0.472823</td>\n",
       "      <td>0.056659</td>\n",
       "    </tr>\n",
       "    <tr>\n",
       "      <th>1</th>\n",
       "      <td>0.445046</td>\n",
       "      <td>0.473095</td>\n",
       "      <td>0.529301</td>\n",
       "      <td>0.998817</td>\n",
       "      <td>0.539899</td>\n",
       "    </tr>\n",
       "    <tr>\n",
       "      <th>2</th>\n",
       "      <td>0.28987</td>\n",
       "      <td>0.358754</td>\n",
       "      <td>0.642537</td>\n",
       "      <td>0.584303</td>\n",
       "      <td>0.658858</td>\n",
       "    </tr>\n",
       "    <tr>\n",
       "      <th>3</th>\n",
       "      <td>0.449842</td>\n",
       "      <td>0.902752</td>\n",
       "      <td>0.900132</td>\n",
       "      <td>0.587367</td>\n",
       "      <td>0.786077</td>\n",
       "    </tr>\n",
       "    <tr>\n",
       "      <th>4</th>\n",
       "      <td>0.095519</td>\n",
       "      <td>0.695115</td>\n",
       "      <td>0.181204</td>\n",
       "      <td>0.182598</td>\n",
       "      <td>0.599283</td>\n",
       "    </tr>\n",
       "    <tr>\n",
       "      <th>...</th>\n",
       "      <td>...</td>\n",
       "      <td>...</td>\n",
       "      <td>...</td>\n",
       "      <td>...</td>\n",
       "      <td>...</td>\n",
       "    </tr>\n",
       "    <tr>\n",
       "      <th>329</th>\n",
       "      <td>0.939899</td>\n",
       "      <td>0.459315</td>\n",
       "      <td>0.987056</td>\n",
       "      <td>0.266177</td>\n",
       "      <td>0.590471</td>\n",
       "    </tr>\n",
       "    <tr>\n",
       "      <th>330</th>\n",
       "      <td>0.102026</td>\n",
       "      <td>0.907161</td>\n",
       "      <td>0.646198</td>\n",
       "      <td>0.360035</td>\n",
       "      <td>0.487142</td>\n",
       "    </tr>\n",
       "    <tr>\n",
       "      <th>331</th>\n",
       "      <td>0.292785</td>\n",
       "      <td>0.612258</td>\n",
       "      <td>0.918227</td>\n",
       "      <td>0.428272</td>\n",
       "      <td>0.807383</td>\n",
       "    </tr>\n",
       "    <tr>\n",
       "      <th>332</th>\n",
       "      <td>0.736915</td>\n",
       "      <td>0.524694</td>\n",
       "      <td>0.741653</td>\n",
       "      <td>0.073751</td>\n",
       "      <td>0.985091</td>\n",
       "    </tr>\n",
       "    <tr>\n",
       "      <th>333</th>\n",
       "      <td>0.91393</td>\n",
       "      <td>0.117891</td>\n",
       "      <td>0.766152</td>\n",
       "      <td>0.123394</td>\n",
       "      <td>0.264716</td>\n",
       "    </tr>\n",
       "  </tbody>\n",
       "</table>\n",
       "<p>334 rows × 5 columns</p>\n",
       "</div>"
      ],
      "text/plain": [
       "            A         B         C         D         E\n",
       "0         123  0.685744  0.718646  0.472823  0.056659\n",
       "1    0.445046  0.473095  0.529301  0.998817  0.539899\n",
       "2     0.28987  0.358754  0.642537  0.584303  0.658858\n",
       "3    0.449842  0.902752  0.900132  0.587367  0.786077\n",
       "4    0.095519  0.695115  0.181204  0.182598  0.599283\n",
       "..        ...       ...       ...       ...       ...\n",
       "329  0.939899  0.459315  0.987056  0.266177  0.590471\n",
       "330  0.102026  0.907161  0.646198  0.360035  0.487142\n",
       "331  0.292785  0.612258  0.918227  0.428272  0.807383\n",
       "332  0.736915  0.524694  0.741653  0.073751  0.985091\n",
       "333   0.91393  0.117891  0.766152  0.123394  0.264716\n",
       "\n",
       "[334 rows x 5 columns]"
      ]
     },
     "execution_count": 107,
     "metadata": {},
     "output_type": "execute_result"
    }
   ],
   "source": [
    "newdf"
   ]
  },
  {
   "cell_type": "code",
   "execution_count": 108,
   "id": "357c4fb9-e553-40cd-a9bb-bc298681d1f8",
   "metadata": {},
   "outputs": [],
   "source": [
    "newdf.drop(['A', 'D'], axis=1, inplace=True)"
   ]
  },
  {
   "cell_type": "code",
   "execution_count": 109,
   "id": "e663f2ab-6691-4c2f-a392-1cb09157a06b",
   "metadata": {},
   "outputs": [
    {
     "data": {
      "text/html": [
       "<div>\n",
       "<style scoped>\n",
       "    .dataframe tbody tr th:only-of-type {\n",
       "        vertical-align: middle;\n",
       "    }\n",
       "\n",
       "    .dataframe tbody tr th {\n",
       "        vertical-align: top;\n",
       "    }\n",
       "\n",
       "    .dataframe thead th {\n",
       "        text-align: right;\n",
       "    }\n",
       "</style>\n",
       "<table border=\"1\" class=\"dataframe\">\n",
       "  <thead>\n",
       "    <tr style=\"text-align: right;\">\n",
       "      <th></th>\n",
       "      <th>B</th>\n",
       "      <th>C</th>\n",
       "      <th>E</th>\n",
       "    </tr>\n",
       "  </thead>\n",
       "  <tbody>\n",
       "    <tr>\n",
       "      <th>0</th>\n",
       "      <td>0.685744</td>\n",
       "      <td>0.718646</td>\n",
       "      <td>0.056659</td>\n",
       "    </tr>\n",
       "    <tr>\n",
       "      <th>1</th>\n",
       "      <td>0.473095</td>\n",
       "      <td>0.529301</td>\n",
       "      <td>0.539899</td>\n",
       "    </tr>\n",
       "    <tr>\n",
       "      <th>2</th>\n",
       "      <td>0.358754</td>\n",
       "      <td>0.642537</td>\n",
       "      <td>0.658858</td>\n",
       "    </tr>\n",
       "    <tr>\n",
       "      <th>3</th>\n",
       "      <td>0.902752</td>\n",
       "      <td>0.900132</td>\n",
       "      <td>0.786077</td>\n",
       "    </tr>\n",
       "    <tr>\n",
       "      <th>4</th>\n",
       "      <td>0.695115</td>\n",
       "      <td>0.181204</td>\n",
       "      <td>0.599283</td>\n",
       "    </tr>\n",
       "  </tbody>\n",
       "</table>\n",
       "</div>"
      ],
      "text/plain": [
       "          B         C         E\n",
       "0  0.685744  0.718646  0.056659\n",
       "1  0.473095  0.529301  0.539899\n",
       "2  0.358754  0.642537  0.658858\n",
       "3  0.902752  0.900132  0.786077\n",
       "4  0.695115  0.181204  0.599283"
      ]
     },
     "execution_count": 109,
     "metadata": {},
     "output_type": "execute_result"
    }
   ],
   "source": [
    "newdf.head()"
   ]
  },
  {
   "cell_type": "code",
   "execution_count": 110,
   "id": "906b677f-3407-4cf8-97c1-0719e0fcffe0",
   "metadata": {},
   "outputs": [],
   "source": [
    "newdf.drop([1, 5], axis=0, inplace=True)"
   ]
  },
  {
   "cell_type": "code",
   "execution_count": 111,
   "id": "dc4cad8f-2d1d-4644-8c63-9d511f5c1ca2",
   "metadata": {},
   "outputs": [
    {
     "data": {
      "text/html": [
       "<div>\n",
       "<style scoped>\n",
       "    .dataframe tbody tr th:only-of-type {\n",
       "        vertical-align: middle;\n",
       "    }\n",
       "\n",
       "    .dataframe tbody tr th {\n",
       "        vertical-align: top;\n",
       "    }\n",
       "\n",
       "    .dataframe thead th {\n",
       "        text-align: right;\n",
       "    }\n",
       "</style>\n",
       "<table border=\"1\" class=\"dataframe\">\n",
       "  <thead>\n",
       "    <tr style=\"text-align: right;\">\n",
       "      <th></th>\n",
       "      <th>B</th>\n",
       "      <th>C</th>\n",
       "      <th>E</th>\n",
       "    </tr>\n",
       "  </thead>\n",
       "  <tbody>\n",
       "    <tr>\n",
       "      <th>0</th>\n",
       "      <td>0.685744</td>\n",
       "      <td>0.718646</td>\n",
       "      <td>0.056659</td>\n",
       "    </tr>\n",
       "    <tr>\n",
       "      <th>2</th>\n",
       "      <td>0.358754</td>\n",
       "      <td>0.642537</td>\n",
       "      <td>0.658858</td>\n",
       "    </tr>\n",
       "    <tr>\n",
       "      <th>3</th>\n",
       "      <td>0.902752</td>\n",
       "      <td>0.900132</td>\n",
       "      <td>0.786077</td>\n",
       "    </tr>\n",
       "    <tr>\n",
       "      <th>4</th>\n",
       "      <td>0.695115</td>\n",
       "      <td>0.181204</td>\n",
       "      <td>0.599283</td>\n",
       "    </tr>\n",
       "    <tr>\n",
       "      <th>6</th>\n",
       "      <td>0.875272</td>\n",
       "      <td>0.244058</td>\n",
       "      <td>0.652336</td>\n",
       "    </tr>\n",
       "  </tbody>\n",
       "</table>\n",
       "</div>"
      ],
      "text/plain": [
       "          B         C         E\n",
       "0  0.685744  0.718646  0.056659\n",
       "2  0.358754  0.642537  0.658858\n",
       "3  0.902752  0.900132  0.786077\n",
       "4  0.695115  0.181204  0.599283\n",
       "6  0.875272  0.244058  0.652336"
      ]
     },
     "execution_count": 111,
     "metadata": {},
     "output_type": "execute_result"
    }
   ],
   "source": [
    "newdf.head()"
   ]
  },
  {
   "cell_type": "code",
   "execution_count": 112,
   "id": "9f752dcb-6d44-494a-b71d-cc99913bd102",
   "metadata": {},
   "outputs": [],
   "source": [
    "# want to reset index"
   ]
  },
  {
   "cell_type": "code",
   "execution_count": 113,
   "id": "9a7914bd-48c9-4bbd-a0df-820ee3f8d8e7",
   "metadata": {},
   "outputs": [
    {
     "data": {
      "text/html": [
       "<div>\n",
       "<style scoped>\n",
       "    .dataframe tbody tr th:only-of-type {\n",
       "        vertical-align: middle;\n",
       "    }\n",
       "\n",
       "    .dataframe tbody tr th {\n",
       "        vertical-align: top;\n",
       "    }\n",
       "\n",
       "    .dataframe thead th {\n",
       "        text-align: right;\n",
       "    }\n",
       "</style>\n",
       "<table border=\"1\" class=\"dataframe\">\n",
       "  <thead>\n",
       "    <tr style=\"text-align: right;\">\n",
       "      <th></th>\n",
       "      <th>index</th>\n",
       "      <th>B</th>\n",
       "      <th>C</th>\n",
       "      <th>E</th>\n",
       "    </tr>\n",
       "  </thead>\n",
       "  <tbody>\n",
       "    <tr>\n",
       "      <th>0</th>\n",
       "      <td>0</td>\n",
       "      <td>0.685744</td>\n",
       "      <td>0.718646</td>\n",
       "      <td>0.056659</td>\n",
       "    </tr>\n",
       "    <tr>\n",
       "      <th>1</th>\n",
       "      <td>2</td>\n",
       "      <td>0.358754</td>\n",
       "      <td>0.642537</td>\n",
       "      <td>0.658858</td>\n",
       "    </tr>\n",
       "    <tr>\n",
       "      <th>2</th>\n",
       "      <td>3</td>\n",
       "      <td>0.902752</td>\n",
       "      <td>0.900132</td>\n",
       "      <td>0.786077</td>\n",
       "    </tr>\n",
       "    <tr>\n",
       "      <th>3</th>\n",
       "      <td>4</td>\n",
       "      <td>0.695115</td>\n",
       "      <td>0.181204</td>\n",
       "      <td>0.599283</td>\n",
       "    </tr>\n",
       "    <tr>\n",
       "      <th>4</th>\n",
       "      <td>6</td>\n",
       "      <td>0.875272</td>\n",
       "      <td>0.244058</td>\n",
       "      <td>0.652336</td>\n",
       "    </tr>\n",
       "  </tbody>\n",
       "</table>\n",
       "</div>"
      ],
      "text/plain": [
       "   index         B         C         E\n",
       "0      0  0.685744  0.718646  0.056659\n",
       "1      2  0.358754  0.642537  0.658858\n",
       "2      3  0.902752  0.900132  0.786077\n",
       "3      4  0.695115  0.181204  0.599283\n",
       "4      6  0.875272  0.244058  0.652336"
      ]
     },
     "execution_count": 113,
     "metadata": {},
     "output_type": "execute_result"
    }
   ],
   "source": [
    "newdf.reset_index().head()"
   ]
  },
  {
   "cell_type": "code",
   "execution_count": 114,
   "id": "cb8ea985-7ead-4d2c-91af-82c931098c16",
   "metadata": {},
   "outputs": [],
   "source": [
    "newdf.reset_index(drop=True, inplace=True)"
   ]
  },
  {
   "cell_type": "code",
   "execution_count": 115,
   "id": "5ba53b02-e592-4584-9ffd-faea39e41fcb",
   "metadata": {},
   "outputs": [
    {
     "data": {
      "text/html": [
       "<div>\n",
       "<style scoped>\n",
       "    .dataframe tbody tr th:only-of-type {\n",
       "        vertical-align: middle;\n",
       "    }\n",
       "\n",
       "    .dataframe tbody tr th {\n",
       "        vertical-align: top;\n",
       "    }\n",
       "\n",
       "    .dataframe thead th {\n",
       "        text-align: right;\n",
       "    }\n",
       "</style>\n",
       "<table border=\"1\" class=\"dataframe\">\n",
       "  <thead>\n",
       "    <tr style=\"text-align: right;\">\n",
       "      <th></th>\n",
       "      <th>B</th>\n",
       "      <th>C</th>\n",
       "      <th>E</th>\n",
       "    </tr>\n",
       "  </thead>\n",
       "  <tbody>\n",
       "    <tr>\n",
       "      <th>0</th>\n",
       "      <td>0.685744</td>\n",
       "      <td>0.718646</td>\n",
       "      <td>0.056659</td>\n",
       "    </tr>\n",
       "    <tr>\n",
       "      <th>1</th>\n",
       "      <td>0.358754</td>\n",
       "      <td>0.642537</td>\n",
       "      <td>0.658858</td>\n",
       "    </tr>\n",
       "    <tr>\n",
       "      <th>2</th>\n",
       "      <td>0.902752</td>\n",
       "      <td>0.900132</td>\n",
       "      <td>0.786077</td>\n",
       "    </tr>\n",
       "    <tr>\n",
       "      <th>3</th>\n",
       "      <td>0.695115</td>\n",
       "      <td>0.181204</td>\n",
       "      <td>0.599283</td>\n",
       "    </tr>\n",
       "    <tr>\n",
       "      <th>4</th>\n",
       "      <td>0.875272</td>\n",
       "      <td>0.244058</td>\n",
       "      <td>0.652336</td>\n",
       "    </tr>\n",
       "  </tbody>\n",
       "</table>\n",
       "</div>"
      ],
      "text/plain": [
       "          B         C         E\n",
       "0  0.685744  0.718646  0.056659\n",
       "1  0.358754  0.642537  0.658858\n",
       "2  0.902752  0.900132  0.786077\n",
       "3  0.695115  0.181204  0.599283\n",
       "4  0.875272  0.244058  0.652336"
      ]
     },
     "execution_count": 115,
     "metadata": {},
     "output_type": "execute_result"
    }
   ],
   "source": [
    "newdf.head()"
   ]
  },
  {
   "cell_type": "markdown",
   "id": "fc5f2868-85d1-4b4e-ad8a-b3d4778b665f",
   "metadata": {},
   "source": [
    "# Null Concept"
   ]
  },
  {
   "cell_type": "code",
   "execution_count": 117,
   "id": "d553f6a7-9c7d-4b85-b862-72bfded20dae",
   "metadata": {},
   "outputs": [
    {
     "data": {
      "text/plain": [
       "0      False\n",
       "1      False\n",
       "2      False\n",
       "3      False\n",
       "4      False\n",
       "       ...  \n",
       "327    False\n",
       "328    False\n",
       "329    False\n",
       "330    False\n",
       "331    False\n",
       "Name: B, Length: 332, dtype: bool"
      ]
     },
     "execution_count": 117,
     "metadata": {},
     "output_type": "execute_result"
    }
   ],
   "source": [
    "newdf['B'].isnull()"
   ]
  },
  {
   "cell_type": "code",
   "execution_count": 118,
   "id": "83996e53-cb5a-4350-b6e2-6c56fa1d01c1",
   "metadata": {},
   "outputs": [],
   "source": [
    "# Bad practice of assigning null, use .loc"
   ]
  },
  {
   "cell_type": "code",
   "execution_count": 119,
   "id": "82af8b57-87a2-4953-831b-2dfb4fec4f7a",
   "metadata": {},
   "outputs": [],
   "source": [
    "# newdf['B'] = None"
   ]
  },
  {
   "cell_type": "code",
   "execution_count": 120,
   "id": "b1b83902-282c-469c-87e9-73f1fc9f1872",
   "metadata": {},
   "outputs": [],
   "source": [
    "# newdf['B'].isnull()"
   ]
  },
  {
   "cell_type": "code",
   "execution_count": 121,
   "id": "37e9ecbb-95d7-4f9d-a54e-adee65c91bfa",
   "metadata": {},
   "outputs": [],
   "source": [
    "newdf.loc[:, ['B']] = 34"
   ]
  },
  {
   "cell_type": "code",
   "execution_count": 122,
   "id": "536ea0de-67a7-470d-b2ce-31b3c9cdddfb",
   "metadata": {},
   "outputs": [
    {
     "data": {
      "text/html": [
       "<div>\n",
       "<style scoped>\n",
       "    .dataframe tbody tr th:only-of-type {\n",
       "        vertical-align: middle;\n",
       "    }\n",
       "\n",
       "    .dataframe tbody tr th {\n",
       "        vertical-align: top;\n",
       "    }\n",
       "\n",
       "    .dataframe thead th {\n",
       "        text-align: right;\n",
       "    }\n",
       "</style>\n",
       "<table border=\"1\" class=\"dataframe\">\n",
       "  <thead>\n",
       "    <tr style=\"text-align: right;\">\n",
       "      <th></th>\n",
       "      <th>B</th>\n",
       "      <th>C</th>\n",
       "      <th>E</th>\n",
       "    </tr>\n",
       "  </thead>\n",
       "  <tbody>\n",
       "    <tr>\n",
       "      <th>0</th>\n",
       "      <td>34.0</td>\n",
       "      <td>0.718646</td>\n",
       "      <td>0.056659</td>\n",
       "    </tr>\n",
       "    <tr>\n",
       "      <th>1</th>\n",
       "      <td>34.0</td>\n",
       "      <td>0.642537</td>\n",
       "      <td>0.658858</td>\n",
       "    </tr>\n",
       "    <tr>\n",
       "      <th>2</th>\n",
       "      <td>34.0</td>\n",
       "      <td>0.900132</td>\n",
       "      <td>0.786077</td>\n",
       "    </tr>\n",
       "    <tr>\n",
       "      <th>3</th>\n",
       "      <td>34.0</td>\n",
       "      <td>0.181204</td>\n",
       "      <td>0.599283</td>\n",
       "    </tr>\n",
       "    <tr>\n",
       "      <th>4</th>\n",
       "      <td>34.0</td>\n",
       "      <td>0.244058</td>\n",
       "      <td>0.652336</td>\n",
       "    </tr>\n",
       "  </tbody>\n",
       "</table>\n",
       "</div>"
      ],
      "text/plain": [
       "      B         C         E\n",
       "0  34.0  0.718646  0.056659\n",
       "1  34.0  0.642537  0.658858\n",
       "2  34.0  0.900132  0.786077\n",
       "3  34.0  0.181204  0.599283\n",
       "4  34.0  0.244058  0.652336"
      ]
     },
     "execution_count": 122,
     "metadata": {},
     "output_type": "execute_result"
    }
   ],
   "source": [
    "newdf.head()"
   ]
  },
  {
   "cell_type": "code",
   "execution_count": 123,
   "id": "188a3135-c7b4-449a-a2fb-8f7b3e95a0b0",
   "metadata": {},
   "outputs": [],
   "source": [
    "df = pd.DataFrame({\n",
    "    \"name\": ['Alfred', 'Batman', 'Catwoman'],\n",
    "    \"toy\": [np.nan, 'Batmobile', 'Bullwhip'],\n",
    "    \"born\": [pd.NaT, pd.Timestamp(\"1940-04-25\"), pd.NaT]\n",
    "})"
   ]
  },
  {
   "cell_type": "code",
   "execution_count": 124,
   "id": "d8c4b82f-317e-496c-8ffe-3773a3269247",
   "metadata": {},
   "outputs": [
    {
     "data": {
      "text/html": [
       "<div>\n",
       "<style scoped>\n",
       "    .dataframe tbody tr th:only-of-type {\n",
       "        vertical-align: middle;\n",
       "    }\n",
       "\n",
       "    .dataframe tbody tr th {\n",
       "        vertical-align: top;\n",
       "    }\n",
       "\n",
       "    .dataframe thead th {\n",
       "        text-align: right;\n",
       "    }\n",
       "</style>\n",
       "<table border=\"1\" class=\"dataframe\">\n",
       "  <thead>\n",
       "    <tr style=\"text-align: right;\">\n",
       "      <th></th>\n",
       "      <th>name</th>\n",
       "      <th>toy</th>\n",
       "      <th>born</th>\n",
       "    </tr>\n",
       "  </thead>\n",
       "  <tbody>\n",
       "    <tr>\n",
       "      <th>0</th>\n",
       "      <td>Alfred</td>\n",
       "      <td>NaN</td>\n",
       "      <td>NaT</td>\n",
       "    </tr>\n",
       "    <tr>\n",
       "      <th>1</th>\n",
       "      <td>Batman</td>\n",
       "      <td>Batmobile</td>\n",
       "      <td>1940-04-25</td>\n",
       "    </tr>\n",
       "    <tr>\n",
       "      <th>2</th>\n",
       "      <td>Catwoman</td>\n",
       "      <td>Bullwhip</td>\n",
       "      <td>NaT</td>\n",
       "    </tr>\n",
       "  </tbody>\n",
       "</table>\n",
       "</div>"
      ],
      "text/plain": [
       "       name        toy       born\n",
       "0    Alfred        NaN        NaT\n",
       "1    Batman  Batmobile 1940-04-25\n",
       "2  Catwoman   Bullwhip        NaT"
      ]
     },
     "execution_count": 124,
     "metadata": {},
     "output_type": "execute_result"
    }
   ],
   "source": [
    "df"
   ]
  },
  {
   "cell_type": "code",
   "execution_count": 125,
   "id": "97293e53-fe4a-48b4-88ff-999df1b2ed9c",
   "metadata": {},
   "outputs": [],
   "source": [
    "# drop none"
   ]
  },
  {
   "cell_type": "code",
   "execution_count": 126,
   "id": "6f9facd8-876a-4802-b018-a2f01e2b3784",
   "metadata": {},
   "outputs": [
    {
     "data": {
      "text/html": [
       "<div>\n",
       "<style scoped>\n",
       "    .dataframe tbody tr th:only-of-type {\n",
       "        vertical-align: middle;\n",
       "    }\n",
       "\n",
       "    .dataframe tbody tr th {\n",
       "        vertical-align: top;\n",
       "    }\n",
       "\n",
       "    .dataframe thead th {\n",
       "        text-align: right;\n",
       "    }\n",
       "</style>\n",
       "<table border=\"1\" class=\"dataframe\">\n",
       "  <thead>\n",
       "    <tr style=\"text-align: right;\">\n",
       "      <th></th>\n",
       "      <th>name</th>\n",
       "      <th>toy</th>\n",
       "      <th>born</th>\n",
       "    </tr>\n",
       "  </thead>\n",
       "  <tbody>\n",
       "    <tr>\n",
       "      <th>1</th>\n",
       "      <td>Batman</td>\n",
       "      <td>Batmobile</td>\n",
       "      <td>1940-04-25</td>\n",
       "    </tr>\n",
       "  </tbody>\n",
       "</table>\n",
       "</div>"
      ],
      "text/plain": [
       "     name        toy       born\n",
       "1  Batman  Batmobile 1940-04-25"
      ]
     },
     "execution_count": 126,
     "metadata": {},
     "output_type": "execute_result"
    }
   ],
   "source": [
    "df.dropna()"
   ]
  },
  {
   "cell_type": "code",
   "execution_count": 127,
   "id": "9663f309-d4da-4770-bc79-3a41f4cca492",
   "metadata": {},
   "outputs": [],
   "source": [
    "# how = 'all' => if all column or row is NaN"
   ]
  },
  {
   "cell_type": "code",
   "execution_count": 128,
   "id": "803231a3-21c7-45ba-8e8a-e30eaedfcb61",
   "metadata": {},
   "outputs": [
    {
     "data": {
      "text/html": [
       "<div>\n",
       "<style scoped>\n",
       "    .dataframe tbody tr th:only-of-type {\n",
       "        vertical-align: middle;\n",
       "    }\n",
       "\n",
       "    .dataframe tbody tr th {\n",
       "        vertical-align: top;\n",
       "    }\n",
       "\n",
       "    .dataframe thead th {\n",
       "        text-align: right;\n",
       "    }\n",
       "</style>\n",
       "<table border=\"1\" class=\"dataframe\">\n",
       "  <thead>\n",
       "    <tr style=\"text-align: right;\">\n",
       "      <th></th>\n",
       "      <th>name</th>\n",
       "      <th>toy</th>\n",
       "      <th>born</th>\n",
       "    </tr>\n",
       "  </thead>\n",
       "  <tbody>\n",
       "    <tr>\n",
       "      <th>0</th>\n",
       "      <td>Alfred</td>\n",
       "      <td>NaN</td>\n",
       "      <td>NaT</td>\n",
       "    </tr>\n",
       "    <tr>\n",
       "      <th>1</th>\n",
       "      <td>Batman</td>\n",
       "      <td>Batmobile</td>\n",
       "      <td>1940-04-25</td>\n",
       "    </tr>\n",
       "    <tr>\n",
       "      <th>2</th>\n",
       "      <td>Catwoman</td>\n",
       "      <td>Bullwhip</td>\n",
       "      <td>NaT</td>\n",
       "    </tr>\n",
       "  </tbody>\n",
       "</table>\n",
       "</div>"
      ],
      "text/plain": [
       "       name        toy       born\n",
       "0    Alfred        NaN        NaT\n",
       "1    Batman  Batmobile 1940-04-25\n",
       "2  Catwoman   Bullwhip        NaT"
      ]
     },
     "execution_count": 128,
     "metadata": {},
     "output_type": "execute_result"
    }
   ],
   "source": [
    "df.dropna(how = 'all')"
   ]
  },
  {
   "cell_type": "code",
   "execution_count": 129,
   "id": "305e3c32-83ce-4e75-ad05-c4b7cc975342",
   "metadata": {},
   "outputs": [],
   "source": [
    "# how = 'any' => if any of the column or row is NaN"
   ]
  },
  {
   "cell_type": "code",
   "execution_count": 130,
   "id": "d55dc88c-db77-41a9-87de-936778a826b8",
   "metadata": {},
   "outputs": [
    {
     "data": {
      "text/html": [
       "<div>\n",
       "<style scoped>\n",
       "    .dataframe tbody tr th:only-of-type {\n",
       "        vertical-align: middle;\n",
       "    }\n",
       "\n",
       "    .dataframe tbody tr th {\n",
       "        vertical-align: top;\n",
       "    }\n",
       "\n",
       "    .dataframe thead th {\n",
       "        text-align: right;\n",
       "    }\n",
       "</style>\n",
       "<table border=\"1\" class=\"dataframe\">\n",
       "  <thead>\n",
       "    <tr style=\"text-align: right;\">\n",
       "      <th></th>\n",
       "      <th>name</th>\n",
       "      <th>toy</th>\n",
       "      <th>born</th>\n",
       "    </tr>\n",
       "  </thead>\n",
       "  <tbody>\n",
       "    <tr>\n",
       "      <th>1</th>\n",
       "      <td>Batman</td>\n",
       "      <td>Batmobile</td>\n",
       "      <td>1940-04-25</td>\n",
       "    </tr>\n",
       "  </tbody>\n",
       "</table>\n",
       "</div>"
      ],
      "text/plain": [
       "     name        toy       born\n",
       "1  Batman  Batmobile 1940-04-25"
      ]
     },
     "execution_count": 130,
     "metadata": {},
     "output_type": "execute_result"
    }
   ],
   "source": [
    "df.dropna(how = 'any')"
   ]
  },
  {
   "cell_type": "code",
   "execution_count": 131,
   "id": "23650588-b269-45de-8956-5a9f0dfc8715",
   "metadata": {},
   "outputs": [],
   "source": [
    "# lets demo how => all"
   ]
  },
  {
   "cell_type": "code",
   "execution_count": 132,
   "id": "5ee746e9-6fc0-4acb-ab3f-2b2715844806",
   "metadata": {},
   "outputs": [],
   "source": [
    "df = pd.DataFrame({\n",
    "    \"name\": ['Alfred', 'Batman', 'Catwoman'],\n",
    "    \"toy\": [np.nan, np.nan, np.nan],\n",
    "    \"born\": [pd.NaT, pd.Timestamp(\"1940-04-25\"), pd.NaT]\n",
    "})"
   ]
  },
  {
   "cell_type": "code",
   "execution_count": 259,
   "id": "4f94d6b3-5b96-4208-acb0-55f26fd1e3ea",
   "metadata": {},
   "outputs": [
    {
     "data": {
      "text/html": [
       "<div>\n",
       "<style scoped>\n",
       "    .dataframe tbody tr th:only-of-type {\n",
       "        vertical-align: middle;\n",
       "    }\n",
       "\n",
       "    .dataframe tbody tr th {\n",
       "        vertical-align: top;\n",
       "    }\n",
       "\n",
       "    .dataframe thead th {\n",
       "        text-align: right;\n",
       "    }\n",
       "</style>\n",
       "<table border=\"1\" class=\"dataframe\">\n",
       "  <thead>\n",
       "    <tr style=\"text-align: right;\">\n",
       "      <th></th>\n",
       "      <th>name</th>\n",
       "      <th>born</th>\n",
       "    </tr>\n",
       "  </thead>\n",
       "  <tbody>\n",
       "    <tr>\n",
       "      <th>0</th>\n",
       "      <td>Alfred</td>\n",
       "      <td>NaT</td>\n",
       "    </tr>\n",
       "    <tr>\n",
       "      <th>1</th>\n",
       "      <td>Batman</td>\n",
       "      <td>1940-04-25</td>\n",
       "    </tr>\n",
       "    <tr>\n",
       "      <th>2</th>\n",
       "      <td>Catwoman</td>\n",
       "      <td>NaT</td>\n",
       "    </tr>\n",
       "  </tbody>\n",
       "</table>\n",
       "</div>"
      ],
      "text/plain": [
       "       name       born\n",
       "0    Alfred        NaT\n",
       "1    Batman 1940-04-25\n",
       "2  Catwoman        NaT"
      ]
     },
     "execution_count": 259,
     "metadata": {},
     "output_type": "execute_result"
    }
   ],
   "source": [
    "df.dropna(how='all', axis=1)"
   ]
  },
  {
   "cell_type": "code",
   "execution_count": null,
   "id": "ef1430ca-55e4-4e57-afeb-05f14b2027f6",
   "metadata": {},
   "outputs": [],
   "source": [
    "# drop duplicates"
   ]
  },
  {
   "cell_type": "code",
   "execution_count": 261,
   "id": "18f7eeea-9612-41ef-af87-841cf9944c90",
   "metadata": {},
   "outputs": [],
   "source": [
    "dff1 = pd.DataFrame({\n",
    "    \"name\": ['Alfred', 'Batman', 'Alfred'],\n",
    "    \"toy\": [np.nan, 'Batmobile', 'Bullwhip'],\n",
    "    \"born\": [pd.NaT, pd.Timestamp(\"1940-04-25\"), pd.NaT]\n",
    "})"
   ]
  },
  {
   "cell_type": "code",
   "execution_count": 290,
   "id": "78d582b5-7516-4b44-8bbb-7151853924ee",
   "metadata": {},
   "outputs": [
    {
     "data": {
      "text/html": [
       "<div>\n",
       "<style scoped>\n",
       "    .dataframe tbody tr th:only-of-type {\n",
       "        vertical-align: middle;\n",
       "    }\n",
       "\n",
       "    .dataframe tbody tr th {\n",
       "        vertical-align: top;\n",
       "    }\n",
       "\n",
       "    .dataframe thead th {\n",
       "        text-align: right;\n",
       "    }\n",
       "</style>\n",
       "<table border=\"1\" class=\"dataframe\">\n",
       "  <thead>\n",
       "    <tr style=\"text-align: right;\">\n",
       "      <th></th>\n",
       "      <th>name</th>\n",
       "      <th>toy</th>\n",
       "      <th>born</th>\n",
       "    </tr>\n",
       "  </thead>\n",
       "  <tbody>\n",
       "    <tr>\n",
       "      <th>0</th>\n",
       "      <td>Alfred</td>\n",
       "      <td>NaN</td>\n",
       "      <td>NaT</td>\n",
       "    </tr>\n",
       "    <tr>\n",
       "      <th>1</th>\n",
       "      <td>Batman</td>\n",
       "      <td>Batmobile</td>\n",
       "      <td>1940-04-25</td>\n",
       "    </tr>\n",
       "    <tr>\n",
       "      <th>2</th>\n",
       "      <td>Alfred</td>\n",
       "      <td>Bullwhip</td>\n",
       "      <td>NaT</td>\n",
       "    </tr>\n",
       "  </tbody>\n",
       "</table>\n",
       "</div>"
      ],
      "text/plain": [
       "     name        toy       born\n",
       "0  Alfred        NaN        NaT\n",
       "1  Batman  Batmobile 1940-04-25\n",
       "2  Alfred   Bullwhip        NaT"
      ]
     },
     "execution_count": 290,
     "metadata": {},
     "output_type": "execute_result"
    }
   ],
   "source": [
    "dff1"
   ]
  },
  {
   "cell_type": "code",
   "execution_count": 267,
   "id": "f32c6249-61f3-4f65-951b-5aaaecc46be4",
   "metadata": {},
   "outputs": [
    {
     "data": {
      "text/html": [
       "<div>\n",
       "<style scoped>\n",
       "    .dataframe tbody tr th:only-of-type {\n",
       "        vertical-align: middle;\n",
       "    }\n",
       "\n",
       "    .dataframe tbody tr th {\n",
       "        vertical-align: top;\n",
       "    }\n",
       "\n",
       "    .dataframe thead th {\n",
       "        text-align: right;\n",
       "    }\n",
       "</style>\n",
       "<table border=\"1\" class=\"dataframe\">\n",
       "  <thead>\n",
       "    <tr style=\"text-align: right;\">\n",
       "      <th></th>\n",
       "      <th>name</th>\n",
       "      <th>toy</th>\n",
       "      <th>born</th>\n",
       "    </tr>\n",
       "  </thead>\n",
       "  <tbody>\n",
       "    <tr>\n",
       "      <th>0</th>\n",
       "      <td>Alfred</td>\n",
       "      <td>NaN</td>\n",
       "      <td>NaT</td>\n",
       "    </tr>\n",
       "    <tr>\n",
       "      <th>1</th>\n",
       "      <td>Batman</td>\n",
       "      <td>Batmobile</td>\n",
       "      <td>1940-04-25</td>\n",
       "    </tr>\n",
       "  </tbody>\n",
       "</table>\n",
       "</div>"
      ],
      "text/plain": [
       "     name        toy       born\n",
       "0  Alfred        NaN        NaT\n",
       "1  Batman  Batmobile 1940-04-25"
      ]
     },
     "execution_count": 267,
     "metadata": {},
     "output_type": "execute_result"
    }
   ],
   "source": [
    "dff1.drop_duplicates(subset=['name'])"
   ]
  },
  {
   "cell_type": "code",
   "execution_count": 269,
   "id": "4fe2a374-1737-4dc1-a425-46473e599fff",
   "metadata": {},
   "outputs": [],
   "source": [
    "# keep => first or last"
   ]
  },
  {
   "cell_type": "code",
   "execution_count": 271,
   "id": "75f555eb-c8c6-48a3-b285-b4db7ac849be",
   "metadata": {},
   "outputs": [
    {
     "data": {
      "text/html": [
       "<div>\n",
       "<style scoped>\n",
       "    .dataframe tbody tr th:only-of-type {\n",
       "        vertical-align: middle;\n",
       "    }\n",
       "\n",
       "    .dataframe tbody tr th {\n",
       "        vertical-align: top;\n",
       "    }\n",
       "\n",
       "    .dataframe thead th {\n",
       "        text-align: right;\n",
       "    }\n",
       "</style>\n",
       "<table border=\"1\" class=\"dataframe\">\n",
       "  <thead>\n",
       "    <tr style=\"text-align: right;\">\n",
       "      <th></th>\n",
       "      <th>name</th>\n",
       "      <th>toy</th>\n",
       "      <th>born</th>\n",
       "    </tr>\n",
       "  </thead>\n",
       "  <tbody>\n",
       "    <tr>\n",
       "      <th>1</th>\n",
       "      <td>Batman</td>\n",
       "      <td>Batmobile</td>\n",
       "      <td>1940-04-25</td>\n",
       "    </tr>\n",
       "    <tr>\n",
       "      <th>2</th>\n",
       "      <td>Alfred</td>\n",
       "      <td>Bullwhip</td>\n",
       "      <td>NaT</td>\n",
       "    </tr>\n",
       "  </tbody>\n",
       "</table>\n",
       "</div>"
      ],
      "text/plain": [
       "     name        toy       born\n",
       "1  Batman  Batmobile 1940-04-25\n",
       "2  Alfred   Bullwhip        NaT"
      ]
     },
     "execution_count": 271,
     "metadata": {},
     "output_type": "execute_result"
    }
   ],
   "source": [
    "dff1.drop_duplicates(subset=['name'], keep='last')"
   ]
  },
  {
   "cell_type": "code",
   "execution_count": 273,
   "id": "843ce3fc-9db0-4850-aebf-8aadf934c6ea",
   "metadata": {},
   "outputs": [
    {
     "data": {
      "text/html": [
       "<div>\n",
       "<style scoped>\n",
       "    .dataframe tbody tr th:only-of-type {\n",
       "        vertical-align: middle;\n",
       "    }\n",
       "\n",
       "    .dataframe tbody tr th {\n",
       "        vertical-align: top;\n",
       "    }\n",
       "\n",
       "    .dataframe thead th {\n",
       "        text-align: right;\n",
       "    }\n",
       "</style>\n",
       "<table border=\"1\" class=\"dataframe\">\n",
       "  <thead>\n",
       "    <tr style=\"text-align: right;\">\n",
       "      <th></th>\n",
       "      <th>name</th>\n",
       "      <th>toy</th>\n",
       "      <th>born</th>\n",
       "    </tr>\n",
       "  </thead>\n",
       "  <tbody>\n",
       "    <tr>\n",
       "      <th>1</th>\n",
       "      <td>Batman</td>\n",
       "      <td>Batmobile</td>\n",
       "      <td>1940-04-25</td>\n",
       "    </tr>\n",
       "  </tbody>\n",
       "</table>\n",
       "</div>"
      ],
      "text/plain": [
       "     name        toy       born\n",
       "1  Batman  Batmobile 1940-04-25"
      ]
     },
     "execution_count": 273,
     "metadata": {},
     "output_type": "execute_result"
    }
   ],
   "source": [
    "dff1.drop_duplicates(subset=['name'], keep=False)"
   ]
  },
  {
   "cell_type": "markdown",
   "id": "0117551f-00b5-4535-a095-f2f6200c4746",
   "metadata": {},
   "source": [
    "# how to inspect dataset"
   ]
  },
  {
   "cell_type": "code",
   "execution_count": 292,
   "id": "fedd918a-f012-4d5b-893b-dae6636c8699",
   "metadata": {},
   "outputs": [
    {
     "data": {
      "text/html": [
       "<div>\n",
       "<style scoped>\n",
       "    .dataframe tbody tr th:only-of-type {\n",
       "        vertical-align: middle;\n",
       "    }\n",
       "\n",
       "    .dataframe tbody tr th {\n",
       "        vertical-align: top;\n",
       "    }\n",
       "\n",
       "    .dataframe thead th {\n",
       "        text-align: right;\n",
       "    }\n",
       "</style>\n",
       "<table border=\"1\" class=\"dataframe\">\n",
       "  <thead>\n",
       "    <tr style=\"text-align: right;\">\n",
       "      <th></th>\n",
       "      <th>name</th>\n",
       "      <th>toy</th>\n",
       "      <th>born</th>\n",
       "    </tr>\n",
       "  </thead>\n",
       "  <tbody>\n",
       "    <tr>\n",
       "      <th>0</th>\n",
       "      <td>Alfred</td>\n",
       "      <td>NaN</td>\n",
       "      <td>NaT</td>\n",
       "    </tr>\n",
       "    <tr>\n",
       "      <th>1</th>\n",
       "      <td>Batman</td>\n",
       "      <td>Batmobile</td>\n",
       "      <td>1940-04-25</td>\n",
       "    </tr>\n",
       "    <tr>\n",
       "      <th>2</th>\n",
       "      <td>Alfred</td>\n",
       "      <td>Bullwhip</td>\n",
       "      <td>NaT</td>\n",
       "    </tr>\n",
       "  </tbody>\n",
       "</table>\n",
       "</div>"
      ],
      "text/plain": [
       "     name        toy       born\n",
       "0  Alfred        NaN        NaT\n",
       "1  Batman  Batmobile 1940-04-25\n",
       "2  Alfred   Bullwhip        NaT"
      ]
     },
     "execution_count": 292,
     "metadata": {},
     "output_type": "execute_result"
    }
   ],
   "source": [
    "dff1"
   ]
  },
  {
   "cell_type": "code",
   "execution_count": 278,
   "id": "0fd012cb-21b6-48fd-a0f2-635e236643cb",
   "metadata": {},
   "outputs": [
    {
     "data": {
      "text/plain": [
       "(3, 3)"
      ]
     },
     "execution_count": 278,
     "metadata": {},
     "output_type": "execute_result"
    }
   ],
   "source": [
    "dff1.shape"
   ]
  },
  {
   "cell_type": "code",
   "execution_count": 286,
   "id": "a4c09b2c-6cbb-4f5f-b4ef-2b1cd571cad3",
   "metadata": {},
   "outputs": [
    {
     "data": {
      "text/plain": [
       "<bound method DataFrame.info of      name        toy       born\n",
       "0  Alfred        NaN        NaT\n",
       "1  Batman  Batmobile 1940-04-25\n",
       "2  Alfred   Bullwhip        NaT>"
      ]
     },
     "execution_count": 286,
     "metadata": {},
     "output_type": "execute_result"
    }
   ],
   "source": [
    "dff1.info"
   ]
  },
  {
   "cell_type": "code",
   "execution_count": 282,
   "id": "89899c8e-e134-4d63-98fe-de2117ba7ef5",
   "metadata": {},
   "outputs": [],
   "source": [
    "# unique values count"
   ]
  },
  {
   "cell_type": "code",
   "execution_count": 288,
   "id": "f891139a-6711-49c6-8ca8-511ddeaab48b",
   "metadata": {},
   "outputs": [
    {
     "data": {
      "text/plain": [
       "name\n",
       "Alfred    2\n",
       "Batman    1\n",
       "Name: count, dtype: int64"
      ]
     },
     "execution_count": 288,
     "metadata": {},
     "output_type": "execute_result"
    }
   ],
   "source": [
    "dff1['name'].value_counts(dropna=False)"
   ]
  },
  {
   "cell_type": "code",
   "execution_count": 294,
   "id": "5b88c7fe-5490-4f89-91d6-f4aee2937062",
   "metadata": {},
   "outputs": [
    {
     "data": {
      "text/plain": [
       "toy\n",
       "NaN          1\n",
       "Batmobile    1\n",
       "Bullwhip     1\n",
       "Name: count, dtype: int64"
      ]
     },
     "execution_count": 294,
     "metadata": {},
     "output_type": "execute_result"
    }
   ],
   "source": [
    "dff1['toy'].value_counts(dropna=False)"
   ]
  },
  {
   "cell_type": "code",
   "execution_count": 296,
   "id": "b39aae58-4418-4098-b752-137e39e597f7",
   "metadata": {},
   "outputs": [
    {
     "data": {
      "text/plain": [
       "toy\n",
       "Batmobile    1\n",
       "Bullwhip     1\n",
       "Name: count, dtype: int64"
      ]
     },
     "execution_count": 296,
     "metadata": {},
     "output_type": "execute_result"
    }
   ],
   "source": [
    "dff1['toy'].value_counts(dropna=True)"
   ]
  },
  {
   "cell_type": "code",
   "execution_count": 298,
   "id": "4dcccf2f-f7b9-40e3-9851-69264c6599cc",
   "metadata": {},
   "outputs": [
    {
     "data": {
      "text/html": [
       "<div>\n",
       "<style scoped>\n",
       "    .dataframe tbody tr th:only-of-type {\n",
       "        vertical-align: middle;\n",
       "    }\n",
       "\n",
       "    .dataframe tbody tr th {\n",
       "        vertical-align: top;\n",
       "    }\n",
       "\n",
       "    .dataframe thead th {\n",
       "        text-align: right;\n",
       "    }\n",
       "</style>\n",
       "<table border=\"1\" class=\"dataframe\">\n",
       "  <thead>\n",
       "    <tr style=\"text-align: right;\">\n",
       "      <th></th>\n",
       "      <th>name</th>\n",
       "      <th>toy</th>\n",
       "      <th>born</th>\n",
       "    </tr>\n",
       "  </thead>\n",
       "  <tbody>\n",
       "    <tr>\n",
       "      <th>0</th>\n",
       "      <td>False</td>\n",
       "      <td>True</td>\n",
       "      <td>True</td>\n",
       "    </tr>\n",
       "    <tr>\n",
       "      <th>1</th>\n",
       "      <td>False</td>\n",
       "      <td>False</td>\n",
       "      <td>False</td>\n",
       "    </tr>\n",
       "    <tr>\n",
       "      <th>2</th>\n",
       "      <td>False</td>\n",
       "      <td>False</td>\n",
       "      <td>True</td>\n",
       "    </tr>\n",
       "  </tbody>\n",
       "</table>\n",
       "</div>"
      ],
      "text/plain": [
       "    name    toy   born\n",
       "0  False   True   True\n",
       "1  False  False  False\n",
       "2  False  False   True"
      ]
     },
     "execution_count": 298,
     "metadata": {},
     "output_type": "execute_result"
    }
   ],
   "source": [
    "dff1.isnull()"
   ]
  },
  {
   "cell_type": "code",
   "execution_count": 300,
   "id": "9f70bd12-7d5e-4d5d-8c97-6a675fcd5d9c",
   "metadata": {},
   "outputs": [
    {
     "data": {
      "text/html": [
       "<div>\n",
       "<style scoped>\n",
       "    .dataframe tbody tr th:only-of-type {\n",
       "        vertical-align: middle;\n",
       "    }\n",
       "\n",
       "    .dataframe tbody tr th {\n",
       "        vertical-align: top;\n",
       "    }\n",
       "\n",
       "    .dataframe thead th {\n",
       "        text-align: right;\n",
       "    }\n",
       "</style>\n",
       "<table border=\"1\" class=\"dataframe\">\n",
       "  <thead>\n",
       "    <tr style=\"text-align: right;\">\n",
       "      <th></th>\n",
       "      <th>name</th>\n",
       "      <th>toy</th>\n",
       "      <th>born</th>\n",
       "    </tr>\n",
       "  </thead>\n",
       "  <tbody>\n",
       "    <tr>\n",
       "      <th>0</th>\n",
       "      <td>True</td>\n",
       "      <td>False</td>\n",
       "      <td>False</td>\n",
       "    </tr>\n",
       "    <tr>\n",
       "      <th>1</th>\n",
       "      <td>True</td>\n",
       "      <td>True</td>\n",
       "      <td>True</td>\n",
       "    </tr>\n",
       "    <tr>\n",
       "      <th>2</th>\n",
       "      <td>True</td>\n",
       "      <td>True</td>\n",
       "      <td>False</td>\n",
       "    </tr>\n",
       "  </tbody>\n",
       "</table>\n",
       "</div>"
      ],
      "text/plain": [
       "   name    toy   born\n",
       "0  True  False  False\n",
       "1  True   True   True\n",
       "2  True   True  False"
      ]
     },
     "execution_count": 300,
     "metadata": {},
     "output_type": "execute_result"
    }
   ],
   "source": [
    "dff1.notnull()"
   ]
  },
  {
   "cell_type": "markdown",
   "id": "26e9bd9a-500d-4fe9-a5ad-efec6296a0ae",
   "metadata": {},
   "source": [
    "# Question"
   ]
  },
  {
   "cell_type": "markdown",
   "id": "d7f7e171-f88a-4da2-a40f-faa13713ebd8",
   "metadata": {},
   "source": [
    "**create a dataframe which contains only integers with 3 rows and 2 columns**"
   ]
  },
  {
   "cell_type": "markdown",
   "id": "2209c752-1f3b-4aac-be06-28d1aed23337",
   "metadata": {},
   "source": [
    "**And run the following dataframe methods on them:**"
   ]
  },
  {
   "cell_type": "code",
   "execution_count": 328,
   "id": "52dca360-2828-44ef-bc6b-307a6d8fac75",
   "metadata": {},
   "outputs": [],
   "source": [
    "pav = pd.DataFrame({\n",
    "    \"count\": [1, -2, 3, 4],\n",
    "    \"number\": [5, 6, 7, 8]\n",
    "})"
   ]
  },
  {
   "cell_type": "code",
   "execution_count": 330,
   "id": "173ee29c-eaf5-40d5-a433-7f6ba8eebd82",
   "metadata": {},
   "outputs": [
    {
     "data": {
      "text/html": [
       "<div>\n",
       "<style scoped>\n",
       "    .dataframe tbody tr th:only-of-type {\n",
       "        vertical-align: middle;\n",
       "    }\n",
       "\n",
       "    .dataframe tbody tr th {\n",
       "        vertical-align: top;\n",
       "    }\n",
       "\n",
       "    .dataframe thead th {\n",
       "        text-align: right;\n",
       "    }\n",
       "</style>\n",
       "<table border=\"1\" class=\"dataframe\">\n",
       "  <thead>\n",
       "    <tr style=\"text-align: right;\">\n",
       "      <th></th>\n",
       "      <th>count</th>\n",
       "      <th>number</th>\n",
       "    </tr>\n",
       "  </thead>\n",
       "  <tbody>\n",
       "    <tr>\n",
       "      <th>0</th>\n",
       "      <td>1</td>\n",
       "      <td>5</td>\n",
       "    </tr>\n",
       "    <tr>\n",
       "      <th>1</th>\n",
       "      <td>-2</td>\n",
       "      <td>6</td>\n",
       "    </tr>\n",
       "    <tr>\n",
       "      <th>2</th>\n",
       "      <td>3</td>\n",
       "      <td>7</td>\n",
       "    </tr>\n",
       "    <tr>\n",
       "      <th>3</th>\n",
       "      <td>4</td>\n",
       "      <td>8</td>\n",
       "    </tr>\n",
       "  </tbody>\n",
       "</table>\n",
       "</div>"
      ],
      "text/plain": [
       "   count  number\n",
       "0      1       5\n",
       "1     -2       6\n",
       "2      3       7\n",
       "3      4       8"
      ]
     },
     "execution_count": 330,
     "metadata": {},
     "output_type": "execute_result"
    }
   ],
   "source": [
    "pav"
   ]
  },
  {
   "cell_type": "code",
   "execution_count": 332,
   "id": "fe807f8a-b025-4345-814a-07269830aa63",
   "metadata": {},
   "outputs": [
    {
     "data": {
      "text/html": [
       "<div>\n",
       "<style scoped>\n",
       "    .dataframe tbody tr th:only-of-type {\n",
       "        vertical-align: middle;\n",
       "    }\n",
       "\n",
       "    .dataframe tbody tr th {\n",
       "        vertical-align: top;\n",
       "    }\n",
       "\n",
       "    .dataframe thead th {\n",
       "        text-align: right;\n",
       "    }\n",
       "</style>\n",
       "<table border=\"1\" class=\"dataframe\">\n",
       "  <thead>\n",
       "    <tr style=\"text-align: right;\">\n",
       "      <th></th>\n",
       "      <th>count</th>\n",
       "      <th>number</th>\n",
       "    </tr>\n",
       "  </thead>\n",
       "  <tbody>\n",
       "    <tr>\n",
       "      <th>count</th>\n",
       "      <td>4.000000</td>\n",
       "      <td>4.000000</td>\n",
       "    </tr>\n",
       "    <tr>\n",
       "      <th>mean</th>\n",
       "      <td>1.500000</td>\n",
       "      <td>6.500000</td>\n",
       "    </tr>\n",
       "    <tr>\n",
       "      <th>std</th>\n",
       "      <td>2.645751</td>\n",
       "      <td>1.290994</td>\n",
       "    </tr>\n",
       "    <tr>\n",
       "      <th>min</th>\n",
       "      <td>-2.000000</td>\n",
       "      <td>5.000000</td>\n",
       "    </tr>\n",
       "    <tr>\n",
       "      <th>25%</th>\n",
       "      <td>0.250000</td>\n",
       "      <td>5.750000</td>\n",
       "    </tr>\n",
       "    <tr>\n",
       "      <th>50%</th>\n",
       "      <td>2.000000</td>\n",
       "      <td>6.500000</td>\n",
       "    </tr>\n",
       "    <tr>\n",
       "      <th>75%</th>\n",
       "      <td>3.250000</td>\n",
       "      <td>7.250000</td>\n",
       "    </tr>\n",
       "    <tr>\n",
       "      <th>max</th>\n",
       "      <td>4.000000</td>\n",
       "      <td>8.000000</td>\n",
       "    </tr>\n",
       "  </tbody>\n",
       "</table>\n",
       "</div>"
      ],
      "text/plain": [
       "          count    number\n",
       "count  4.000000  4.000000\n",
       "mean   1.500000  6.500000\n",
       "std    2.645751  1.290994\n",
       "min   -2.000000  5.000000\n",
       "25%    0.250000  5.750000\n",
       "50%    2.000000  6.500000\n",
       "75%    3.250000  7.250000\n",
       "max    4.000000  8.000000"
      ]
     },
     "execution_count": 332,
     "metadata": {},
     "output_type": "execute_result"
    }
   ],
   "source": [
    "pav.describe()"
   ]
  },
  {
   "cell_type": "code",
   "execution_count": 334,
   "id": "43df4e6a-b718-4d62-8e86-3c0d40571767",
   "metadata": {},
   "outputs": [
    {
     "data": {
      "text/plain": [
       "count     1.5\n",
       "number    6.5\n",
       "dtype: float64"
      ]
     },
     "execution_count": 334,
     "metadata": {},
     "output_type": "execute_result"
    }
   ],
   "source": [
    "pav.mean()"
   ]
  },
  {
   "cell_type": "code",
   "execution_count": 336,
   "id": "569c479e-0a6b-40e2-a51c-daed070e7375",
   "metadata": {},
   "outputs": [
    {
     "data": {
      "text/html": [
       "<div>\n",
       "<style scoped>\n",
       "    .dataframe tbody tr th:only-of-type {\n",
       "        vertical-align: middle;\n",
       "    }\n",
       "\n",
       "    .dataframe tbody tr th {\n",
       "        vertical-align: top;\n",
       "    }\n",
       "\n",
       "    .dataframe thead th {\n",
       "        text-align: right;\n",
       "    }\n",
       "</style>\n",
       "<table border=\"1\" class=\"dataframe\">\n",
       "  <thead>\n",
       "    <tr style=\"text-align: right;\">\n",
       "      <th></th>\n",
       "      <th>count</th>\n",
       "      <th>number</th>\n",
       "    </tr>\n",
       "  </thead>\n",
       "  <tbody>\n",
       "    <tr>\n",
       "      <th>count</th>\n",
       "      <td>1.00000</td>\n",
       "      <td>0.68313</td>\n",
       "    </tr>\n",
       "    <tr>\n",
       "      <th>number</th>\n",
       "      <td>0.68313</td>\n",
       "      <td>1.00000</td>\n",
       "    </tr>\n",
       "  </tbody>\n",
       "</table>\n",
       "</div>"
      ],
      "text/plain": [
       "          count   number\n",
       "count   1.00000  0.68313\n",
       "number  0.68313  1.00000"
      ]
     },
     "execution_count": 336,
     "metadata": {},
     "output_type": "execute_result"
    }
   ],
   "source": [
    "pav.corr()"
   ]
  },
  {
   "cell_type": "code",
   "execution_count": 338,
   "id": "4bf2a713-13be-4727-9e51-9b71cfd7dab3",
   "metadata": {},
   "outputs": [
    {
     "data": {
      "text/plain": [
       "count     4\n",
       "number    4\n",
       "dtype: int64"
      ]
     },
     "execution_count": 338,
     "metadata": {},
     "output_type": "execute_result"
    }
   ],
   "source": [
    "pav.count()"
   ]
  },
  {
   "cell_type": "code",
   "execution_count": 340,
   "id": "18bbb7b3-f832-458c-94fa-19116b20979e",
   "metadata": {},
   "outputs": [
    {
     "data": {
      "text/plain": [
       "count     4\n",
       "number    8\n",
       "dtype: int64"
      ]
     },
     "execution_count": 340,
     "metadata": {},
     "output_type": "execute_result"
    }
   ],
   "source": [
    "pav.max()"
   ]
  },
  {
   "cell_type": "code",
   "execution_count": 342,
   "id": "1a338a24-0703-48fc-854a-46c10270eb65",
   "metadata": {},
   "outputs": [
    {
     "data": {
      "text/plain": [
       "count    -2\n",
       "number    5\n",
       "dtype: int64"
      ]
     },
     "execution_count": 342,
     "metadata": {},
     "output_type": "execute_result"
    }
   ],
   "source": [
    "pav.min()"
   ]
  },
  {
   "cell_type": "code",
   "execution_count": 344,
   "id": "e279c784-4f75-4e33-bf87-dbe135d5272e",
   "metadata": {},
   "outputs": [
    {
     "data": {
      "text/plain": [
       "count     2.0\n",
       "number    6.5\n",
       "dtype: float64"
      ]
     },
     "execution_count": 344,
     "metadata": {},
     "output_type": "execute_result"
    }
   ],
   "source": [
    "pav.median()"
   ]
  },
  {
   "cell_type": "code",
   "execution_count": 348,
   "id": "38186e65-0787-4cf6-a2ea-5c89822bfef6",
   "metadata": {},
   "outputs": [
    {
     "data": {
      "text/plain": [
       "count     2.645751\n",
       "number    1.290994\n",
       "dtype: float64"
      ]
     },
     "execution_count": 348,
     "metadata": {},
     "output_type": "execute_result"
    }
   ],
   "source": [
    "pav.std()"
   ]
  },
  {
   "cell_type": "markdown",
   "id": "f4beeef1-a9f6-41f1-bf85-4308811f8875",
   "metadata": {},
   "source": [
    "# How to handel excel sheet using pandas"
   ]
  },
  {
   "cell_type": "code",
   "execution_count": 398,
   "id": "a8897a4c-13e7-4034-b64f-6ed5ce277203",
   "metadata": {},
   "outputs": [],
   "source": [
    "data = pd.read_excel('data.xlsx', sheet_name='Sheet 2')"
   ]
  },
  {
   "cell_type": "code",
   "execution_count": 400,
   "id": "33a4260f-ce76-49f4-8087-7c5805a358ed",
   "metadata": {},
   "outputs": [
    {
     "data": {
      "text/html": [
       "<div>\n",
       "<style scoped>\n",
       "    .dataframe tbody tr th:only-of-type {\n",
       "        vertical-align: middle;\n",
       "    }\n",
       "\n",
       "    .dataframe tbody tr th {\n",
       "        vertical-align: top;\n",
       "    }\n",
       "\n",
       "    .dataframe thead th {\n",
       "        text-align: right;\n",
       "    }\n",
       "</style>\n",
       "<table border=\"1\" class=\"dataframe\">\n",
       "  <thead>\n",
       "    <tr style=\"text-align: right;\">\n",
       "      <th></th>\n",
       "      <th>Table 1</th>\n",
       "      <th>Unnamed: 1</th>\n",
       "      <th>Unnamed: 2</th>\n",
       "    </tr>\n",
       "  </thead>\n",
       "  <tbody>\n",
       "    <tr>\n",
       "      <th>0</th>\n",
       "      <td>train no.2</td>\n",
       "      <td>Speed2</td>\n",
       "      <td>City2</td>\n",
       "    </tr>\n",
       "    <tr>\n",
       "      <th>1</th>\n",
       "      <td>234</td>\n",
       "      <td>458</td>\n",
       "      <td>Bangalore</td>\n",
       "    </tr>\n",
       "    <tr>\n",
       "      <th>2</th>\n",
       "      <td>766</td>\n",
       "      <td>789</td>\n",
       "      <td>Hyderabad</td>\n",
       "    </tr>\n",
       "    <tr>\n",
       "      <th>3</th>\n",
       "      <td>112</td>\n",
       "      <td>231</td>\n",
       "      <td>Mumbai</td>\n",
       "    </tr>\n",
       "    <tr>\n",
       "      <th>4</th>\n",
       "      <td>991</td>\n",
       "      <td>344</td>\n",
       "      <td>Rajesthan</td>\n",
       "    </tr>\n",
       "  </tbody>\n",
       "</table>\n",
       "</div>"
      ],
      "text/plain": [
       "      Table 1 Unnamed: 1 Unnamed: 2\n",
       "0  train no.2     Speed2      City2\n",
       "1         234        458  Bangalore\n",
       "2         766        789  Hyderabad\n",
       "3         112        231     Mumbai\n",
       "4         991        344  Rajesthan"
      ]
     },
     "execution_count": 400,
     "metadata": {},
     "output_type": "execute_result"
    }
   ],
   "source": [
    "data"
   ]
  },
  {
   "cell_type": "code",
   "execution_count": 402,
   "id": "9810fc19-43ba-47be-ab67-18dc90b822c5",
   "metadata": {},
   "outputs": [],
   "source": [
    "# to_excel"
   ]
  },
  {
   "cell_type": "code",
   "execution_count": 418,
   "id": "364cfe10-8868-49da-a19c-16ee349489da",
   "metadata": {},
   "outputs": [],
   "source": [
    "data.iloc[1, 0] = 34"
   ]
  },
  {
   "cell_type": "code",
   "execution_count": 420,
   "id": "a16710db-b1bd-4a59-976e-d264088e08aa",
   "metadata": {},
   "outputs": [
    {
     "data": {
      "text/html": [
       "<div>\n",
       "<style scoped>\n",
       "    .dataframe tbody tr th:only-of-type {\n",
       "        vertical-align: middle;\n",
       "    }\n",
       "\n",
       "    .dataframe tbody tr th {\n",
       "        vertical-align: top;\n",
       "    }\n",
       "\n",
       "    .dataframe thead th {\n",
       "        text-align: right;\n",
       "    }\n",
       "</style>\n",
       "<table border=\"1\" class=\"dataframe\">\n",
       "  <thead>\n",
       "    <tr style=\"text-align: right;\">\n",
       "      <th></th>\n",
       "      <th>Table 1</th>\n",
       "      <th>Unnamed: 1</th>\n",
       "      <th>Unnamed: 2</th>\n",
       "    </tr>\n",
       "  </thead>\n",
       "  <tbody>\n",
       "    <tr>\n",
       "      <th>0</th>\n",
       "      <td>train no.2</td>\n",
       "      <td>Speed2</td>\n",
       "      <td>City2</td>\n",
       "    </tr>\n",
       "    <tr>\n",
       "      <th>1</th>\n",
       "      <td>34</td>\n",
       "      <td>34</td>\n",
       "      <td>Bangalore</td>\n",
       "    </tr>\n",
       "    <tr>\n",
       "      <th>2</th>\n",
       "      <td>766</td>\n",
       "      <td>789</td>\n",
       "      <td>Hyderabad</td>\n",
       "    </tr>\n",
       "    <tr>\n",
       "      <th>3</th>\n",
       "      <td>112</td>\n",
       "      <td>231</td>\n",
       "      <td>Mumbai</td>\n",
       "    </tr>\n",
       "    <tr>\n",
       "      <th>4</th>\n",
       "      <td>991</td>\n",
       "      <td>344</td>\n",
       "      <td>Rajesthan</td>\n",
       "    </tr>\n",
       "  </tbody>\n",
       "</table>\n",
       "</div>"
      ],
      "text/plain": [
       "      Table 1 Unnamed: 1 Unnamed: 2\n",
       "0  train no.2     Speed2      City2\n",
       "1          34         34  Bangalore\n",
       "2         766        789  Hyderabad\n",
       "3         112        231     Mumbai\n",
       "4         991        344  Rajesthan"
      ]
     },
     "execution_count": 420,
     "metadata": {},
     "output_type": "execute_result"
    }
   ],
   "source": [
    "data"
   ]
  },
  {
   "cell_type": "code",
   "execution_count": 422,
   "id": "ef3e7442-fb52-4123-a99b-5bd30a85abb3",
   "metadata": {},
   "outputs": [],
   "source": [
    "# write on that excel sheet"
   ]
  },
  {
   "cell_type": "code",
   "execution_count": 332,
   "id": "90beb7d1-72a2-4fa8-a6bb-1bca674f290d",
   "metadata": {},
   "outputs": [],
   "source": [
    "data.to_excel('data.xlsx', sheet_name='Sheet 2')"
   ]
  },
  {
   "cell_type": "code",
   "execution_count": 334,
   "id": "3b728c63-4dec-4b84-b2ce-97407d2f0091",
   "metadata": {},
   "outputs": [
    {
     "data": {
      "text/html": [
       "<div>\n",
       "<style scoped>\n",
       "    .dataframe tbody tr th:only-of-type {\n",
       "        vertical-align: middle;\n",
       "    }\n",
       "\n",
       "    .dataframe tbody tr th {\n",
       "        vertical-align: top;\n",
       "    }\n",
       "\n",
       "    .dataframe thead th {\n",
       "        text-align: right;\n",
       "    }\n",
       "</style>\n",
       "<table border=\"1\" class=\"dataframe\">\n",
       "  <thead>\n",
       "    <tr style=\"text-align: right;\">\n",
       "      <th></th>\n",
       "      <th>Unnamed: 0.1</th>\n",
       "      <th>Unnamed: 0</th>\n",
       "      <th>Table 1</th>\n",
       "      <th>Unnamed: 1</th>\n",
       "      <th>Unnamed: 2</th>\n",
       "    </tr>\n",
       "  </thead>\n",
       "  <tbody>\n",
       "    <tr>\n",
       "      <th>0</th>\n",
       "      <td>0</td>\n",
       "      <td>0</td>\n",
       "      <td>train no.2</td>\n",
       "      <td>Speed2</td>\n",
       "      <td>City2</td>\n",
       "    </tr>\n",
       "    <tr>\n",
       "      <th>1</th>\n",
       "      <td>34</td>\n",
       "      <td>34</td>\n",
       "      <td>34</td>\n",
       "      <td>34</td>\n",
       "      <td>Bangalore</td>\n",
       "    </tr>\n",
       "    <tr>\n",
       "      <th>2</th>\n",
       "      <td>2</td>\n",
       "      <td>2</td>\n",
       "      <td>766</td>\n",
       "      <td>789</td>\n",
       "      <td>Hyderabad</td>\n",
       "    </tr>\n",
       "    <tr>\n",
       "      <th>3</th>\n",
       "      <td>3</td>\n",
       "      <td>3</td>\n",
       "      <td>112</td>\n",
       "      <td>231</td>\n",
       "      <td>Mumbai</td>\n",
       "    </tr>\n",
       "    <tr>\n",
       "      <th>4</th>\n",
       "      <td>4</td>\n",
       "      <td>4</td>\n",
       "      <td>991</td>\n",
       "      <td>344</td>\n",
       "      <td>Rajesthan</td>\n",
       "    </tr>\n",
       "  </tbody>\n",
       "</table>\n",
       "</div>"
      ],
      "text/plain": [
       "   Unnamed: 0.1  Unnamed: 0     Table 1 Unnamed: 1 Unnamed: 2\n",
       "0             0           0  train no.2     Speed2      City2\n",
       "1            34          34          34         34  Bangalore\n",
       "2             2           2         766        789  Hyderabad\n",
       "3             3           3         112        231     Mumbai\n",
       "4             4           4         991        344  Rajesthan"
      ]
     },
     "execution_count": 334,
     "metadata": {},
     "output_type": "execute_result"
    }
   ],
   "source": [
    "data"
   ]
  }
 ],
 "metadata": {
  "kernelspec": {
   "display_name": "Python 3 (ipykernel)",
   "language": "python",
   "name": "python3"
  },
  "language_info": {
   "codemirror_mode": {
    "name": "ipython",
    "version": 3
   },
   "file_extension": ".py",
   "mimetype": "text/x-python",
   "name": "python",
   "nbconvert_exporter": "python",
   "pygments_lexer": "ipython3",
   "version": "3.12.7"
  }
 },
 "nbformat": 4,
 "nbformat_minor": 5
}
